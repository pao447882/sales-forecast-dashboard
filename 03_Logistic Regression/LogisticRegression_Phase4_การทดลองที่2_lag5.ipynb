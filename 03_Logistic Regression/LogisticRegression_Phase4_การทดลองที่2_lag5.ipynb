{
 "cells": [
  {
   "cell_type": "markdown",
   "metadata": {
    "id": "tApRzyEPmW0j"
   },
   "source": [
    "#Import"
   ]
  },
  {
   "cell_type": "code",
   "execution_count": null,
   "metadata": {
    "colab": {
     "base_uri": "https://localhost:8080/"
    },
    "executionInfo": {
     "elapsed": 27986,
     "status": "ok",
     "timestamp": 1750171368243,
     "user": {
      "displayName": "Thanan Kangsawiwat",
      "userId": "06026257672126219511"
     },
     "user_tz": -420
    },
    "id": "ktg2E2iMnROV",
    "outputId": "16b31e81-6ec0-4a04-d65b-b8e8313c3a39"
   },
   "outputs": [],
   "source": [
    "from google.colab import drive\n",
    "drive.mount('/content/drive')"
   ]
  },
  {
   "cell_type": "code",
   "execution_count": null,
   "metadata": {
    "executionInfo": {
     "elapsed": 1852,
     "status": "ok",
     "timestamp": 1750171370092,
     "user": {
      "displayName": "Thanan Kangsawiwat",
      "userId": "06026257672126219511"
     },
     "user_tz": -420
    },
    "id": "RcRFqW6KmwZR"
   },
   "outputs": [],
   "source": [
    "import pandas as pd\n",
    "import numpy as np\n",
    "import matplotlib.pyplot as plt\n",
    "import seaborn as sns\n",
    "from sklearn.linear_model import LogisticRegression\n",
    "from sklearn.metrics import mean_squared_error, mean_absolute_error\n",
    "from sklearn.metrics import classification_report,f1_score, confusion_matrix, accuracy_score"
   ]
  },
  {
   "cell_type": "code",
   "execution_count": null,
   "metadata": {
    "colab": {
     "base_uri": "https://localhost:8080/",
     "height": 342
    },
    "executionInfo": {
     "elapsed": 1974,
     "status": "ok",
     "timestamp": 1750171372065,
     "user": {
      "displayName": "Thanan Kangsawiwat",
      "userId": "06026257672126219511"
     },
     "user_tz": -420
    },
    "id": "FgwPPKklnOsP",
    "outputId": "e09b3d4b-961f-4dee-d9b9-b9eb2bc99123"
   },
   "outputs": [],
   "source": [
    "df = pd.read_csv('/content/drive/MyDrive/swuds/t5_thesis/98_progress/dataset/nd_sales_LogisticRegression_base.csv')\n",
    "df.head()"
   ]
  },
  {
   "cell_type": "markdown",
   "metadata": {
    "id": "EuR-V4sXn73r"
   },
   "source": [
    "#Preprocess"
   ]
  },
  {
   "cell_type": "code",
   "execution_count": null,
   "metadata": {
    "executionInfo": {
     "elapsed": 8,
     "status": "ok",
     "timestamp": 1750171372075,
     "user": {
      "displayName": "Thanan Kangsawiwat",
      "userId": "06026257672126219511"
     },
     "user_tz": -420
    },
    "id": "C1yhpLB-ofrE"
   },
   "outputs": [],
   "source": [
    "df['date'] = pd.to_datetime(df['date'])\n",
    "df = df.set_index('date')"
   ]
  },
  {
   "cell_type": "code",
   "execution_count": null,
   "metadata": {
    "executionInfo": {
     "elapsed": 15,
     "status": "ok",
     "timestamp": 1750171372091,
     "user": {
      "displayName": "Thanan Kangsawiwat",
      "userId": "06026257672126219511"
     },
     "user_tz": -420
    },
    "id": "-HLFGJ_aowuQ"
   },
   "outputs": [],
   "source": [
    "df['lag_1'] = df['sales_sum'].shift(1)\n",
    "df['lag_2'] = df['sales_sum'].shift(2)\n",
    "df['lag_3'] = df['sales_sum'].shift(3)\n",
    "df['lag_4'] = df['sales_sum'].shift(4)\n",
    "df['lag_5'] = df['sales_sum'].shift(5)\n",
    "df['lag_6'] = df['sales_sum'].shift(6)\n",
    "df['lag_7'] = df['sales_sum'].shift(7)"
   ]
  },
  {
   "cell_type": "code",
   "execution_count": null,
   "metadata": {
    "colab": {
     "base_uri": "https://localhost:8080/",
     "height": 373
    },
    "executionInfo": {
     "elapsed": 115,
     "status": "ok",
     "timestamp": 1750171372204,
     "user": {
      "displayName": "Thanan Kangsawiwat",
      "userId": "06026257672126219511"
     },
     "user_tz": -420
    },
    "id": "Zt1o0ooSo3fa",
    "outputId": "9d3abb40-49e9-47b5-b7e5-23f6b7210018"
   },
   "outputs": [],
   "source": [
    "df.dropna(inplace=True)\n",
    "df.head()"
   ]
  },
  {
   "cell_type": "code",
   "execution_count": null,
   "metadata": {
    "colab": {
     "base_uri": "https://localhost:8080/",
     "height": 648
    },
    "executionInfo": {
     "elapsed": 99,
     "status": "ok",
     "timestamp": 1750171372304,
     "user": {
      "displayName": "Thanan Kangsawiwat",
      "userId": "06026257672126219511"
     },
     "user_tz": -420
    },
    "id": "oFkfTvyAo6ZL",
    "outputId": "3e91946f-6b1f-4276-8628-d0cc6545009f"
   },
   "outputs": [],
   "source": [
    "df_train_window = df.tail(187)\n",
    "df_train_window"
   ]
  },
  {
   "cell_type": "code",
   "execution_count": null,
   "metadata": {
    "colab": {
     "base_uri": "https://localhost:8080/"
    },
    "executionInfo": {
     "elapsed": 7,
     "status": "ok",
     "timestamp": 1750171372313,
     "user": {
      "displayName": "Thanan Kangsawiwat",
      "userId": "06026257672126219511"
     },
     "user_tz": -420
    },
    "id": "L7AzhLDTo-xk",
    "outputId": "d3375d0c-c85f-4140-a61e-adbb550db70f"
   },
   "outputs": [],
   "source": [
    "threshold = np.percentile(df_train_window['sales_sum'], 66)\n",
    "threshold"
   ]
  },
  {
   "cell_type": "code",
   "execution_count": null,
   "metadata": {
    "colab": {
     "base_uri": "https://localhost:8080/",
     "height": 477
    },
    "executionInfo": {
     "elapsed": 45,
     "status": "ok",
     "timestamp": 1750171372356,
     "user": {
      "displayName": "Thanan Kangsawiwat",
      "userId": "06026257672126219511"
     },
     "user_tz": -420
    },
    "id": "POhqjz3opZuX",
    "outputId": "5d920a14-3c71-441c-e275-f735eb89ad79"
   },
   "outputs": [],
   "source": [
    "df_train_window['is_hotseller'] = np.where(df_train_window['sales_sum'] >= threshold, 1, 0)\n",
    "df_train_window.head()"
   ]
  },
  {
   "cell_type": "code",
   "execution_count": null,
   "metadata": {
    "colab": {
     "base_uri": "https://localhost:8080/"
    },
    "executionInfo": {
     "elapsed": 5,
     "status": "ok",
     "timestamp": 1750171372362,
     "user": {
      "displayName": "Thanan Kangsawiwat",
      "userId": "06026257672126219511"
     },
     "user_tz": -420
    },
    "id": "_B3CTaE0p2tU",
    "outputId": "44796692-1d5c-4234-8a5c-c3d1849c0b60"
   },
   "outputs": [],
   "source": [
    "# นับจำนวน is_hot_seller ที่เป็น 1 และ 0\n",
    "is_hotseller_counts = df_train_window['is_hotseller'].value_counts()\n",
    "\n",
    "print(\"จำนวน is_hotseller ที่เป็น 1:\", is_hotseller_counts.get(1, 0))\n",
    "print(\"จำนวน is_hotseller ที่เป็น 0:\", is_hotseller_counts.get(0, 0))"
   ]
  },
  {
   "cell_type": "code",
   "execution_count": null,
   "metadata": {
    "colab": {
     "base_uri": "https://localhost:8080/",
     "height": 519
    },
    "executionInfo": {
     "elapsed": 34,
     "status": "ok",
     "timestamp": 1750171372398,
     "user": {
      "displayName": "Thanan Kangsawiwat",
      "userId": "06026257672126219511"
     },
     "user_tz": -420
    },
    "id": "aEw65Gqssr9l",
    "outputId": "6e12764c-65bb-4406-97a3-167ee66b16ca"
   },
   "outputs": [],
   "source": [
    "df_train_window.tail(8)"
   ]
  },
  {
   "cell_type": "code",
   "execution_count": null,
   "metadata": {
    "executionInfo": {
     "elapsed": 30,
     "status": "ok",
     "timestamp": 1750171372429,
     "user": {
      "displayName": "Thanan Kangsawiwat",
      "userId": "06026257672126219511"
     },
     "user_tz": -420
    },
    "id": "uyYv0a3NtblD"
   },
   "outputs": [],
   "source": [
    "df_train_window = df_train_window.reindex(columns=['is_hotseller', 'lag_1', 'lag_2', 'lag_3', 'lag_4', 'lag_5'])"
   ]
  },
  {
   "cell_type": "code",
   "execution_count": null,
   "metadata": {
    "colab": {
     "base_uri": "https://localhost:8080/"
    },
    "executionInfo": {
     "elapsed": 16,
     "status": "ok",
     "timestamp": 1750171372431,
     "user": {
      "displayName": "Thanan Kangsawiwat",
      "userId": "06026257672126219511"
     },
     "user_tz": -420
    },
    "id": "L9Q4pCyHuGpe",
    "outputId": "fb003f25-8665-4408-e2ea-637fc0a495f0"
   },
   "outputs": [],
   "source": [
    "test_data = df_train_window.tail(7)\n",
    "train_data = df_train_window.head(180)\n",
    "\n",
    "print(\"Test Data:\")\n",
    "print(test_data)\n",
    "\n",
    "print(\"\\nTrain Data:\")\n",
    "print(train_data)"
   ]
  },
  {
   "cell_type": "code",
   "execution_count": null,
   "metadata": {
    "executionInfo": {
     "elapsed": 6,
     "status": "ok",
     "timestamp": 1750171372431,
     "user": {
      "displayName": "Thanan Kangsawiwat",
      "userId": "06026257672126219511"
     },
     "user_tz": -420
    },
    "id": "QPkk-vxDuYig"
   },
   "outputs": [],
   "source": [
    "X = train_data[['lag_1', 'lag_2', 'lag_3', 'lag_4', 'lag_5']]\n",
    "y = train_data['is_hotseller']"
   ]
  },
  {
   "cell_type": "markdown",
   "metadata": {
    "id": "fiEQiRvwulXG"
   },
   "source": [
    "#Train"
   ]
  },
  {
   "cell_type": "markdown",
   "metadata": {
    "id": "583X4-kGupbC"
   },
   "source": [
    "มีความจำเป็นต้องกำหนด class_weight='balanced' เนื่องจากปัญหา Imbalance target ซึ่งเกิดจากการต้องการแยกวันสำคัญ ซึ่งคือวันขายดีกว่าปกติ ซึ่งเป็นส่วนน้อย"
   ]
  },
  {
   "cell_type": "code",
   "execution_count": null,
   "metadata": {
    "colab": {
     "base_uri": "https://localhost:8080/",
     "height": 80
    },
    "executionInfo": {
     "elapsed": 47,
     "status": "ok",
     "timestamp": 1750171372474,
     "user": {
      "displayName": "Thanan Kangsawiwat",
      "userId": "06026257672126219511"
     },
     "user_tz": -420
    },
    "id": "gM1GyWAjumSO",
    "outputId": "17fc5e9a-d48e-468d-93f0-bec74356dea9"
   },
   "outputs": [],
   "source": [
    "# เพิ่ม class_weight='balanced' เข้าไป\n",
    "#model = LogisticRegression(class_weight='balanced')\n",
    "model = LogisticRegression()\n",
    "model.fit(X, y)"
   ]
  },
  {
   "cell_type": "code",
   "execution_count": null,
   "metadata": {
    "colab": {
     "base_uri": "https://localhost:8080/"
    },
    "executionInfo": {
     "elapsed": 21,
     "status": "ok",
     "timestamp": 1750171372475,
     "user": {
      "displayName": "Thanan Kangsawiwat",
      "userId": "06026257672126219511"
     },
     "user_tz": -420
    },
    "id": "qWJkqXMWvMT3",
    "outputId": "c978ab1d-23c7-4ae5-b224-14e4f3fc0427"
   },
   "outputs": [],
   "source": [
    "X_test = test_data[['lag_1', 'lag_2', 'lag_3', 'lag_4', 'lag_5']]\n",
    "predictions = model.predict(X_test)\n",
    "\n",
    "# Print the predictions\n",
    "print(\"\\nPredictions:\")\n",
    "predictions"
   ]
  },
  {
   "cell_type": "markdown",
   "metadata": {
    "id": "bBE69pCRvQzs"
   },
   "source": [
    "#Evaluate"
   ]
  },
  {
   "cell_type": "code",
   "execution_count": null,
   "metadata": {
    "executionInfo": {
     "elapsed": 12,
     "status": "ok",
     "timestamp": 1750171372476,
     "user": {
      "displayName": "Thanan Kangsawiwat",
      "userId": "06026257672126219511"
     },
     "user_tz": -420
    },
    "id": "-m0TIRXTvSZm"
   },
   "outputs": [],
   "source": [
    "y_test = test_data['is_hotseller']"
   ]
  },
  {
   "cell_type": "code",
   "execution_count": null,
   "metadata": {
    "colab": {
     "base_uri": "https://localhost:8080/"
    },
    "executionInfo": {
     "elapsed": 8,
     "status": "ok",
     "timestamp": 1750171372481,
     "user": {
      "displayName": "Thanan Kangsawiwat",
      "userId": "06026257672126219511"
     },
     "user_tz": -420
    },
    "id": "IEXGkZpH16b6",
    "outputId": "437724f0-2ca6-4999-9539-b56443b16f5b"
   },
   "outputs": [],
   "source": [
    "# คำนวณ Confusion Matrix\n",
    "cm = confusion_matrix(y_test, predictions)\n",
    "\n",
    "# แสดง Confusion Matrix\n",
    "print(\"\\nConfusion Matrix:\")\n",
    "print(cm)"
   ]
  },
  {
   "cell_type": "code",
   "execution_count": null,
   "metadata": {
    "colab": {
     "base_uri": "https://localhost:8080/"
    },
    "executionInfo": {
     "elapsed": 8,
     "status": "ok",
     "timestamp": 1750171372490,
     "user": {
      "displayName": "Thanan Kangsawiwat",
      "userId": "06026257672126219511"
     },
     "user_tz": -420
    },
    "id": "zAa7BORCwoeO",
    "outputId": "0362a657-1c46-47cc-f13d-c0e1502c6eba"
   },
   "outputs": [],
   "source": [
    "print(\"\\nClassification Report:\")\n",
    "print(classification_report(y_test, predictions))"
   ]
  }
 ],
 "metadata": {
  "colab": {
   "authorship_tag": "ABX9TyO5bB49HZC8vLmdqMt90KWk",
   "provenance": []
  },
  "kernelspec": {
   "display_name": "Python 3",
   "name": "python3"
  },
  "language_info": {
   "name": "python"
  }
 },
 "nbformat": 4,
 "nbformat_minor": 0
}
