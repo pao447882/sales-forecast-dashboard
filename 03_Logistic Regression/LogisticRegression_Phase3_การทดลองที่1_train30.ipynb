{
 "cells": [
  {
   "cell_type": "markdown",
   "metadata": {
    "id": "tApRzyEPmW0j"
   },
   "source": [
    "#Import"
   ]
  },
  {
   "cell_type": "code",
   "execution_count": null,
   "metadata": {
    "colab": {
     "base_uri": "https://localhost:8080/"
    },
    "executionInfo": {
     "elapsed": 17207,
     "status": "ok",
     "timestamp": 1750166349452,
     "user": {
      "displayName": "Thanan Kangsawiwat",
      "userId": "06026257672126219511"
     },
     "user_tz": -420
    },
    "id": "ktg2E2iMnROV",
    "outputId": "38610196-9100-4ce4-f9e6-b0cd46ab074f"
   },
   "outputs": [],
   "source": [
    "from google.colab import drive\n",
    "drive.mount('/content/drive')"
   ]
  },
  {
   "cell_type": "code",
   "execution_count": null,
   "metadata": {
    "executionInfo": {
     "elapsed": 2113,
     "status": "ok",
     "timestamp": 1750166351563,
     "user": {
      "displayName": "Thanan Kangsawiwat",
      "userId": "06026257672126219511"
     },
     "user_tz": -420
    },
    "id": "RcRFqW6KmwZR"
   },
   "outputs": [],
   "source": [
    "import pandas as pd\n",
    "import numpy as np\n",
    "import matplotlib.pyplot as plt\n",
    "import seaborn as sns\n",
    "from sklearn.linear_model import LogisticRegression\n",
    "from sklearn.metrics import mean_squared_error, mean_absolute_error\n",
    "from sklearn.metrics import classification_report,f1_score, confusion_matrix, accuracy_score"
   ]
  },
  {
   "cell_type": "code",
   "execution_count": null,
   "metadata": {
    "colab": {
     "base_uri": "https://localhost:8080/",
     "height": 342
    },
    "executionInfo": {
     "elapsed": 3561,
     "status": "ok",
     "timestamp": 1750166355125,
     "user": {
      "displayName": "Thanan Kangsawiwat",
      "userId": "06026257672126219511"
     },
     "user_tz": -420
    },
    "id": "FgwPPKklnOsP",
    "outputId": "058e5de2-d42b-4ab5-cf10-df97693acf87"
   },
   "outputs": [],
   "source": [
    "df = pd.read_csv('/content/drive/MyDrive/swuds/t5_thesis/98_progress/dataset/nd_sales_LogisticRegression_base.csv')\n",
    "df.head()"
   ]
  },
  {
   "cell_type": "markdown",
   "metadata": {
    "id": "EuR-V4sXn73r"
   },
   "source": [
    "#Preprocess"
   ]
  },
  {
   "cell_type": "code",
   "execution_count": null,
   "metadata": {
    "executionInfo": {
     "elapsed": 1,
     "status": "ok",
     "timestamp": 1750166355136,
     "user": {
      "displayName": "Thanan Kangsawiwat",
      "userId": "06026257672126219511"
     },
     "user_tz": -420
    },
    "id": "C1yhpLB-ofrE"
   },
   "outputs": [],
   "source": [
    "df['date'] = pd.to_datetime(df['date'])\n",
    "df = df.set_index('date')"
   ]
  },
  {
   "cell_type": "code",
   "execution_count": null,
   "metadata": {
    "executionInfo": {
     "elapsed": 55,
     "status": "ok",
     "timestamp": 1750166355192,
     "user": {
      "displayName": "Thanan Kangsawiwat",
      "userId": "06026257672126219511"
     },
     "user_tz": -420
    },
    "id": "-HLFGJ_aowuQ"
   },
   "outputs": [],
   "source": [
    "df['lag_1'] = df['sales_sum'].shift(1)\n",
    "df['lag_2'] = df['sales_sum'].shift(2)\n",
    "df['lag_3'] = df['sales_sum'].shift(3)\n",
    "df['lag_4'] = df['sales_sum'].shift(4)\n",
    "df['lag_5'] = df['sales_sum'].shift(5)\n",
    "df['lag_6'] = df['sales_sum'].shift(6)\n",
    "df['lag_7'] = df['sales_sum'].shift(7)"
   ]
  },
  {
   "cell_type": "code",
   "execution_count": null,
   "metadata": {
    "colab": {
     "base_uri": "https://localhost:8080/",
     "height": 373
    },
    "executionInfo": {
     "elapsed": 42,
     "status": "ok",
     "timestamp": 1750166355205,
     "user": {
      "displayName": "Thanan Kangsawiwat",
      "userId": "06026257672126219511"
     },
     "user_tz": -420
    },
    "id": "Zt1o0ooSo3fa",
    "outputId": "cbe450e7-5c2c-4259-998c-5876615bce58"
   },
   "outputs": [],
   "source": [
    "df.dropna(inplace=True)\n",
    "df.head()"
   ]
  },
  {
   "cell_type": "code",
   "execution_count": null,
   "metadata": {
    "colab": {
     "base_uri": "https://localhost:8080/",
     "height": 1000
    },
    "executionInfo": {
     "elapsed": 86,
     "status": "ok",
     "timestamp": 1750166355292,
     "user": {
      "displayName": "Thanan Kangsawiwat",
      "userId": "06026257672126219511"
     },
     "user_tz": -420
    },
    "id": "oFkfTvyAo6ZL",
    "outputId": "1c075eb4-137a-4519-8857-8a2f4fcaea2d"
   },
   "outputs": [],
   "source": [
    "df_train_window = df.tail(37)\n",
    "df_train_window"
   ]
  },
  {
   "cell_type": "code",
   "execution_count": null,
   "metadata": {
    "colab": {
     "base_uri": "https://localhost:8080/"
    },
    "executionInfo": {
     "elapsed": 14,
     "status": "ok",
     "timestamp": 1750166355310,
     "user": {
      "displayName": "Thanan Kangsawiwat",
      "userId": "06026257672126219511"
     },
     "user_tz": -420
    },
    "id": "L7AzhLDTo-xk",
    "outputId": "e0ead261-7932-48fe-a0ad-e2d9249e4b81"
   },
   "outputs": [],
   "source": [
    "threshold = np.percentile(df_train_window['sales_sum'], 66)\n",
    "threshold"
   ]
  },
  {
   "cell_type": "code",
   "execution_count": null,
   "metadata": {
    "colab": {
     "base_uri": "https://localhost:8080/",
     "height": 477
    },
    "executionInfo": {
     "elapsed": 18,
     "status": "ok",
     "timestamp": 1750166355328,
     "user": {
      "displayName": "Thanan Kangsawiwat",
      "userId": "06026257672126219511"
     },
     "user_tz": -420
    },
    "id": "POhqjz3opZuX",
    "outputId": "6d90aa79-65d3-46eb-caa1-77faad423a8f"
   },
   "outputs": [],
   "source": [
    "df_train_window['is_hotseller'] = np.where(df_train_window['sales_sum'] >= threshold, 1, 0)\n",
    "df_train_window.head()"
   ]
  },
  {
   "cell_type": "code",
   "execution_count": null,
   "metadata": {
    "colab": {
     "base_uri": "https://localhost:8080/"
    },
    "executionInfo": {
     "elapsed": 34,
     "status": "ok",
     "timestamp": 1750166355364,
     "user": {
      "displayName": "Thanan Kangsawiwat",
      "userId": "06026257672126219511"
     },
     "user_tz": -420
    },
    "id": "_B3CTaE0p2tU",
    "outputId": "829b7f8a-53da-4a1e-dd5a-71bf1cd34bfa"
   },
   "outputs": [],
   "source": [
    "# นับจำนวน is_hot_seller ที่เป็น 1 และ 0\n",
    "is_hotseller_counts = df_train_window['is_hotseller'].value_counts()\n",
    "\n",
    "print(\"จำนวน is_hotseller ที่เป็น 1:\", is_hotseller_counts.get(1, 0))\n",
    "print(\"จำนวน is_hotseller ที่เป็น 0:\", is_hotseller_counts.get(0, 0))"
   ]
  },
  {
   "cell_type": "code",
   "execution_count": null,
   "metadata": {
    "colab": {
     "base_uri": "https://localhost:8080/",
     "height": 519
    },
    "executionInfo": {
     "elapsed": 30,
     "status": "ok",
     "timestamp": 1750166355366,
     "user": {
      "displayName": "Thanan Kangsawiwat",
      "userId": "06026257672126219511"
     },
     "user_tz": -420
    },
    "id": "aEw65Gqssr9l",
    "outputId": "af70afb2-446d-40ee-ec14-8d20b2ba53d7"
   },
   "outputs": [],
   "source": [
    "df_train_window.tail(8)"
   ]
  },
  {
   "cell_type": "code",
   "execution_count": null,
   "metadata": {
    "executionInfo": {
     "elapsed": 27,
     "status": "ok",
     "timestamp": 1750166355393,
     "user": {
      "displayName": "Thanan Kangsawiwat",
      "userId": "06026257672126219511"
     },
     "user_tz": -420
    },
    "id": "uyYv0a3NtblD"
   },
   "outputs": [],
   "source": [
    "df_train_window = df_train_window.reindex(columns=['is_hotseller', 'lag_1', 'lag_2', 'lag_3', 'lag_4', 'lag_5', 'lag_6', 'lag_7'])"
   ]
  },
  {
   "cell_type": "code",
   "execution_count": null,
   "metadata": {
    "colab": {
     "base_uri": "https://localhost:8080/"
    },
    "executionInfo": {
     "elapsed": 19,
     "status": "ok",
     "timestamp": 1750166355414,
     "user": {
      "displayName": "Thanan Kangsawiwat",
      "userId": "06026257672126219511"
     },
     "user_tz": -420
    },
    "id": "L9Q4pCyHuGpe",
    "outputId": "23b0f403-4a50-4b0f-ad9b-465aed5bd228"
   },
   "outputs": [],
   "source": [
    "test_data = df_train_window.tail(7)\n",
    "train_data = df_train_window.head(30)\n",
    "\n",
    "print(\"Test Data:\")\n",
    "print(test_data)\n",
    "\n",
    "print(\"\\nTrain Data:\")\n",
    "print(train_data)"
   ]
  },
  {
   "cell_type": "code",
   "execution_count": null,
   "metadata": {
    "executionInfo": {
     "elapsed": 1,
     "status": "ok",
     "timestamp": 1750166355416,
     "user": {
      "displayName": "Thanan Kangsawiwat",
      "userId": "06026257672126219511"
     },
     "user_tz": -420
    },
    "id": "QPkk-vxDuYig"
   },
   "outputs": [],
   "source": [
    "X = train_data[['lag_1', 'lag_2', 'lag_3', 'lag_4', 'lag_5', 'lag_6', 'lag_7']]\n",
    "y = train_data['is_hotseller']"
   ]
  },
  {
   "cell_type": "markdown",
   "metadata": {
    "id": "fiEQiRvwulXG"
   },
   "source": [
    "#Train"
   ]
  },
  {
   "cell_type": "markdown",
   "metadata": {
    "id": "583X4-kGupbC"
   },
   "source": [
    "มีความจำเป็นต้องกำหนด class_weight='balanced' เนื่องจากปัญหา Imbalance target ซึ่งเกิดจากการต้องการแยกวันสำคัญ ซึ่งคือวันขายดีกว่าปกติ ซึ่งเป็นส่วนน้อย"
   ]
  },
  {
   "cell_type": "code",
   "execution_count": null,
   "metadata": {
    "colab": {
     "base_uri": "https://localhost:8080/",
     "height": 219
    },
    "executionInfo": {
     "elapsed": 28,
     "status": "ok",
     "timestamp": 1750166355445,
     "user": {
      "displayName": "Thanan Kangsawiwat",
      "userId": "06026257672126219511"
     },
     "user_tz": -420
    },
    "id": "gM1GyWAjumSO",
    "outputId": "7ca88cef-2bdb-4182-9d15-ba20fec45d9d"
   },
   "outputs": [],
   "source": [
    "# เพิ่ม class_weight='balanced' เข้าไป\n",
    "#model = LogisticRegression(class_weight='balanced')\n",
    "model = LogisticRegression()\n",
    "model.fit(X, y)"
   ]
  },
  {
   "cell_type": "code",
   "execution_count": null,
   "metadata": {
    "colab": {
     "base_uri": "https://localhost:8080/"
    },
    "executionInfo": {
     "elapsed": 42,
     "status": "ok",
     "timestamp": 1750166355489,
     "user": {
      "displayName": "Thanan Kangsawiwat",
      "userId": "06026257672126219511"
     },
     "user_tz": -420
    },
    "id": "qWJkqXMWvMT3",
    "outputId": "42429cc7-9fdb-4289-d851-a07774aa57ad"
   },
   "outputs": [],
   "source": [
    "X_test = test_data[['lag_1', 'lag_2', 'lag_3', 'lag_4', 'lag_5', 'lag_6', 'lag_7']]\n",
    "predictions = model.predict(X_test)\n",
    "\n",
    "# Print the predictions\n",
    "print(\"\\nPredictions:\")\n",
    "predictions"
   ]
  },
  {
   "cell_type": "markdown",
   "metadata": {
    "id": "bBE69pCRvQzs"
   },
   "source": [
    "#Evaluate"
   ]
  },
  {
   "cell_type": "code",
   "execution_count": null,
   "metadata": {
    "executionInfo": {
     "elapsed": 22,
     "status": "ok",
     "timestamp": 1750166355490,
     "user": {
      "displayName": "Thanan Kangsawiwat",
      "userId": "06026257672126219511"
     },
     "user_tz": -420
    },
    "id": "-m0TIRXTvSZm"
   },
   "outputs": [],
   "source": [
    "y_test = test_data['is_hotseller']"
   ]
  },
  {
   "cell_type": "code",
   "execution_count": null,
   "metadata": {
    "colab": {
     "base_uri": "https://localhost:8080/"
    },
    "executionInfo": {
     "elapsed": 22,
     "status": "ok",
     "timestamp": 1750166355491,
     "user": {
      "displayName": "Thanan Kangsawiwat",
      "userId": "06026257672126219511"
     },
     "user_tz": -420
    },
    "id": "IEXGkZpH16b6",
    "outputId": "47e46519-0c2a-4706-c8c9-c83e022a834b"
   },
   "outputs": [],
   "source": [
    "# คำนวณ Confusion Matrix\n",
    "cm = confusion_matrix(y_test, predictions)\n",
    "\n",
    "# แสดง Confusion Matrix\n",
    "print(\"\\nConfusion Matrix:\")\n",
    "print(cm)"
   ]
  },
  {
   "cell_type": "code",
   "execution_count": null,
   "metadata": {
    "colab": {
     "base_uri": "https://localhost:8080/"
    },
    "executionInfo": {
     "elapsed": 9,
     "status": "ok",
     "timestamp": 1750166355497,
     "user": {
      "displayName": "Thanan Kangsawiwat",
      "userId": "06026257672126219511"
     },
     "user_tz": -420
    },
    "id": "zAa7BORCwoeO",
    "outputId": "f9acbd61-fcba-493b-eda3-eb4cf22788ed"
   },
   "outputs": [],
   "source": [
    "print(\"\\nClassification Report:\")\n",
    "print(classification_report(y_test, predictions))"
   ]
  }
 ],
 "metadata": {
  "colab": {
   "authorship_tag": "ABX9TyP8FwxjFN6pXRCS+dL7E09D",
   "provenance": []
  },
  "kernelspec": {
   "display_name": "Python 3",
   "name": "python3"
  },
  "language_info": {
   "name": "python"
  }
 },
 "nbformat": 4,
 "nbformat_minor": 0
}
