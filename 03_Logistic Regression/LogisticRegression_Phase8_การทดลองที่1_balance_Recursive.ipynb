{
 "cells": [
  {
   "cell_type": "markdown",
   "metadata": {
    "id": "tApRzyEPmW0j"
   },
   "source": [
    "#Import"
   ]
  },
  {
   "cell_type": "code",
   "execution_count": null,
   "metadata": {
    "colab": {
     "base_uri": "https://localhost:8080/"
    },
    "executionInfo": {
     "elapsed": 31367,
     "status": "ok",
     "timestamp": 1750178232853,
     "user": {
      "displayName": "Thanan Kangsawiwat",
      "userId": "06026257672126219511"
     },
     "user_tz": -420
    },
    "id": "ktg2E2iMnROV",
    "outputId": "8e6f34bb-fe9e-425d-e73e-5b14ba47fa7a"
   },
   "outputs": [],
   "source": [
    "from google.colab import drive\n",
    "drive.mount('/content/drive')"
   ]
  },
  {
   "cell_type": "code",
   "execution_count": null,
   "metadata": {
    "executionInfo": {
     "elapsed": 15170,
     "status": "ok",
     "timestamp": 1750178251133,
     "user": {
      "displayName": "Thanan Kangsawiwat",
      "userId": "06026257672126219511"
     },
     "user_tz": -420
    },
    "id": "RcRFqW6KmwZR"
   },
   "outputs": [],
   "source": [
    "import pandas as pd\n",
    "import numpy as np\n",
    "import matplotlib.pyplot as plt\n",
    "import seaborn as sns\n",
    "from sklearn.linear_model import LogisticRegression\n",
    "from sklearn.metrics import mean_squared_error, mean_absolute_error\n",
    "from sklearn.metrics import classification_report,f1_score, confusion_matrix, accuracy_score"
   ]
  },
  {
   "cell_type": "code",
   "execution_count": null,
   "metadata": {
    "colab": {
     "base_uri": "https://localhost:8080/",
     "height": 342
    },
    "executionInfo": {
     "elapsed": 1233,
     "status": "ok",
     "timestamp": 1750178261633,
     "user": {
      "displayName": "Thanan Kangsawiwat",
      "userId": "06026257672126219511"
     },
     "user_tz": -420
    },
    "id": "FgwPPKklnOsP",
    "outputId": "f1dbbf26-0527-4f7a-f66d-c7644fd74e85"
   },
   "outputs": [],
   "source": [
    "df = pd.read_csv('/content/drive/MyDrive/swuds/t5_thesis/98_progress/dataset/nd_sales_LogisticRegression_base.csv')\n",
    "df.head()"
   ]
  },
  {
   "cell_type": "markdown",
   "metadata": {
    "id": "EuR-V4sXn73r"
   },
   "source": [
    "#Preprocess"
   ]
  },
  {
   "cell_type": "code",
   "execution_count": null,
   "metadata": {
    "executionInfo": {
     "elapsed": 12,
     "status": "ok",
     "timestamp": 1750178278193,
     "user": {
      "displayName": "Thanan Kangsawiwat",
      "userId": "06026257672126219511"
     },
     "user_tz": -420
    },
    "id": "C1yhpLB-ofrE"
   },
   "outputs": [],
   "source": [
    "df['date'] = pd.to_datetime(df['date'])\n",
    "df = df.set_index('date')"
   ]
  },
  {
   "cell_type": "code",
   "execution_count": null,
   "metadata": {
    "executionInfo": {
     "elapsed": 1,
     "status": "ok",
     "timestamp": 1750178280001,
     "user": {
      "displayName": "Thanan Kangsawiwat",
      "userId": "06026257672126219511"
     },
     "user_tz": -420
    },
    "id": "-HLFGJ_aowuQ"
   },
   "outputs": [],
   "source": [
    "df['lag_1'] = df['sales_sum'].shift(1)\n",
    "df['lag_2'] = df['sales_sum'].shift(2)\n",
    "df['lag_3'] = df['sales_sum'].shift(3)\n",
    "df['lag_4'] = df['sales_sum'].shift(4)\n",
    "df['lag_5'] = df['sales_sum'].shift(5)\n",
    "df['lag_6'] = df['sales_sum'].shift(6)\n",
    "df['lag_7'] = df['sales_sum'].shift(7)\n",
    "df['lag_8'] = df['sales_sum'].shift(8)\n",
    "df['lag_9'] = df['sales_sum'].shift(9)\n",
    "df['lag_10'] = df['sales_sum'].shift(10)\n",
    "df['lag_11'] = df['sales_sum'].shift(11)"
   ]
  },
  {
   "cell_type": "code",
   "execution_count": null,
   "metadata": {
    "colab": {
     "base_uri": "https://localhost:8080/",
     "height": 373
    },
    "executionInfo": {
     "elapsed": 137,
     "status": "ok",
     "timestamp": 1750178281780,
     "user": {
      "displayName": "Thanan Kangsawiwat",
      "userId": "06026257672126219511"
     },
     "user_tz": -420
    },
    "id": "Zt1o0ooSo3fa",
    "outputId": "dd1af11e-ca42-4b45-a7dd-73ed018e4b7c"
   },
   "outputs": [],
   "source": [
    "df.dropna(inplace=True)\n",
    "df.head()"
   ]
  },
  {
   "cell_type": "code",
   "execution_count": null,
   "metadata": {
    "colab": {
     "base_uri": "https://localhost:8080/",
     "height": 276
    },
    "executionInfo": {
     "elapsed": 117,
     "status": "ok",
     "timestamp": 1750178285449,
     "user": {
      "displayName": "Thanan Kangsawiwat",
      "userId": "06026257672126219511"
     },
     "user_tz": -420
    },
    "id": "cGiCM-MPe7cn",
    "outputId": "cb73fbcc-b35a-4c3f-ba94-0cc17266f77e"
   },
   "outputs": [],
   "source": [
    "df['is_Sun'] = (df.index.dayofweek == 6).astype(int)\n",
    "df['is_Mon'] = (df.index.dayofweek == 0).astype(int)\n",
    "df['is_Tue'] = (df.index.dayofweek == 1).astype(int)\n",
    "df['is_Wed'] = (df.index.dayofweek == 2).astype(int)\n",
    "df['is_Thu'] = (df.index.dayofweek == 3).astype(int)\n",
    "df['is_Fri'] = (df.index.dayofweek == 4).astype(int)\n",
    "df.head(3)"
   ]
  },
  {
   "cell_type": "code",
   "execution_count": null,
   "metadata": {
    "colab": {
     "base_uri": "https://localhost:8080/",
     "height": 276
    },
    "executionInfo": {
     "elapsed": 111,
     "status": "ok",
     "timestamp": 1750178309552,
     "user": {
      "displayName": "Thanan Kangsawiwat",
      "userId": "06026257672126219511"
     },
     "user_tz": -420
    },
    "id": "tl_K3-1ye8Sf",
    "outputId": "2bb7428d-926e-413d-aed0-f9c6c9a4230a"
   },
   "outputs": [],
   "source": [
    "df['is_Jan'] = (df.index.month == 1).astype(int)\n",
    "df['is_Feb'] = (df.index.month == 2).astype(int)\n",
    "df['is_Mar'] = (df.index.month == 3).astype(int)\n",
    "df['is_Apr'] = (df.index.month == 4).astype(int)\n",
    "df['is_May'] = (df.index.month == 5).astype(int)\n",
    "df['is_Jun'] = (df.index.month == 6).astype(int)\n",
    "df['is_Jul'] = (df.index.month == 7).astype(int)\n",
    "df['is_Aug'] = (df.index.month == 8).astype(int)\n",
    "df['is_Sep'] = (df.index.month == 9).astype(int)\n",
    "df['is_Oct'] = (df.index.month == 10).astype(int)\n",
    "df['is_Nov'] = (df.index.month == 11).astype(int)\n",
    "df['is_Dec'] = (df.index.month == 12).astype(int)\n",
    "df.head(3)"
   ]
  },
  {
   "cell_type": "code",
   "execution_count": null,
   "metadata": {
    "colab": {
     "base_uri": "https://localhost:8080/",
     "height": 648
    },
    "executionInfo": {
     "elapsed": 129,
     "status": "ok",
     "timestamp": 1750178314469,
     "user": {
      "displayName": "Thanan Kangsawiwat",
      "userId": "06026257672126219511"
     },
     "user_tz": -420
    },
    "id": "oFkfTvyAo6ZL",
    "outputId": "cc227fe8-2dbc-44ed-a647-6ca4b492c23d"
   },
   "outputs": [],
   "source": [
    "df_train_window = df.tail(187)\n",
    "df_train_window"
   ]
  },
  {
   "cell_type": "code",
   "execution_count": null,
   "metadata": {
    "colab": {
     "base_uri": "https://localhost:8080/"
    },
    "executionInfo": {
     "elapsed": 17,
     "status": "ok",
     "timestamp": 1750178319933,
     "user": {
      "displayName": "Thanan Kangsawiwat",
      "userId": "06026257672126219511"
     },
     "user_tz": -420
    },
    "id": "L7AzhLDTo-xk",
    "outputId": "25e941f8-62dc-45c7-8fb8-aa795d988adf"
   },
   "outputs": [],
   "source": [
    "threshold = np.percentile(df_train_window['sales_sum'], 66)\n",
    "threshold"
   ]
  },
  {
   "cell_type": "code",
   "execution_count": null,
   "metadata": {
    "colab": {
     "base_uri": "https://localhost:8080/",
     "height": 477
    },
    "executionInfo": {
     "elapsed": 106,
     "status": "ok",
     "timestamp": 1750178323318,
     "user": {
      "displayName": "Thanan Kangsawiwat",
      "userId": "06026257672126219511"
     },
     "user_tz": -420
    },
    "id": "POhqjz3opZuX",
    "outputId": "0e2a08b5-f88e-4186-c679-bfd9027b67db"
   },
   "outputs": [],
   "source": [
    "df_train_window['is_hotseller'] = np.where(df_train_window['sales_sum'] >= threshold, 1, 0)\n",
    "df_train_window.head()"
   ]
  },
  {
   "cell_type": "code",
   "execution_count": null,
   "metadata": {
    "colab": {
     "base_uri": "https://localhost:8080/"
    },
    "executionInfo": {
     "elapsed": 16,
     "status": "ok",
     "timestamp": 1750178326148,
     "user": {
      "displayName": "Thanan Kangsawiwat",
      "userId": "06026257672126219511"
     },
     "user_tz": -420
    },
    "id": "_B3CTaE0p2tU",
    "outputId": "0523588b-566e-47ae-fda2-0ed46ab1eda8"
   },
   "outputs": [],
   "source": [
    "# นับจำนวน is_hot_seller ที่เป็น 1 และ 0\n",
    "is_hotseller_counts = df_train_window['is_hotseller'].value_counts()\n",
    "\n",
    "print(\"จำนวน is_hotseller ที่เป็น 1:\", is_hotseller_counts.get(1, 0))\n",
    "print(\"จำนวน is_hotseller ที่เป็น 0:\", is_hotseller_counts.get(0, 0))"
   ]
  },
  {
   "cell_type": "code",
   "execution_count": null,
   "metadata": {
    "colab": {
     "base_uri": "https://localhost:8080/",
     "height": 519
    },
    "executionInfo": {
     "elapsed": 106,
     "status": "ok",
     "timestamp": 1750178328639,
     "user": {
      "displayName": "Thanan Kangsawiwat",
      "userId": "06026257672126219511"
     },
     "user_tz": -420
    },
    "id": "aEw65Gqssr9l",
    "outputId": "be0a8a2d-0faf-4ebc-ee9d-5b6b19a90764"
   },
   "outputs": [],
   "source": [
    "df_train_window.tail(8)"
   ]
  },
  {
   "cell_type": "code",
   "execution_count": null,
   "metadata": {
    "executionInfo": {
     "elapsed": 2,
     "status": "ok",
     "timestamp": 1750178330547,
     "user": {
      "displayName": "Thanan Kangsawiwat",
      "userId": "06026257672126219511"
     },
     "user_tz": -420
    },
    "id": "uyYv0a3NtblD"
   },
   "outputs": [],
   "source": [
    "df_train_window = df_train_window.reindex(columns=['is_hotseller', 'lag_1', 'lag_2', 'lag_3', 'lag_4', 'lag_5', 'lag_6', 'lag_7', 'lag_8', 'lag_9', 'lag_10', 'lag_11'\n",
    "])"
   ]
  },
  {
   "cell_type": "code",
   "execution_count": null,
   "metadata": {
    "colab": {
     "base_uri": "https://localhost:8080/"
    },
    "executionInfo": {
     "elapsed": 17,
     "status": "ok",
     "timestamp": 1750178331338,
     "user": {
      "displayName": "Thanan Kangsawiwat",
      "userId": "06026257672126219511"
     },
     "user_tz": -420
    },
    "id": "PunxHt3guTAm",
    "outputId": "5ecbc9fa-7008-43e4-fd0b-8d101470e744"
   },
   "outputs": [],
   "source": [
    "df_for_split = df_train_window.copy()\n",
    "train_data = df_for_split.head(120)\n",
    "test_data = df_for_split.tail(7)\n",
    "print(f\"Training data shape: {train_data.shape}\")\n",
    "print(f\"Test data shape: {test_data.shape}\")"
   ]
  },
  {
   "cell_type": "code",
   "execution_count": null,
   "metadata": {
    "executionInfo": {
     "elapsed": 10,
     "status": "ok",
     "timestamp": 1750178335105,
     "user": {
      "displayName": "Thanan Kangsawiwat",
      "userId": "06026257672126219511"
     },
     "user_tz": -420
    },
    "id": "egYC9cDYubO3"
   },
   "outputs": [],
   "source": [
    "features_recursive = [ 'lag_1', 'lag_2', 'lag_3', 'lag_4', 'lag_5', 'lag_6', 'lag_7', 'lag_8', 'lag_9', 'lag_10', 'lag_11'\n",
    "    ]\n",
    "\n",
    "target = 'is_hotseller'\n",
    "\n",
    "X_train = train_data[features_recursive]\n",
    "y_train = train_data[target]"
   ]
  },
  {
   "cell_type": "markdown",
   "metadata": {
    "id": "fiEQiRvwulXG"
   },
   "source": [
    "#Train"
   ]
  },
  {
   "cell_type": "markdown",
   "metadata": {
    "id": "583X4-kGupbC"
   },
   "source": [
    "มีความจำเป็นต้องกำหนด class_weight='balanced' เนื่องจากปัญหา Imbalance target ซึ่งเกิดจากการต้องการแยกวันสำคัญ ซึ่งคือวันขายดีกว่าปกติ ซึ่งเป็นส่วนน้อย"
   ]
  },
  {
   "cell_type": "code",
   "execution_count": null,
   "metadata": {
    "colab": {
     "base_uri": "https://localhost:8080/",
     "height": 219
    },
    "executionInfo": {
     "elapsed": 178,
     "status": "ok",
     "timestamp": 1750178337771,
     "user": {
      "displayName": "Thanan Kangsawiwat",
      "userId": "06026257672126219511"
     },
     "user_tz": -420
    },
    "id": "gM1GyWAjumSO",
    "outputId": "7ce19af6-07d0-48dc-b0a4-5a7efff14267"
   },
   "outputs": [],
   "source": [
    "# เพิ่ม class_weight='balanced' เข้าไป\n",
    "model_recursive = LogisticRegression(class_weight='balanced')\n",
    "model_recursive.fit(X_train, y_train)"
   ]
  },
  {
   "cell_type": "code",
   "execution_count": null,
   "metadata": {
    "executionInfo": {
     "elapsed": 15,
     "status": "ok",
     "timestamp": 1750178339516,
     "user": {
      "displayName": "Thanan Kangsawiwat",
      "userId": "06026257672126219511"
     },
     "user_tz": -420
    },
    "id": "qWJkqXMWvMT3"
   },
   "outputs": [],
   "source": [
    "#ทำนายแบบ Recursive 7 ขั้นตอน ---\n",
    "last_known_lags = train_data[['lag_1', 'lag_2', 'lag_3', 'lag_4', 'lag_5', 'lag_6', 'lag_7', 'lag_8', 'lag_9', 'lag_10', 'lag_11']].tail(1).values.flatten()\n",
    "\n",
    "future_dates = pd.date_range(start=test_data.index[0], periods=7, freq='D')\n",
    "future_df = pd.DataFrame(index=future_dates)"
   ]
  },
  {
   "cell_type": "code",
   "execution_count": null,
   "metadata": {
    "colab": {
     "base_uri": "https://localhost:8080/",
     "height": 269
    },
    "executionInfo": {
     "elapsed": 75,
     "status": "ok",
     "timestamp": 1750178342128,
     "user": {
      "displayName": "Thanan Kangsawiwat",
      "userId": "06026257672126219511"
     },
     "user_tz": -420
    },
    "id": "8TUtYuDpvPMM",
    "outputId": "b4c66f78-260e-4c25-d9a2-0106c8f016d4"
   },
   "outputs": [],
   "source": [
    "print(future_df.shape)\n",
    "future_df"
   ]
  },
  {
   "cell_type": "code",
   "execution_count": null,
   "metadata": {
    "colab": {
     "base_uri": "https://localhost:8080/"
    },
    "executionInfo": {
     "elapsed": 34,
     "status": "ok",
     "timestamp": 1750178345287,
     "user": {
      "displayName": "Thanan Kangsawiwat",
      "userId": "06026257672126219511"
     },
     "user_tz": -420
    },
    "id": "BtxLXVMjvTU5",
    "outputId": "49722f8c-dced-41f9-e271-8cbc6211a313"
   },
   "outputs": [],
   "source": [
    "predictions_recursive = []\n",
    "current_lags = last_known_lags.copy()\n",
    "\n",
    "print(\"Starting 7-step recursive forecast...\")\n",
    "for i in range(7):\n",
    "    input_vector = np.concatenate([current_lags]).reshape(1, -1)\n",
    "\n",
    "    prediction = model_recursive.predict(input_vector)[0]\n",
    "    predictions_recursive.append(prediction)\n",
    "\n",
    "    current_lags = np.roll(current_lags, -1)\n",
    "    current_lags[-1] = prediction\n",
    "    print(f\"Step {i+1}/7 predicted: {prediction:.2f}\")\n",
    "\n",
    "    print(\"\\nRecursive forecasting completed.\")"
   ]
  },
  {
   "cell_type": "markdown",
   "metadata": {
    "id": "bBE69pCRvQzs"
   },
   "source": [
    "#Evaluate"
   ]
  },
  {
   "cell_type": "code",
   "execution_count": null,
   "metadata": {
    "colab": {
     "base_uri": "https://localhost:8080/"
    },
    "executionInfo": {
     "elapsed": 60,
     "status": "ok",
     "timestamp": 1750178439606,
     "user": {
      "displayName": "Thanan Kangsawiwat",
      "userId": "06026257672126219511"
     },
     "user_tz": -420
    },
    "id": "p_QRAeofv8AQ",
    "outputId": "c76d244b-a465-49b5-b7d2-3e3be009b71b"
   },
   "outputs": [],
   "source": [
    "# prompt: วัดผลด้วย Confusion Matrix\n",
    "\n",
    "# Extract the true target values for the test set\n",
    "y_true = test_data[target]\n",
    "\n",
    "# Create the confusion matrix\n",
    "cm = confusion_matrix(y_true, predictions_recursive)\n",
    "\n",
    "# แสดง Confusion Matrix\n",
    "print(\"\\nConfusion Matrix:\")\n",
    "print(cm)\n",
    "\n",
    "# Print classification report\n",
    "print(\"\\nClassification Report:\")\n",
    "print(classification_report(y_true, predictions_recursive))\n",
    "\n",
    "# Print accuracy\n",
    "accuracy = accuracy_score(y_true, predictions_recursive)\n",
    "print(f\"\\nAccuracy: {accuracy:.4f}\")\n",
    "\n",
    "# Print F1-score\n",
    "f1 = f1_score(y_true, predictions_recursive)\n",
    "print(f\"F1-Score: {f1:.4f}\")"
   ]
  },
  {
   "cell_type": "code",
   "execution_count": null,
   "metadata": {
    "colab": {
     "base_uri": "https://localhost:8080/"
    },
    "executionInfo": {
     "elapsed": 6,
     "status": "ok",
     "timestamp": 1750177379232,
     "user": {
      "displayName": "Thanan Kangsawiwat",
      "userId": "06026257672126219511"
     },
     "user_tz": -420
    },
    "id": "IEXGkZpH16b6",
    "outputId": "026cd9db-b706-4bff-dc4c-37f60980edc2"
   },
   "outputs": [],
   "source": [
    "# คำนวณ Confusion Matrix\n",
    "cm = confusion_matrix(y_test, predictions)\n",
    "\n",
    "# แสดง Confusion Matrix\n",
    "print(\"\\nConfusion Matrix:\")\n",
    "print(cm)"
   ]
  },
  {
   "cell_type": "code",
   "execution_count": null,
   "metadata": {
    "colab": {
     "base_uri": "https://localhost:8080/"
    },
    "executionInfo": {
     "elapsed": 4,
     "status": "ok",
     "timestamp": 1750177379242,
     "user": {
      "displayName": "Thanan Kangsawiwat",
      "userId": "06026257672126219511"
     },
     "user_tz": -420
    },
    "id": "zAa7BORCwoeO",
    "outputId": "1a013a52-7dbb-4cc6-f033-f1dcaa78713c"
   },
   "outputs": [],
   "source": [
    "print(\"\\nClassification Report:\")\n",
    "print(classification_report(y_test, predictions))"
   ]
  }
 ],
 "metadata": {
  "colab": {
   "authorship_tag": "ABX9TyObX34uSrSTLey6TmldEbDv",
   "provenance": []
  },
  "kernelspec": {
   "display_name": "Python 3",
   "name": "python3"
  },
  "language_info": {
   "name": "python"
  }
 },
 "nbformat": 4,
 "nbformat_minor": 0
}
