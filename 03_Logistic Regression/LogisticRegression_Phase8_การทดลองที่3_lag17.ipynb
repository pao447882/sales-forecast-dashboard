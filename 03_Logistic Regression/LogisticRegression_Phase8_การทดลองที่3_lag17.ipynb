{
 "cells": [
  {
   "cell_type": "markdown",
   "metadata": {
    "id": "tApRzyEPmW0j"
   },
   "source": [
    "#Import"
   ]
  },
  {
   "cell_type": "code",
   "execution_count": null,
   "metadata": {
    "colab": {
     "base_uri": "https://localhost:8080/"
    },
    "executionInfo": {
     "elapsed": 19863,
     "status": "ok",
     "timestamp": 1750885650793,
     "user": {
      "displayName": "Thanan Kangsawiwat",
      "userId": "06026257672126219511"
     },
     "user_tz": -420
    },
    "id": "ktg2E2iMnROV",
    "outputId": "213afa6c-0ff6-42ea-f151-4c868c205e12"
   },
   "outputs": [],
   "source": [
    "from google.colab import drive\n",
    "drive.mount('/content/drive')"
   ]
  },
  {
   "cell_type": "code",
   "execution_count": null,
   "metadata": {
    "executionInfo": {
     "elapsed": 2451,
     "status": "ok",
     "timestamp": 1750885653246,
     "user": {
      "displayName": "Thanan Kangsawiwat",
      "userId": "06026257672126219511"
     },
     "user_tz": -420
    },
    "id": "RcRFqW6KmwZR"
   },
   "outputs": [],
   "source": [
    "import pandas as pd\n",
    "import numpy as np\n",
    "import matplotlib.pyplot as plt\n",
    "import seaborn as sns\n",
    "from sklearn.linear_model import LogisticRegression\n",
    "from sklearn.metrics import mean_squared_error, mean_absolute_error\n",
    "from sklearn.metrics import classification_report,f1_score, confusion_matrix, accuracy_score\n",
    "from sklearn.multioutput import MultiOutputClassifier"
   ]
  },
  {
   "cell_type": "code",
   "execution_count": null,
   "metadata": {
    "colab": {
     "base_uri": "https://localhost:8080/",
     "height": 236
    },
    "executionInfo": {
     "elapsed": 2000,
     "status": "ok",
     "timestamp": 1750885655245,
     "user": {
      "displayName": "Thanan Kangsawiwat",
      "userId": "06026257672126219511"
     },
     "user_tz": -420
    },
    "id": "FgwPPKklnOsP",
    "outputId": "c4323105-f710-4422-e70d-d84b11668bd6"
   },
   "outputs": [],
   "source": [
    "df = pd.read_csv('/content/drive/MyDrive/swuds/t5_thesis/98_progress/dataset/nd_sales_LogisticRegression_base.csv')\n",
    "df.head()"
   ]
  },
  {
   "cell_type": "markdown",
   "metadata": {
    "id": "EuR-V4sXn73r"
   },
   "source": [
    "#Preprocess"
   ]
  },
  {
   "cell_type": "code",
   "execution_count": null,
   "metadata": {
    "executionInfo": {
     "elapsed": 1,
     "status": "ok",
     "timestamp": 1750885655250,
     "user": {
      "displayName": "Thanan Kangsawiwat",
      "userId": "06026257672126219511"
     },
     "user_tz": -420
    },
    "id": "C1yhpLB-ofrE"
   },
   "outputs": [],
   "source": [
    "df['date'] = pd.to_datetime(df['date'])\n",
    "df = df.set_index('date')"
   ]
  },
  {
   "cell_type": "code",
   "execution_count": null,
   "metadata": {
    "executionInfo": {
     "elapsed": 1,
     "status": "ok",
     "timestamp": 1750885655264,
     "user": {
      "displayName": "Thanan Kangsawiwat",
      "userId": "06026257672126219511"
     },
     "user_tz": -420
    },
    "id": "-HLFGJ_aowuQ"
   },
   "outputs": [],
   "source": [
    "df['lag_1'] = df['sales_sum'].shift(1)\n",
    "df['lag_2'] = df['sales_sum'].shift(2)\n",
    "df['lag_3'] = df['sales_sum'].shift(3)\n",
    "df['lag_4'] = df['sales_sum'].shift(4)\n",
    "df['lag_5'] = df['sales_sum'].shift(5)\n",
    "df['lag_6'] = df['sales_sum'].shift(6)\n",
    "df['lag_7'] = df['sales_sum'].shift(7)\n",
    "df['lag_8'] = df['sales_sum'].shift(8)\n",
    "df['lag_9'] = df['sales_sum'].shift(9)\n",
    "df['lag_10'] = df['sales_sum'].shift(10)\n",
    "df['lag_11'] = df['sales_sum'].shift(11)"
   ]
  },
  {
   "cell_type": "code",
   "execution_count": null,
   "metadata": {
    "colab": {
     "base_uri": "https://localhost:8080/",
     "height": 267
    },
    "executionInfo": {
     "elapsed": 126,
     "status": "ok",
     "timestamp": 1750885655402,
     "user": {
      "displayName": "Thanan Kangsawiwat",
      "userId": "06026257672126219511"
     },
     "user_tz": -420
    },
    "id": "Zt1o0ooSo3fa",
    "outputId": "023d2314-75c0-4f58-dde3-b10948c21c80"
   },
   "outputs": [],
   "source": [
    "df.dropna(inplace=True)\n",
    "df.head()"
   ]
  },
  {
   "cell_type": "code",
   "execution_count": null,
   "metadata": {
    "colab": {
     "base_uri": "https://localhost:8080/",
     "height": 204
    },
    "executionInfo": {
     "elapsed": 65,
     "status": "ok",
     "timestamp": 1750885655468,
     "user": {
      "displayName": "Thanan Kangsawiwat",
      "userId": "06026257672126219511"
     },
     "user_tz": -420
    },
    "id": "cGiCM-MPe7cn",
    "outputId": "142e9984-28b9-43ce-be15-891f4fa61d4c"
   },
   "outputs": [],
   "source": [
    "df['is_Sun'] = (df.index.dayofweek == 6).astype(int)\n",
    "df['is_Mon'] = (df.index.dayofweek == 0).astype(int)\n",
    "df['is_Tue'] = (df.index.dayofweek == 1).astype(int)\n",
    "df['is_Wed'] = (df.index.dayofweek == 2).astype(int)\n",
    "df['is_Thu'] = (df.index.dayofweek == 3).astype(int)\n",
    "df['is_Fri'] = (df.index.dayofweek == 4).astype(int)\n",
    "df.head(3)"
   ]
  },
  {
   "cell_type": "code",
   "execution_count": null,
   "metadata": {
    "colab": {
     "base_uri": "https://localhost:8080/",
     "height": 204
    },
    "executionInfo": {
     "elapsed": 57,
     "status": "ok",
     "timestamp": 1750885655532,
     "user": {
      "displayName": "Thanan Kangsawiwat",
      "userId": "06026257672126219511"
     },
     "user_tz": -420
    },
    "id": "tl_K3-1ye8Sf",
    "outputId": "06991faa-997b-4b93-a1d6-ff025d800f7c"
   },
   "outputs": [],
   "source": [
    "df['is_Jan'] = (df.index.month == 1).astype(int)\n",
    "df['is_Feb'] = (df.index.month == 2).astype(int)\n",
    "df['is_Mar'] = (df.index.month == 3).astype(int)\n",
    "df['is_Apr'] = (df.index.month == 4).astype(int)\n",
    "df['is_May'] = (df.index.month == 5).astype(int)\n",
    "df['is_Jun'] = (df.index.month == 6).astype(int)\n",
    "df['is_Jul'] = (df.index.month == 7).astype(int)\n",
    "df['is_Aug'] = (df.index.month == 8).astype(int)\n",
    "df['is_Sep'] = (df.index.month == 9).astype(int)\n",
    "df['is_Oct'] = (df.index.month == 10).astype(int)\n",
    "df['is_Nov'] = (df.index.month == 11).astype(int)\n",
    "df['is_Dec'] = (df.index.month == 12).astype(int)\n",
    "df.head(3)"
   ]
  },
  {
   "cell_type": "code",
   "execution_count": null,
   "metadata": {
    "colab": {
     "base_uri": "https://localhost:8080/",
     "height": 455
    },
    "executionInfo": {
     "elapsed": 59,
     "status": "ok",
     "timestamp": 1750885655592,
     "user": {
      "displayName": "Thanan Kangsawiwat",
      "userId": "06026257672126219511"
     },
     "user_tz": -420
    },
    "id": "oFkfTvyAo6ZL",
    "outputId": "4a92aa4c-0cd2-43fa-9596-2fdd343ee375"
   },
   "outputs": [],
   "source": [
    "df = df.tail(187)\n",
    "df"
   ]
  },
  {
   "cell_type": "code",
   "execution_count": null,
   "metadata": {
    "colab": {
     "base_uri": "https://localhost:8080/"
    },
    "executionInfo": {
     "elapsed": 9,
     "status": "ok",
     "timestamp": 1750885655603,
     "user": {
      "displayName": "Thanan Kangsawiwat",
      "userId": "06026257672126219511"
     },
     "user_tz": -420
    },
    "id": "L7AzhLDTo-xk",
    "outputId": "2a3c26b6-4e41-43af-b48f-a1d977c486d6"
   },
   "outputs": [],
   "source": [
    "threshold = np.percentile(df['sales_sum'], 66)\n",
    "threshold"
   ]
  },
  {
   "cell_type": "code",
   "execution_count": null,
   "metadata": {
    "colab": {
     "base_uri": "https://localhost:8080/",
     "height": 377
    },
    "executionInfo": {
     "elapsed": 43,
     "status": "ok",
     "timestamp": 1750885655643,
     "user": {
      "displayName": "Thanan Kangsawiwat",
      "userId": "06026257672126219511"
     },
     "user_tz": -420
    },
    "id": "POhqjz3opZuX",
    "outputId": "7a889d98-6a2b-41d5-9129-b7c5f7d00bf9"
   },
   "outputs": [],
   "source": [
    "df['is_hotseller'] = np.where(df['sales_sum'] >= threshold, 1, 0)\n",
    "df.head()"
   ]
  },
  {
   "cell_type": "code",
   "execution_count": null,
   "metadata": {
    "colab": {
     "base_uri": "https://localhost:8080/"
    },
    "executionInfo": {
     "elapsed": 5,
     "status": "ok",
     "timestamp": 1750885655649,
     "user": {
      "displayName": "Thanan Kangsawiwat",
      "userId": "06026257672126219511"
     },
     "user_tz": -420
    },
    "id": "_B3CTaE0p2tU",
    "outputId": "bd038381-3b6d-4cf3-da59-64819bc9e531"
   },
   "outputs": [],
   "source": [
    "# นับจำนวน is_hot_seller ที่เป็น 1 และ 0\n",
    "is_hotseller_counts = df['is_hotseller'].value_counts()\n",
    "\n",
    "print(\"จำนวน is_hotseller ที่เป็น 1:\", is_hotseller_counts.get(1, 0))\n",
    "print(\"จำนวน is_hotseller ที่เป็น 0:\", is_hotseller_counts.get(0, 0))"
   ]
  },
  {
   "cell_type": "code",
   "execution_count": null,
   "metadata": {
    "colab": {
     "base_uri": "https://localhost:8080/",
     "height": 361
    },
    "executionInfo": {
     "elapsed": 50,
     "status": "ok",
     "timestamp": 1750885655700,
     "user": {
      "displayName": "Thanan Kangsawiwat",
      "userId": "06026257672126219511"
     },
     "user_tz": -420
    },
    "id": "aEw65Gqssr9l",
    "outputId": "e11a85dc-ebfa-4805-baad-6568e90d54eb"
   },
   "outputs": [],
   "source": [
    "df.tail(8)"
   ]
  },
  {
   "cell_type": "code",
   "execution_count": null,
   "metadata": {
    "colab": {
     "base_uri": "https://localhost:8080/"
    },
    "executionInfo": {
     "elapsed": 17,
     "status": "ok",
     "timestamp": 1750885655718,
     "user": {
      "displayName": "Thanan Kangsawiwat",
      "userId": "06026257672126219511"
     },
     "user_tz": -420
    },
    "id": "S6nZOGyMxuBo",
    "outputId": "1cd07dba-a720-4e2c-ba60-80aaddadec9d"
   },
   "outputs": [],
   "source": [
    "# สร้าง Target สำหรับ Direct Method\n",
    "forecast_horizon = 7\n",
    "target_cols = []\n",
    "for h in range(1, forecast_horizon + 1):\n",
    "    col_name = f'is_hotseller_t+{h}'\n",
    "    df[col_name] = df['is_hotseller'].shift(-h)\n",
    "    target_cols.append(col_name)\n",
    "\n",
    "# กำหนดลิสต์ Feature สุดท้าย\n",
    "features = [\n",
    "    'lag_1', 'lag_2', 'lag_3', 'lag_4', 'lag_5', 'lag_6', 'lag_7'\n",
    "    , 'time_index', 'year'\n",
    "    , 'ismarketday', 'isschoolday', 'holiday'\n",
    "]"
   ]
  },
  {
   "cell_type": "code",
   "execution_count": null,
   "metadata": {
    "colab": {
     "base_uri": "https://localhost:8080/"
    },
    "executionInfo": {
     "elapsed": 22,
     "status": "ok",
     "timestamp": 1750885655741,
     "user": {
      "displayName": "Thanan Kangsawiwat",
      "userId": "06026257672126219511"
     },
     "user_tz": -420
    },
    "id": "FkxAdgGEyoji",
    "outputId": "7bce1fdc-bff7-42e8-a8ba-3e8b1dddbb16"
   },
   "outputs": [],
   "source": [
    "print(df[target_cols])"
   ]
  },
  {
   "cell_type": "code",
   "execution_count": null,
   "metadata": {
    "executionInfo": {
     "elapsed": 9,
     "status": "ok",
     "timestamp": 1750885655748,
     "user": {
      "displayName": "Thanan Kangsawiwat",
      "userId": "06026257672126219511"
     },
     "user_tz": -420
    },
    "id": "NZ3-jq6WynYR"
   },
   "outputs": [],
   "source": [
    "# เราจะสร้าง DataFrame ใหม่สำหรับการเทรนโดยการ dropna()\n",
    "# เพื่อให้ทุกแถวมีข้อมูล X และ y ครบถ้วน\n",
    "df_for_training = df.dropna()\n",
    "\n",
    "X_train = df_for_training[features]\n",
    "y_train = df_for_training[target_cols]"
   ]
  },
  {
   "cell_type": "code",
   "execution_count": null,
   "metadata": {
    "colab": {
     "base_uri": "https://localhost:8080/"
    },
    "executionInfo": {
     "elapsed": 6,
     "status": "ok",
     "timestamp": 1750885655755,
     "user": {
      "displayName": "Thanan Kangsawiwat",
      "userId": "06026257672126219511"
     },
     "user_tz": -420
    },
    "id": "68cEskBNy1P-",
    "outputId": "dc99a93c-e3dc-4c59-c65e-f940fe328a68"
   },
   "outputs": [],
   "source": [
    "# 3.1) เตรียม Input (X_test)\n",
    "# เราจะใช้ Feature จาก \"แถวสุดท้ายที่มีข้อมูล X ครบถ้วน\" ก่อนที่จะถูก dropna ไป\n",
    "# ซึ่งก็คือแถวที่ 8 จากท้ายสุดของ DataFrame ดั้งเดิม (index -8)\n",
    "# แถวนี้คือข้อมูลล่าสุดที่เราสามารถใช้ทำนาย 7 วันข้างหน้าได้\n",
    "X_test = df.iloc[[-1 - forecast_horizon]][features]\n",
    "\n",
    "# 3.2) เตรียมค่าจริงเพื่อเปรียบเทียบ (y_test_actual)\n",
    "# ค่าจริงที่เราจะเปรียบเทียบด้วยคือยอดขาย 7 วันสุดท้ายจริงๆ ของ DataFrame ดั้งเดิม\n",
    "y_test_actual = df['is_hotseller'].tail(7).values\n",
    "\n",
    "print(f\"\\nTest instance to predict from (date: {X_test.index[0].date()})\")\n",
    "print(f\"Actual values to compare against (shape: {y_test_actual.shape})\")"
   ]
  },
  {
   "cell_type": "markdown",
   "metadata": {
    "id": "fiEQiRvwulXG"
   },
   "source": [
    "#Train"
   ]
  },
  {
   "cell_type": "markdown",
   "metadata": {
    "id": "583X4-kGupbC"
   },
   "source": [
    "มีความจำเป็นต้องกำหนด class_weight='balanced' เนื่องจากปัญหา Imbalance target ซึ่งเกิดจากการต้องการแยกวันสำคัญ ซึ่งคือวันขายดีกว่าปกติ ซึ่งเป็นส่วนน้อย"
   ]
  },
  {
   "cell_type": "code",
   "execution_count": null,
   "metadata": {
    "colab": {
     "base_uri": "https://localhost:8080/"
    },
    "executionInfo": {
     "elapsed": 11,
     "status": "ok",
     "timestamp": 1750885655765,
     "user": {
      "displayName": "Thanan Kangsawiwat",
      "userId": "06026257672126219511"
     },
     "user_tz": -420
    },
    "id": "JpmaBBRXzDom",
    "outputId": "6cb7de53-a575-4b94-b861-218430dbf809"
   },
   "outputs": [],
   "source": [
    "base_model = LogisticRegression(class_weight='balanced')\n",
    "model_direct = MultiOutputClassifier(base_model)\n",
    "\n",
    "# เทรนโมเดลด้วยข้อมูลที่สมบูรณ์เท่านั้น\n",
    "model_direct.fit(X_train, y_train)\n",
    "print(\"\\nDirect multi-output model trained successfully.\")\n",
    "\n",
    "# ทำนาย 7 วันข้างหน้าจาก X_test ที่เราเตรียมไว้\n",
    "predictions_direct = model_direct.predict(X_test).flatten()\n",
    "print(\"Direct 7-step forecast completed.\")\n",
    "print(\"\\nPredicted values:\", predictions_direct)"
   ]
  },
  {
   "cell_type": "markdown",
   "metadata": {
    "id": "bBE69pCRvQzs"
   },
   "source": [
    "#Evaluate"
   ]
  },
  {
   "cell_type": "code",
   "execution_count": null,
   "metadata": {
    "colab": {
     "base_uri": "https://localhost:8080/",
     "height": 851
    },
    "executionInfo": {
     "elapsed": 91,
     "status": "ok",
     "timestamp": 1750885655857,
     "user": {
      "displayName": "Thanan Kangsawiwat",
      "userId": "06026257672126219511"
     },
     "user_tz": -420
    },
    "id": "-yCTOekL0JDR",
    "outputId": "2d1eead4-410a-408b-add5-83797bfd5c61"
   },
   "outputs": [],
   "source": [
    "# prompt: วัดผลด้วย Confusion Matrix, Classification Report\n",
    "\n",
    "# แปลงค่า y_test_actual เป็น array ของ integers\n",
    "y_test_actual = y_test_actual.astype(int)\n",
    "\n",
    "# แปลง predictions_direct เป็น array ของ integers (ถ้ายังไม่ใช่)\n",
    "predictions_direct = predictions_direct.astype(int)\n",
    "\n",
    "\n",
    "# วัดผลด้วย Confusion Matrix\n",
    "conf_matrix = confusion_matrix(y_test_actual, predictions_direct)\n",
    "print(\"\\nConfusion Matrix:\")\n",
    "print(conf_matrix)\n",
    "\n",
    "# แสดง Confusion Matrix แบบสวยงามด้วย heatmap\n",
    "plt.figure(figsize=(6, 4))\n",
    "sns.heatmap(conf_matrix, annot=True, fmt='d', cmap='Blues', cbar=False,\n",
    "            xticklabels=['Predicted 0', 'Predicted 1'],\n",
    "            yticklabels=['Actual 0', 'Actual 1'])\n",
    "plt.xlabel('Predicted Label')\n",
    "plt.ylabel('True Label')\n",
    "plt.title('Confusion Matrix')\n",
    "plt.show()\n",
    "\n",
    "\n",
    "# วัดผลด้วย Classification Report\n",
    "class_report = classification_report(y_test_actual, predictions_direct)\n",
    "print(\"\\nClassification Report:\")\n",
    "print(class_report)\n",
    "\n",
    "# คำนวณและแสดง F1-score\n",
    "f1 = f1_score(y_test_actual, predictions_direct)\n",
    "print(f\"\\nF1 Score: {f1:.4f}\")\n",
    "\n",
    "# คำนวณและแสดง Accuracy\n",
    "accuracy = accuracy_score(y_test_actual, predictions_direct)\n",
    "print(f\"Accuracy Score: {accuracy:.4f}\")"
   ]
  }
 ],
 "metadata": {
  "colab": {
   "authorship_tag": "ABX9TyO4g1C2QlAXcIwOqdqoEKK6",
   "provenance": []
  },
  "kernelspec": {
   "display_name": "Python 3",
   "name": "python3"
  },
  "language_info": {
   "name": "python"
  }
 },
 "nbformat": 4,
 "nbformat_minor": 0
}
