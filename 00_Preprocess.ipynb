{
 "cells": [
  {
   "cell_type": "markdown",
   "metadata": {
    "id": "YfRjuGpeQDF5"
   },
   "source": [
    "#Import"
   ]
  },
  {
   "cell_type": "code",
   "execution_count": null,
   "metadata": {
    "executionInfo": {
     "elapsed": 5506,
     "status": "ok",
     "timestamp": 1753858012051,
     "user": {
      "displayName": "Thanan Kangsawiwat",
      "userId": "06026257672126219511"
     },
     "user_tz": -420
    },
    "id": "i4b9EQhSQBUZ"
   },
   "outputs": [],
   "source": [
    "import pandas as pd\n",
    "import matplotlib.pyplot as plt\n",
    "import matplotlib\n",
    "import seaborn as sns\n",
    "from statsmodels.tsa.seasonal import seasonal_decompose"
   ]
  },
  {
   "cell_type": "markdown",
   "metadata": {
    "id": "YeOC1u2mQG-I"
   },
   "source": [
    "#Get Data"
   ]
  },
  {
   "cell_type": "code",
   "execution_count": null,
   "metadata": {
    "id": "VbU_i3J1OFnl"
   },
   "outputs": [],
   "source": [
    "# Path to the Excel file in Google Drive\n",
    "#excel_file_path = \"/content/drive/MyDrive/swuds/t5_thesis/98_progress/dataset/nd_sales.xlsx\"\n",
    "\n",
    "# Read the Excel file into a pandas DataFrame\n",
    "#df = pd.read_excel(excel_file_path)"
   ]
  },
  {
   "cell_type": "code",
   "execution_count": null,
   "metadata": {
    "executionInfo": {
     "elapsed": 4274,
     "status": "ok",
     "timestamp": 1753858108346,
     "user": {
      "displayName": "Thanan Kangsawiwat",
      "userId": "06026257672126219511"
     },
     "user_tz": -420
    },
    "id": "68SwXduhFTi5"
   },
   "outputs": [],
   "source": [
    "# Read the CSV file into a pandas DataFrame\n",
    "df = pd.read_excel(\"/content/nd_sales.xlsx\")"
   ]
  },
  {
   "cell_type": "code",
   "execution_count": null,
   "metadata": {
    "colab": {
     "base_uri": "https://localhost:8080/"
    },
    "executionInfo": {
     "elapsed": 10,
     "status": "ok",
     "timestamp": 1753858123842,
     "user": {
      "displayName": "Thanan Kangsawiwat",
      "userId": "06026257672126219511"
     },
     "user_tz": -420
    },
    "id": "80V8RHyiek52",
    "outputId": "67a475a5-ef60-4246-cad4-5e43ae366aa3"
   },
   "outputs": [],
   "source": [
    "# prompt: prompt: ดูว่า df มี NaN กี่ row\n",
    "\n",
    "# ดูจำนวน row ที่มี NaN ในแต่ละคอลัมน์\n",
    "print(df.isnull().sum())\n",
    "\n",
    "# ดูจำนวน row ทั้งหมดใน DataFrame ที่มีอย่างน้อยหนึ่งค่า NaN\n",
    "print(\"Total rows with NaN:\", df.isnull().any(axis=1).sum())"
   ]
  },
  {
   "cell_type": "code",
   "execution_count": null,
   "metadata": {
    "executionInfo": {
     "elapsed": 1,
     "status": "ok",
     "timestamp": 1753858127776,
     "user": {
      "displayName": "Thanan Kangsawiwat",
      "userId": "06026257672126219511"
     },
     "user_tz": -420
    },
    "id": "YVXl1nkhRMk7"
   },
   "outputs": [],
   "source": [
    "# Drop rows with missing values\n",
    "df_cleaned = df.dropna()\n",
    "df = df_cleaned.copy()"
   ]
  },
  {
   "cell_type": "code",
   "execution_count": null,
   "metadata": {
    "colab": {
     "base_uri": "https://localhost:8080/"
    },
    "executionInfo": {
     "elapsed": 13,
     "status": "ok",
     "timestamp": 1753858128863,
     "user": {
      "displayName": "Thanan Kangsawiwat",
      "userId": "06026257672126219511"
     },
     "user_tz": -420
    },
    "id": "H9EAwy91fLvc",
    "outputId": "c29cfdb5-736d-4802-882d-1988a2270e87"
   },
   "outputs": [],
   "source": [
    "df.info()"
   ]
  },
  {
   "cell_type": "code",
   "execution_count": null,
   "metadata": {
    "executionInfo": {
     "elapsed": 9,
     "status": "ok",
     "timestamp": 1753858131906,
     "user": {
      "displayName": "Thanan Kangsawiwat",
      "userId": "06026257672126219511"
     },
     "user_tz": -420
    },
    "id": "m0F_TMGfRjkw"
   },
   "outputs": [],
   "source": [
    "# Convert date columns\n",
    "df['new_datetime'] = pd.to_datetime(df['date'])"
   ]
  },
  {
   "cell_type": "code",
   "execution_count": null,
   "metadata": {
    "executionInfo": {
     "elapsed": 2,
     "status": "ok",
     "timestamp": 1753858134208,
     "user": {
      "displayName": "Thanan Kangsawiwat",
      "userId": "06026257672126219511"
     },
     "user_tz": -420
    },
    "id": "GRJjXX5ORrNo"
   },
   "outputs": [],
   "source": [
    "# Drop unwanted columns\n",
    "df = df.drop(columns=['local_event', 'other_event']) #'local_event', 'other_event' เป็นคอลัมน์ที่ถูกเพิ่มมาทีหลังได้ไม่นาน อาจจะทำให้ประสิทธิภาพการวิจัยลดลง"
   ]
  },
  {
   "cell_type": "code",
   "execution_count": null,
   "metadata": {
    "executionInfo": {
     "elapsed": 14,
     "status": "ok",
     "timestamp": 1753858134986,
     "user": {
      "displayName": "Thanan Kangsawiwat",
      "userId": "06026257672126219511"
     },
     "user_tz": -420
    },
    "id": "hyWHaBT_SJAy"
   },
   "outputs": [],
   "source": [
    "# Remove commas from numeric strings\n",
    "for col in df.columns:\n",
    "   if df[col].dtype == 'object':\n",
    "         df[col] = df[col].astype(str).str.replace(',', '', regex=False)"
   ]
  },
  {
   "cell_type": "code",
   "execution_count": null,
   "metadata": {
    "executionInfo": {
     "elapsed": 34,
     "status": "ok",
     "timestamp": 1753858159706,
     "user": {
      "displayName": "Thanan Kangsawiwat",
      "userId": "06026257672126219511"
     },
     "user_tz": -420
    },
    "id": "c7jG2hbGSQHu"
   },
   "outputs": [],
   "source": [
    "# Convert columns to appropriate data types\n",
    "df['day'] = df['day'].astype('object')\n",
    "df['date'] = pd.to_datetime(df['date'])\n",
    "df['cost_change'] = pd.to_numeric(df['cost_change'], errors='coerce').astype('float64')\n",
    "df['cost_material'] = pd.to_numeric(df['cost_material'], errors='coerce').astype('float64')\n",
    "df['cost_banking'] = pd.to_numeric(df['cost_banking'], errors='coerce').astype('float64')\n",
    "df['cost_sum'] = pd.to_numeric(df['cost_sum'], errors='coerce').astype('float64')\n",
    "df['sales_fs'] = pd.to_numeric(df['sales_fs'], errors='coerce').astype('float64')\n",
    "df['sales_qr'] = pd.to_numeric(df['sales_qr'], errors='coerce').astype('float64')\n",
    "df['sales_gb'] = pd.to_numeric(df['sales_gb'], errors='coerce').astype('float64')\n",
    "df['sales_sp'] = pd.to_numeric(df['sales_sp'], errors='coerce').astype('float64')\n",
    "df['sales_lm'] = pd.to_numeric(df['sales_lm'], errors='coerce').astype('float64')\n",
    "df['sales_rb'] = pd.to_numeric(df['sales_rb'], errors='coerce').astype('float64')\n",
    "df['sales_sum'] = pd.to_numeric(df['sales_sum'], errors='coerce').astype('float64')\n",
    "df['profit'] = pd.to_numeric(df['profit'], errors='coerce').astype('float64')\n",
    "df['promotion_01'] = df['promotion_01'].astype('object')\n",
    "df['promotion_02'] = df['promotion_02'].astype('object')\n",
    "df['ismarketday'] = pd.to_numeric(df['ismarketday'], errors='coerce').fillna(0).astype('int64')\n",
    "df['isschoolday'] = pd.to_numeric(df['isschoolday'], errors='coerce').fillna(0).astype('int64')\n",
    "df['holiday'] = pd.to_numeric(df['holiday'], errors='coerce').fillna(0).astype('int64')\n",
    "df['isbuddaday'] = pd.to_numeric(df['isbuddaday'], errors='coerce').fillna(0).astype('int64')\n",
    "df['nd_lottery'] = pd.to_numeric(df['nd_lottery'], errors='coerce').fillna(0).astype('int64')\n",
    "df['applylkcolor'] = df['applylkcolor'].astype('object')\n",
    "df['PP'] = pd.to_numeric(df['PP'], errors='coerce').astype('float64')\n",
    "df['T'] = pd.to_numeric(df['T'], errors='coerce').astype('float64')\n",
    "df['H'] = pd.to_numeric(df['H'], errors='coerce').astype('float64')\n",
    "df['V'] = pd.to_numeric(df['V'], errors='coerce').astype('float64')\n",
    "df['pm2.5'] = pd.to_numeric(df['pm2.5'], errors='coerce').astype('float64')\n",
    "df['pm10'] = pd.to_numeric(df['pm10'], errors='coerce').astype('float64')\n",
    "df['o3'] = pd.to_numeric(df['o3'], errors='coerce').astype('float64')\n",
    "df['no2'] = pd.to_numeric(df['no2'], errors='coerce').astype('float64')"
   ]
  },
  {
   "cell_type": "markdown",
   "metadata": {
    "id": "3NpWLGvdS5wn"
   },
   "source": [
    "#EDA"
   ]
  },
  {
   "cell_type": "code",
   "execution_count": null,
   "metadata": {
    "colab": {
     "base_uri": "https://localhost:8080/"
    },
    "executionInfo": {
     "elapsed": 18,
     "status": "ok",
     "timestamp": 1753858171763,
     "user": {
      "displayName": "Thanan Kangsawiwat",
      "userId": "06026257672126219511"
     },
     "user_tz": -420
    },
    "id": "A3yV0BD1S7Mi",
    "outputId": "f082a91f-2c9d-4905-cc0c-1f0cc16989c7"
   },
   "outputs": [],
   "source": [
    "df.info()"
   ]
  },
  {
   "cell_type": "markdown",
   "metadata": {
    "id": "8LxFoGwzTH7w"
   },
   "source": [
    "ตอนนี้ทุก columns ชนิดถูกแล้ว ลองดูข้อมูลต่อ"
   ]
  },
  {
   "cell_type": "code",
   "execution_count": null,
   "metadata": {
    "colab": {
     "base_uri": "https://localhost:8080/",
     "height": 586
    },
    "executionInfo": {
     "elapsed": 55,
     "status": "ok",
     "timestamp": 1753858174148,
     "user": {
      "displayName": "Thanan Kangsawiwat",
      "userId": "06026257672126219511"
     },
     "user_tz": -420
    },
    "id": "yp3I2R3OTVNf",
    "outputId": "53bad622-3e21-4204-b514-f235f2ee1f79"
   },
   "outputs": [],
   "source": [
    "df.head(10)"
   ]
  },
  {
   "cell_type": "code",
   "execution_count": null,
   "metadata": {
    "colab": {
     "base_uri": "https://localhost:8080/",
     "height": 453
    },
    "executionInfo": {
     "elapsed": 85,
     "status": "ok",
     "timestamp": 1753858175969,
     "user": {
      "displayName": "Thanan Kangsawiwat",
      "userId": "06026257672126219511"
     },
     "user_tz": -420
    },
    "id": "FF8W6p_BTsR0",
    "outputId": "b442b1dc-ed2b-4bf5-f8a0-7239dea0ac0b"
   },
   "outputs": [],
   "source": [
    "df.describe()"
   ]
  },
  {
   "cell_type": "code",
   "execution_count": null,
   "metadata": {
    "executionInfo": {
     "elapsed": 2,
     "status": "ok",
     "timestamp": 1753858177833,
     "user": {
      "displayName": "Thanan Kangsawiwat",
      "userId": "06026257672126219511"
     },
     "user_tz": -420
    },
    "id": "a6ePbTrOUzfZ"
   },
   "outputs": [],
   "source": [
    "# Merge banking cost into material cost\n",
    "df['cost_material'] = df['cost_material'] + df['cost_banking']\n",
    "df = df.drop(columns=['cost_banking'])"
   ]
  },
  {
   "cell_type": "code",
   "execution_count": null,
   "metadata": {
    "executionInfo": {
     "elapsed": 16,
     "status": "ok",
     "timestamp": 1753858178634,
     "user": {
      "displayName": "Thanan Kangsawiwat",
      "userId": "06026257672126219511"
     },
     "user_tz": -420
    },
    "id": "QEwRCb-UU73Q"
   },
   "outputs": [],
   "source": [
    "# Merge QR sales into FS sales\n",
    "df['sales_qr'] = df['sales_qr'].fillna(0)\n",
    "df['sales_fs'] = df['sales_fs'].fillna(0)\n",
    "df['sales_fs'] = df['sales_qr'] + df['sales_fs']\n",
    "df = df.drop(columns=['sales_qr'])"
   ]
  },
  {
   "cell_type": "code",
   "execution_count": null,
   "metadata": {
    "colab": {
     "base_uri": "https://localhost:8080/",
     "height": 453
    },
    "executionInfo": {
     "elapsed": 76,
     "status": "ok",
     "timestamp": 1753858179962,
     "user": {
      "displayName": "Thanan Kangsawiwat",
      "userId": "06026257672126219511"
     },
     "user_tz": -420
    },
    "id": "CKInTYASVAND",
    "outputId": "5c9d5e20-ba48-4160-911f-8981429e909b"
   },
   "outputs": [],
   "source": [
    "df.describe()"
   ]
  },
  {
   "cell_type": "code",
   "execution_count": null,
   "metadata": {
    "executionInfo": {
     "elapsed": 1,
     "status": "ok",
     "timestamp": 1753858181716,
     "user": {
      "displayName": "Thanan Kangsawiwat",
      "userId": "06026257672126219511"
     },
     "user_tz": -420
    },
    "id": "5V8991aaVXOF"
   },
   "outputs": [],
   "source": [
    "# Map Thai day abbreviations to English\n",
    "day_mapping = {\n",
    "            'อา.': 'Sun',\n",
    "            'จ.': 'Mon',\n",
    "            'อ.': 'Tue',\n",
    "            'พ.': 'Wed',\n",
    "            'พฤ.': 'Thu',\n",
    "            'ศ.': 'Fri',\n",
    "            'ส.': 'Sat'\n",
    "        }\n",
    "df['day'] = df['day'].replace(day_mapping)"
   ]
  },
  {
   "cell_type": "code",
   "execution_count": null,
   "metadata": {
    "colab": {
     "base_uri": "https://localhost:8080/",
     "height": 342
    },
    "executionInfo": {
     "elapsed": 28,
     "status": "ok",
     "timestamp": 1753858183180,
     "user": {
      "displayName": "Thanan Kangsawiwat",
      "userId": "06026257672126219511"
     },
     "user_tz": -420
    },
    "id": "wYi6QamMVcmC",
    "outputId": "1ec594fb-dc3f-4609-a5c8-029860ab56fd"
   },
   "outputs": [],
   "source": [
    "df.head(5)"
   ]
  },
  {
   "cell_type": "markdown",
   "metadata": {
    "id": "EGC0AmZ-VpTD"
   },
   "source": [
    "ลองดูข้อมูลในมุมมองกราฟบ้าง"
   ]
  },
  {
   "cell_type": "code",
   "execution_count": null,
   "metadata": {
    "colab": {
     "base_uri": "https://localhost:8080/",
     "height": 564
    },
    "executionInfo": {
     "elapsed": 1017,
     "status": "ok",
     "timestamp": 1753858187369,
     "user": {
      "displayName": "Thanan Kangsawiwat",
      "userId": "06026257672126219511"
     },
     "user_tz": -420
    },
    "id": "p1Q0uWhdVvCl",
    "outputId": "734daa88-cf0e-4f33-c562-cd0da3454780"
   },
   "outputs": [],
   "source": [
    "plt.figure(figsize=(12, 6))\n",
    "plt.plot(df['date'], df['sales_sum'])\n",
    "plt.xlabel('date')\n",
    "plt.ylabel('sales_sum')\n",
    "plt.title('Sales Sum over Time')\n",
    "plt.grid(True)\n",
    "plt.show()"
   ]
  },
  {
   "cell_type": "code",
   "execution_count": null,
   "metadata": {
    "executionInfo": {
     "elapsed": 1,
     "status": "ok",
     "timestamp": 1753858189183,
     "user": {
      "displayName": "Thanan Kangsawiwat",
      "userId": "06026257672126219511"
     },
     "user_tz": -420
    },
    "id": "khEEhAJPWMJF"
   },
   "outputs": [],
   "source": [
    "df = df[df['sales_sum'] != 0]"
   ]
  },
  {
   "cell_type": "code",
   "execution_count": null,
   "metadata": {
    "colab": {
     "base_uri": "https://localhost:8080/",
     "height": 564
    },
    "executionInfo": {
     "elapsed": 466,
     "status": "ok",
     "timestamp": 1753858190517,
     "user": {
      "displayName": "Thanan Kangsawiwat",
      "userId": "06026257672126219511"
     },
     "user_tz": -420
    },
    "id": "C969ZP68WlPL",
    "outputId": "fa528532-1c5f-45db-9f45-b4e84b4d5f99"
   },
   "outputs": [],
   "source": [
    "plt.figure(figsize=(12, 6))\n",
    "plt.plot(df['date'], df['sales_sum'])\n",
    "plt.xlabel('date')\n",
    "plt.ylabel('sales_sum')\n",
    "plt.title('Sales Sum over Time')\n",
    "plt.grid(True)\n",
    "plt.show()"
   ]
  },
  {
   "cell_type": "code",
   "execution_count": null,
   "metadata": {
    "colab": {
     "base_uri": "https://localhost:8080/",
     "height": 564
    },
    "executionInfo": {
     "elapsed": 173,
     "status": "ok",
     "timestamp": 1753858193244,
     "user": {
      "displayName": "Thanan Kangsawiwat",
      "userId": "06026257672126219511"
     },
     "user_tz": -420
    },
    "id": "gmY70Ns5XFKh",
    "outputId": "d60dd734-3f8d-4d7c-bf53-f884a40e4330"
   },
   "outputs": [],
   "source": [
    "# Calculate the average sales_sum for each day of the week\n",
    "average_sales_by_day = df.groupby('day')['sales_sum'].mean().reindex(['Sun', 'Mon', 'Tue', 'Wed', 'Thu', 'Fri', 'Sat'])\n",
    "\n",
    "# Plot the linear graph\n",
    "plt.figure(figsize=(10, 6))\n",
    "plt.plot(average_sales_by_day.index, average_sales_by_day.values, marker='o', linestyle='-')\n",
    "plt.xlabel('Day of the Week')\n",
    "plt.ylabel('Average Sales Sum')\n",
    "plt.title('Average Sales Sum by Day of the Week')\n",
    "plt.grid(True)\n",
    "plt.show()"
   ]
  },
  {
   "cell_type": "code",
   "execution_count": null,
   "metadata": {
    "executionInfo": {
     "elapsed": 1,
     "status": "ok",
     "timestamp": 1753858195213,
     "user": {
      "displayName": "Thanan Kangsawiwat",
      "userId": "06026257672126219511"
     },
     "user_tz": -420
    },
    "id": "pZO7tKW2ZHhH"
   },
   "outputs": [],
   "source": [
    "# Adjust Friday sales by adding 6000\n",
    "df.loc[df['day'] == 'Fri', 'sales_sum'] = df.loc[df['day'] == 'Fri', 'sales_sum'] + 5000"
   ]
  },
  {
   "cell_type": "code",
   "execution_count": null,
   "metadata": {
    "colab": {
     "base_uri": "https://localhost:8080/",
     "height": 564
    },
    "executionInfo": {
     "elapsed": 213,
     "status": "ok",
     "timestamp": 1753858196086,
     "user": {
      "displayName": "Thanan Kangsawiwat",
      "userId": "06026257672126219511"
     },
     "user_tz": -420
    },
    "id": "JyqKt9edZNT5",
    "outputId": "eb9e24c9-7424-48d7-cde5-fc2e733d2628"
   },
   "outputs": [],
   "source": [
    "# Calculate the average sales_sum for each day of the week\n",
    "average_sales_by_day = df.groupby('day')['sales_sum'].mean().reindex(['Sun', 'Mon', 'Tue', 'Wed', 'Thu', 'Fri', 'Sat'])\n",
    "\n",
    "# Plot the linear graph\n",
    "plt.figure(figsize=(10, 6))\n",
    "plt.plot(average_sales_by_day.index, average_sales_by_day.values, marker='o', linestyle='-')\n",
    "plt.xlabel('Day of the Week')\n",
    "plt.ylabel('Average Sales Sum')\n",
    "plt.title('Average Sales Sum by Day of the Week')\n",
    "plt.grid(True)\n",
    "plt.show()"
   ]
  },
  {
   "cell_type": "markdown",
   "metadata": {
    "id": "ZMkCkeMPaDA3"
   },
   "source": [
    "ข้อมูล sales_sum ถูกต้องแล้ว ลองดู outliner ต่อ"
   ]
  },
  {
   "cell_type": "code",
   "execution_count": null,
   "metadata": {
    "colab": {
     "base_uri": "https://localhost:8080/",
     "height": 869
    },
    "executionInfo": {
     "elapsed": 624,
     "status": "ok",
     "timestamp": 1753858198951,
     "user": {
      "displayName": "Thanan Kangsawiwat",
      "userId": "06026257672126219511"
     },
     "user_tz": -420
    },
    "id": "_VgW24caaIs0",
    "outputId": "ed6d6e94-e280-4250-f59d-2a504d25ef51"
   },
   "outputs": [],
   "source": [
    "# Select only the numeric columns\n",
    "numeric_cols = df.select_dtypes(include=['float64', 'int64']).columns\n",
    "# Create a single figure and axes for the box plots\n",
    "plt.figure(figsize=(15, 10))\n",
    "# Plot box plots for each numeric column\n",
    "df[numeric_cols].boxplot(vert=False, patch_artist=True, showfliers=True) # vert=False for horizontal box plots\n",
    "plt.title('Box Plot of Numeric Variables')\n",
    "plt.xlabel('Value')\n",
    "plt.ylabel('Numeric Variables')\n",
    "plt.tight_layout() # Adjust layout to prevent labels overlapping\n",
    "plt.show()"
   ]
  },
  {
   "cell_type": "markdown",
   "metadata": {
    "id": "n6Vszt2HcD1K"
   },
   "source": [
    "ไม่มี out liner ที่ผิดปกติเลย"
   ]
  },
  {
   "cell_type": "code",
   "execution_count": null,
   "metadata": {
    "colab": {
     "base_uri": "https://localhost:8080/",
     "height": 1000
    },
    "executionInfo": {
     "elapsed": 2238,
     "status": "ok",
     "timestamp": 1753858204414,
     "user": {
      "displayName": "Thanan Kangsawiwat",
      "userId": "06026257672126219511"
     },
     "user_tz": -420
    },
    "id": "O0SO3yM1cb4l",
    "outputId": "daea7a5b-a4cd-4194-bc85-3b80a46d27c4"
   },
   "outputs": [],
   "source": [
    "# prompt: สร้าง Seasonal Plot (เช่น ยอดขายเฉลี่ยรายวันของสัปดาห์) เพื่อยืนยันรูปแบบรายสัปดาห์ แยกเป็น 6 กราฟ แสดงเฉพาะ Sun - Fri อย่างละกราฟ\n",
    "\n",
    "# Extract day of the week and year\n",
    "df['dayofweek'] = df['new_datetime'].dt.dayofweek  # Monday=0, Sunday=6\n",
    "df['year'] = df['new_datetime'].dt.year\n",
    "\n",
    "# Filter out Saturday (dayofweek == 5)\n",
    "df_filtered_days = df[df['dayofweek'] != 5].copy()\n",
    "\n",
    "# Map dayofweek to English day names\n",
    "day_map = {\n",
    "    0: 'Mon',\n",
    "    1: 'Tue',\n",
    "    2: 'Wed',\n",
    "    3: 'Thu',\n",
    "    4: 'Fri',\n",
    "    5: 'Sat',\n",
    "    6: 'Sun'\n",
    "}\n",
    "df_filtered_days['day_name'] = df_filtered_days['dayofweek'].map(day_map)\n",
    "\n",
    "# Get the list of days to plot (Sun to Fri)\n",
    "days_to_plot = ['Sun', 'Mon', 'Tue', 'Wed', 'Thu', 'Fri']\n",
    "\n",
    "# Create subplots for each day\n",
    "fig, axes = plt.subplots(nrows=len(days_to_plot), ncols=1, figsize=(12, 3 * len(days_to_plot)))\n",
    "fig.suptitle('Seasonal Plot of Average Daily Sales Sum (Sun - Fri)', y=1.02)\n",
    "\n",
    "for i, day in enumerate(days_to_plot):\n",
    "    # Filter data for the current day\n",
    "    df_day = df_filtered_days[df_filtered_days['day_name'] == day].copy()\n",
    "\n",
    "    # Group by date and calculate the average sales sum for that date\n",
    "    # (even though there's usually only one entry per date, this handles potential duplicates gracefully)\n",
    "    daily_avg_sales = df_day.groupby('new_datetime')['sales_sum'].mean()\n",
    "\n",
    "    # Plot the average daily sales for the current day\n",
    "    axes[i].plot(daily_avg_sales.index, daily_avg_sales.values, label=day)\n",
    "    axes[i].set_title(f'Average Sales Sum on {day}')\n",
    "    axes[i].set_ylabel('Average Sales Sum')\n",
    "    axes[i].grid(True)\n",
    "    axes[i].legend()\n",
    "\n",
    "# Set a common xlabel for all subplots\n",
    "fig.text(0.5, 0.00, 'Date', ha='center')\n",
    "\n",
    "plt.tight_layout()\n",
    "plt.show()"
   ]
  },
  {
   "cell_type": "code",
   "execution_count": null,
   "metadata": {
    "colab": {
     "base_uri": "https://localhost:8080/",
     "height": 807
    },
    "executionInfo": {
     "elapsed": 932,
     "status": "ok",
     "timestamp": 1753858209018,
     "user": {
      "displayName": "Thanan Kangsawiwat",
      "userId": "06026257672126219511"
     },
     "user_tz": -420
    },
    "id": "lxpWX4ICguY7",
    "outputId": "058b8ff1-2239-4bf1-aaa2-fe7b35cbedab"
   },
   "outputs": [],
   "source": [
    "# Set the 'date' column as the index\n",
    "df_decomp = df.set_index('date')\n",
    "\n",
    "# Select the time series data for decomposition\n",
    "time_series = df_decomp['sales_sum']\n",
    "\n",
    "# Perform additive decomposition\n",
    "decomposition = seasonal_decompose(time_series, model='additive', period=7) # Use period=7 for weekly seasonality\n",
    "\n",
    "# Plot the decomposed components\n",
    "fig = decomposition.plot()\n",
    "fig.set_size_inches(10, 8)\n",
    "plt.tight_layout()\n",
    "plt.show()\n"
   ]
  },
  {
   "cell_type": "code",
   "execution_count": null,
   "metadata": {
    "colab": {
     "base_uri": "https://localhost:8080/",
     "height": 837
    },
    "executionInfo": {
     "elapsed": 878,
     "status": "ok",
     "timestamp": 1753858211829,
     "user": {
      "displayName": "Thanan Kangsawiwat",
      "userId": "06026257672126219511"
     },
     "user_tz": -420
    },
    "id": "KGnsKRAyjFxx",
    "outputId": "44f46e5f-0a9b-4ea3-f400-d5f9db865ca3"
   },
   "outputs": [],
   "source": [
    "# prompt: สร้าง Decomposition Plot เพื่อแยกองค์ประกอบของ Trend, Seasonality และ Residuals ออกจากกันอย่างชัดเจน โดยทำเป็นรายเดือน\n",
    "\n",
    "# Perform additive decomposition with monthly period\n",
    "decomposition_monthly = seasonal_decompose(time_series, model='additive', period=30) # Use period=30 for roughly monthly seasonality\n",
    "\n",
    "# Plot the decomposed components for monthly\n",
    "fig_monthly = decomposition_monthly.plot()\n",
    "fig_monthly.set_size_inches(10, 8)\n",
    "fig_monthly.suptitle('Monthly Decomposition of Sales Sum', y=1.02) # Add a specific title\n",
    "plt.tight_layout()\n",
    "plt.show()"
   ]
  },
  {
   "cell_type": "code",
   "execution_count": null,
   "metadata": {
    "colab": {
     "base_uri": "https://localhost:8080/",
     "height": 1000
    },
    "executionInfo": {
     "elapsed": 1522,
     "status": "ok",
     "timestamp": 1753858215191,
     "user": {
      "displayName": "Thanan Kangsawiwat",
      "userId": "06026257672126219511"
     },
     "user_tz": -420
    },
    "id": "9yjyLeJUlKc7",
    "outputId": "a9977c24-0260-4f48-d632-03f803933e8a"
   },
   "outputs": [],
   "source": [
    "# เพื่อแยกตามเดือนตามปฏิทินจริงๆ เราสามารถ Resample ข้อมูลเป็นรายเดือนก่อน แล้วจึงทำ Decomposition\n",
    "# Resample to monthly frequency, summing the sales_sum for each month\n",
    "monthly_data = time_series.resample('M').sum()\n",
    "\n",
    "# A better approach for visualizing calendar month patterns is a seasonal plot by month.\n",
    "\n",
    "# We already have a 'new_datetime' column. Let's use that to extract the month.\n",
    "df['month'] = df['new_datetime'].dt.month\n",
    "\n",
    "# Group by month and calculate the average sales sum for each month across all years\n",
    "average_sales_by_month = df.groupby('month')['sales_sum'].mean()\n",
    "\n",
    "# Map month numbers to names for better plotting\n",
    "month_names = {\n",
    "    1: 'Jan', 2: 'Feb', 3: 'Mar', 4: 'Apr', 5: 'May', 6: 'Jun',\n",
    "    7: 'Jul', 8: 'Aug', 9: 'Sep', 10: 'Oct', 11: 'Nov', 12: 'Dec'\n",
    "}\n",
    "average_sales_by_month.index = average_sales_by_month.index.map(month_names)\n",
    "\n",
    "# Plot the average sales by calendar month\n",
    "plt.figure(figsize=(10, 6))\n",
    "plt.plot(average_sales_by_month.index, average_sales_by_month.values, marker='o', linestyle='-')\n",
    "plt.xlabel('Calendar Month')\n",
    "plt.ylabel('Average Sales Sum')\n",
    "plt.title('Average Sales Sum by Calendar Month Across All Years')\n",
    "plt.grid(True)\n",
    "plt.show()\n",
    "\n",
    "# Let's do that as well, as it aligns more with the concept of decomposition plots.\n",
    "# Resample to monthly frequency (sum of sales for each month)\n",
    "monthly_series = time_series.resample('M').sum()\n",
    "\n",
    "# Perform additive decomposition on the monthly aggregated data with period=12\n",
    "# This will show trend and annual seasonality (12-month cycle) within the monthly sums\n",
    "decomposition_monthly_agg = seasonal_decompose(monthly_series, model='additive', period=12)\n",
    "\n",
    "# Plot the decomposed components for monthly aggregated data\n",
    "fig_monthly_agg = decomposition_monthly_agg.plot()\n",
    "fig_monthly_agg.set_size_inches(10, 8)\n",
    "fig_monthly_agg.suptitle('Decomposition of Monthly Sales Sum (Annual Seasonality)', y=1.02) # Add a specific title\n",
    "plt.tight_layout()\n",
    "plt.show()"
   ]
  },
  {
   "cell_type": "code",
   "execution_count": null,
   "metadata": {
    "colab": {
     "base_uri": "https://localhost:8080/",
     "height": 641
    },
    "executionInfo": {
     "elapsed": 320,
     "status": "ok",
     "timestamp": 1753858219613,
     "user": {
      "displayName": "Thanan Kangsawiwat",
      "userId": "06026257672126219511"
     },
     "user_tz": -420
    },
    "id": "erv_04R5r1gi",
    "outputId": "af7408d3-3a4c-4d53-a90d-1f473b9d01aa"
   },
   "outputs": [],
   "source": [
    "# prompt: plot line graph แบ่งตามเดือน แกน x = Jan, Feb, ... , แกน y = sales_sum โดยมีหลายเส้นแบ่งตามปีของข้อมูล เช่น 2023, 2024, 2025 (ไม่ต้องพลอตเดือนสุดท้ายของปีสุดท้าย)\n",
    "\n",
    "# Group by year and month, then sum sales_sum\n",
    "df['year'] = df['date'].dt.year\n",
    "df['month'] = df['date'].dt.month\n",
    "\n",
    "# Create monthly data grouped by year\n",
    "monthly_sales_by_year = df.groupby(['year', 'month'])['sales_sum'].sum().reset_index()\n",
    "\n",
    "# Get the maximum year in the dataset\n",
    "max_year = monthly_sales_by_year['year'].max()\n",
    "\n",
    "# Filter out the last month of the last year\n",
    "monthly_sales_filtered = monthly_sales_by_year[\n",
    "    ~((monthly_sales_by_year['year'] == max_year) & (monthly_sales_by_year['month'] == 12))\n",
    "].copy()\n",
    "\n",
    "\n",
    "plt.figure(figsize=(12, 7))\n",
    "\n",
    "# Iterate through each year and plot a line\n",
    "for year in monthly_sales_filtered['year'].unique():\n",
    "    df_year = monthly_sales_filtered[monthly_sales_filtered['year'] == year]\n",
    "\n",
    "    # Ensure all months (1-12) are present for consistent plotting\n",
    "    # Create a full set of months for the year\n",
    "    full_months = pd.DataFrame({'month': range(1, 13)})\n",
    "    df_year_full = pd.merge(full_months, df_year, on='month', how='left')\n",
    "\n",
    "    # Sort by month\n",
    "    df_year_full = df_year_full.sort_values('month')\n",
    "\n",
    "    # Plot the data, excluding the last month if it's the max year and month 12\n",
    "    months_to_plot = range(1, 13)\n",
    "    if year == max_year:\n",
    "        months_to_plot = range(1, 12) # Exclude month 12 for the last year\n",
    "\n",
    "    plt.plot(df_year_full['month'].iloc[months_to_plot.start-1 : months_to_plot.stop-1], # Adjust indexing for months\n",
    "             df_year_full['sales_sum'].iloc[months_to_plot.start-1 : months_to_plot.stop-1],\n",
    "             marker='o', linestyle='-', label=str(year))\n",
    "\n",
    "\n",
    "# Set x-axis labels to month names\n",
    "month_names_short = ['Jan', 'Feb', 'Mar', 'Apr', 'May', 'Jun', 'Jul', 'Aug', 'Sep', 'Oct', 'Nov', 'Dec']\n",
    "plt.xticks(range(1, 13), month_names_short) # Set ticks for all 12 months\n",
    "\n",
    "plt.xlabel('Month')\n",
    "plt.ylabel('Sum of Sales')\n",
    "plt.ylim(ymin=0)\n",
    "plt.title('Monthly Sales Sum by Year')\n",
    "plt.legend(title='Year')\n",
    "plt.grid(True)\n",
    "plt.show()\n"
   ]
  },
  {
   "cell_type": "code",
   "execution_count": null,
   "metadata": {
    "colab": {
     "base_uri": "https://localhost:8080/",
     "height": 1000
    },
    "executionInfo": {
     "elapsed": 1584,
     "status": "ok",
     "timestamp": 1753858229675,
     "user": {
      "displayName": "Thanan Kangsawiwat",
      "userId": "06026257672126219511"
     },
     "user_tz": -420
    },
    "id": "U3XCfELqo-Rw",
    "outputId": "2176527e-1f89-4e8e-e2fa-371c4f91b866"
   },
   "outputs": [],
   "source": [
    "# prompt: คำนวณ Correlation Matrix จาก numeric features\n",
    "\n",
    "import seaborn as sns\n",
    "\n",
    "# Select only the numeric columns again for correlation calculation\n",
    "numeric_cols_for_corr = df.select_dtypes(include=['float64', 'int64']).columns\n",
    "\n",
    "# Calculate the correlation matrix\n",
    "correlation_matrix = df[numeric_cols_for_corr].corr()\n",
    "\n",
    "# Print the correlation matrix\n",
    "print(\"Correlation Matrix of Numeric Features:\")\n",
    "print(correlation_matrix)\n",
    "\n",
    "# Optional: Visualize the correlation matrix using a heatmap\n",
    "plt.figure(figsize=(12, 10))\n",
    "sns.heatmap(correlation_matrix, annot=True, cmap='coolwarm', fmt=\".1f\", linewidths=.5)\n",
    "plt.title('Correlation Heatmap of Numeric Features')\n",
    "plt.show()"
   ]
  },
  {
   "cell_type": "code",
   "execution_count": null,
   "metadata": {
    "id": "F5AzVr31qzjs"
   },
   "outputs": [],
   "source": [
    "#df.to_csv('nd_sales_clean.csv', index=False)\n",
    "#print(\"DataFrame exported successfully as 'nd_sales_clean.csv'\")"
   ]
  },
  {
   "cell_type": "code",
   "execution_count": null,
   "metadata": {
    "colab": {
     "base_uri": "https://localhost:8080/"
    },
    "executionInfo": {
     "elapsed": 348,
     "status": "ok",
     "timestamp": 1753858239432,
     "user": {
      "displayName": "Thanan Kangsawiwat",
      "userId": "06026257672126219511"
     },
     "user_tz": -420
    },
    "id": "Xx8rSRoRf4CK",
    "outputId": "8ef43244-f66d-4a90-c8e3-70c3ec4dd5a8"
   },
   "outputs": [],
   "source": [
    "# prompt: แสดง VIF (Variance Inflation Factor)\n",
    "\n",
    "from statsmodels.stats.outliers_influence import variance_inflation_factor\n",
    "\n",
    "# Select numerical features for VIF calculation\n",
    "# Exclude the target variable ('sales_sum') and potentially highly correlated/dependent variables like profit, costs, etc.\n",
    "# Also exclude variables that are essentially identifiers or not meant to be predictors like date, year, month, dayofweek, day_name\n",
    "# Let's select relevant numerical predictors identified from EDA/correlation analysis.\n",
    "# Based on the previous analysis, potential numerical predictors could include:\n",
    "# ismarketday, isschoolday, holiday, isbuddaday, nd_lottery,\n",
    "# sales from other channels (sales_gb, sales_rb) - but remember to use lagged values for prediction!\n",
    "# Weather/pollution variables (T, H, V, PP, pm2.5, o3, no2) - consider multicollinearity\n",
    "\n",
    "# For VIF calculation, we need the predictor variables.\n",
    "# Let's start with a subset of potential numerical predictors excluding the target and cost/profit.\n",
    "# Also, let's be mindful of multicollinearity issues identified (e.g., pm2.5 and pm10).\n",
    "# We'll use a subset of potentially useful features for this example.\n",
    "# Note: VIF is calculated for the independent variables *before* modeling.\n",
    "\n",
    "# First, identify numerical columns that are potential predictors\n",
    "# Exclude 'sales_sum', 'profit', and cost-related columns as they are results/components of sales.\n",
    "# Exclude date-related columns that are not numerical predictors themselves but used for time series analysis.\n",
    "# Exclude 'dayofweek', 'year', 'month' as we might use categorical encoding for time-based features or rely on the time series model itself.\n",
    "numerical_predictors = df.select_dtypes(include=['float64', 'int64']).columns.tolist()\n",
    "\n",
    "# Remove the target variable and other dependent/related variables\n",
    "exclude_cols = ['sales_sum', 'profit', 'cost_sum', 'cost_material', 'cost_change',\n",
    "                'date', 'new_datetime', 'year', 'month', 'dayofweek']\n",
    "\n",
    "vif_features = [col for col in numerical_predictors if col not in exclude_cols]\n",
    "\n",
    "# Optional: Further refine vif_features based on EDA/correlation.\n",
    "# For instance, if pm10 is highly correlated with pm2.5 and we decide to use only pm2.5.\n",
    "# Let's remove pm10 for this VIF calculation based on previous observation (corr=0.86 with pm2.5).\n",
    "if 'pm10' in vif_features:\n",
    "    vif_features.remove('pm10')\n",
    "\n",
    "# Create a DataFrame with only the features for VIF calculation\n",
    "X = df[vif_features]\n",
    "\n",
    "# Ensure there are no missing values in the selected columns for VIF calculation\n",
    "X = X.dropna()\n",
    "\n",
    "# Handle potential infinite values that might arise from perfectly correlated variables\n",
    "# A common issue is when one variable is a linear combination of others.\n",
    "# Check for constant columns or columns that are linear combinations.\n",
    "# A simple check is to see if the variance is zero or close to zero.\n",
    "non_constant_cols = X.columns[X.var() > 1e-6] # Remove columns with near-zero variance\n",
    "X = X[non_constant_cols]\n",
    "\n",
    "# If after removing near-zero variance columns, there are still perfect linear combinations,\n",
    "# VIF calculation will fail. This might require domain knowledge or further analysis\n",
    "# to identify and remove one of the perfectly correlated variables.\n",
    "# For example, if 'A', 'B', 'C' are such that A + B = C, then including all three will cause issues.\n",
    "\n",
    "# Calculate VIF for each predictor\n",
    "# Make sure X is not empty\n",
    "if not X.empty:\n",
    "    vif_data = pd.DataFrame()\n",
    "    vif_data[\"feature\"] = X.columns\n",
    "    # calculating VIF for each feature\n",
    "    vif_data[\"VIF\"] = [variance_inflation_factor(X.values, i)\n",
    "                       for i in range(len(X.columns))]\n",
    "\n",
    "    print(\"\\nVariance Inflation Factor (VIF):\")\n",
    "    print(vif_data)\n",
    "else:\n",
    "    print(\"No suitable numerical features found for VIF calculation after exclusions.\")\n",
    "\n"
   ]
  },
  {
   "cell_type": "code",
   "execution_count": null,
   "metadata": {
    "executionInfo": {
     "elapsed": 15,
     "status": "ok",
     "timestamp": 1753858311020,
     "user": {
      "displayName": "Thanan Kangsawiwat",
      "userId": "06026257672126219511"
     },
     "user_tz": -420
    },
    "id": "lPyJAGneGPTA"
   },
   "outputs": [],
   "source": [
    "df_holiday = df[(df['day'] == 'Sun') | (df['holiday'] == 1)].copy()"
   ]
  },
  {
   "cell_type": "code",
   "execution_count": null,
   "metadata": {
    "colab": {
     "base_uri": "https://localhost:8080/",
     "height": 474
    },
    "executionInfo": {
     "elapsed": 108,
     "status": "ok",
     "timestamp": 1753858737271,
     "user": {
      "displayName": "Thanan Kangsawiwat",
      "userId": "06026257672126219511"
     },
     "user_tz": -420
    },
    "id": "RM4b8VyaGhwQ",
    "outputId": "9c75eecb-28f3-4f5d-84f0-2f90ef90eda9"
   },
   "outputs": [],
   "source": [
    "# Filter data for 2024 and 2025\n",
    "df_2024 = df[df['year'] == 2023].copy()\n",
    "df_2025 = df[df['year'] == 2024].copy()\n",
    "\n",
    "# Calculate average daily sales per month for 2023\n",
    "average_sales_2024 = df_2024.groupby(df_2024['date'].dt.month)['sales_sum'].mean()\n",
    "\n",
    "# Calculate average daily sales per month for 2025\n",
    "average_sales_2025 = df_2025.groupby(df_2025['date'].dt.month)['sales_sum'].mean()\n",
    "\n",
    "# Combine the average sales into a single DataFrame\n",
    "comparison_df = pd.DataFrame({\n",
    "    'Average Sales 2024': average_sales_2024,\n",
    "    'Average Sales 2025': average_sales_2025\n",
    "})\n",
    "\n",
    "# Calculate the percentage change\n",
    "comparison_df['Percentage Change (%)'] = ((comparison_df['Average Sales 2025'] - comparison_df['Average Sales 2024']) / comparison_df['Average Sales 2024']) * 100\n",
    "\n",
    "# Map month numbers to names\n",
    "month_names = {\n",
    "    1: 'Jan', 2: 'Feb', 3: 'Mar', 4: 'Apr', 5: 'May', 6: 'Jun',\n",
    "    7: 'Jul', 8: 'Aug', 9: 'Sep', 10: 'Oct', 11: 'Nov', 12: 'Dec'\n",
    "}\n",
    "comparison_df.index = comparison_df.index.map(month_names)\n",
    "\n",
    "# Display the comparison\n",
    "print(\"Average Daily Sales Comparison (2025 vs 2024):\")\n",
    "display(comparison_df)"
   ]
  },
  {
   "cell_type": "code",
   "execution_count": null,
   "metadata": {
    "colab": {
     "base_uri": "https://localhost:8080/",
     "height": 474
    },
    "executionInfo": {
     "elapsed": 105,
     "status": "ok",
     "timestamp": 1753858759896,
     "user": {
      "displayName": "Thanan Kangsawiwat",
      "userId": "06026257672126219511"
     },
     "user_tz": -420
    },
    "id": "2g0Sju_BHUGo",
    "outputId": "532e9f5b-e7fb-44d9-b460-71d5605500f7"
   },
   "outputs": [],
   "source": [
    "# Filter data for 2024 and 2025\n",
    "df_2024 = df_holiday[df_holiday['year'] == 2024].copy()\n",
    "df_2025 = df_holiday[df_holiday['year'] == 2025].copy()\n",
    "\n",
    "# Calculate average daily sales per month for 2023\n",
    "average_sales_2024 = df_2024.groupby(df_2024['date'].dt.month)['sales_sum'].mean()\n",
    "\n",
    "# Calculate average daily sales per month for 2025\n",
    "average_sales_2025 = df_2025.groupby(df_2025['date'].dt.month)['sales_sum'].mean()\n",
    "\n",
    "# Combine the average sales into a single DataFrame\n",
    "comparison_df = pd.DataFrame({\n",
    "    'Average Sales 2024': average_sales_2024,\n",
    "    'Average Sales 2025': average_sales_2025\n",
    "})\n",
    "\n",
    "# Calculate the percentage change\n",
    "comparison_df['Percentage Change (%)'] = ((comparison_df['Average Sales 2025'] - comparison_df['Average Sales 2024']) / comparison_df['Average Sales 2024']) * 100\n",
    "\n",
    "# Map month numbers to names\n",
    "month_names = {\n",
    "    1: 'Jan', 2: 'Feb', 3: 'Mar', 4: 'Apr', 5: 'May', 6: 'Jun',\n",
    "    7: 'Jul', 8: 'Aug', 9: 'Sep', 10: 'Oct', 11: 'Nov', 12: 'Dec'\n",
    "}\n",
    "comparison_df.index = comparison_df.index.map(month_names)\n",
    "\n",
    "# Display the comparison\n",
    "print(\"Average Daily Sales Comparison (2025 vs 2024):\")\n",
    "display(comparison_df)"
   ]
  },
  {
   "cell_type": "code",
   "execution_count": null,
   "metadata": {
    "colab": {
     "base_uri": "https://localhost:8080/"
    },
    "executionInfo": {
     "elapsed": 6,
     "status": "ok",
     "timestamp": 1753858835706,
     "user": {
      "displayName": "Thanan Kangsawiwat",
      "userId": "06026257672126219511"
     },
     "user_tz": -420
    },
    "id": "TK7u_PtQIWy-",
    "outputId": "eb90b98f-4560-47a3-b641-58d42b87cf8c"
   },
   "outputs": [],
   "source": [
    "# Filter data for Sundays or holidays in 2024\n",
    "df_holiday_2024 = df_holiday[df_holiday['year'] == 2024].copy()\n",
    "\n",
    "# Filter data for Sundays or holidays in 2025\n",
    "df_holiday_2025 = df_holiday[df_holiday['year'] == 2025].copy()\n",
    "\n",
    "# Calculate average daily sales for Sundays or holidays in 2024\n",
    "average_holiday_sales_2024 = df_holiday_2024['sales_sum'].mean()\n",
    "\n",
    "# Calculate average daily sales for Sundays or holidays in 2025\n",
    "average_holiday_sales_2025 = df_holiday_2025['sales_sum'].mean()\n",
    "\n",
    "# Calculate the percentage change\n",
    "if average_holiday_sales_2024 != 0:\n",
    "    percentage_change = ((average_holiday_sales_2025 - average_holiday_sales_2024) / average_holiday_sales_2024) * 100\n",
    "else:\n",
    "    percentage_change = float('inf') # Handle division by zero if 2024 average is 0\n",
    "\n",
    "print(f\"Average daily sales on Sundays or holidays in 2024: {average_holiday_sales_2024:.2f}\")\n",
    "print(f\"Average daily sales on Sundays or holidays in 2025: {average_holiday_sales_2025:.2f}\")\n",
    "print(f\"Percentage change in average daily sales on Sundays or holidays (2025 vs 2024): {percentage_change:.2f}%\")"
   ]
  }
 ],
 "metadata": {
  "colab": {
   "authorship_tag": "ABX9TyNa3u3Z+ME361SUmgopvDqG",
   "mount_file_id": "1TaXUan-k0240tFmzb53ir_VcCm55gh49",
   "provenance": []
  },
  "kernelspec": {
   "display_name": "Python 3",
   "name": "python3"
  },
  "language_info": {
   "name": "python"
  }
 },
 "nbformat": 4,
 "nbformat_minor": 0
}
