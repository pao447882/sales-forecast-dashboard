{
 "cells": [
  {
   "cell_type": "code",
   "execution_count": null,
   "metadata": {
    "executionInfo": {
     "elapsed": 13,
     "status": "ok",
     "timestamp": 1753546909118,
     "user": {
      "displayName": "Thanan Kangsawiwat",
      "userId": "06026257672126219511"
     },
     "user_tz": -420
    },
    "id": "iMzBrRLh2DI8"
   },
   "outputs": [],
   "source": []
  },
  {
   "cell_type": "markdown",
   "metadata": {
    "id": "eobtXJFJ4bqn"
   },
   "source": [
    "ref : https://machinelearningmastery.com/time-series-forecasting-with-prophet-in-python/?utm_source=chatgpt.com"
   ]
  },
  {
   "cell_type": "markdown",
   "metadata": {
    "id": "ub4Sfqjb2RRZ"
   },
   "source": [
    "#Import"
   ]
  },
  {
   "cell_type": "code",
   "execution_count": null,
   "metadata": {
    "colab": {
     "base_uri": "https://localhost:8080/"
    },
    "executionInfo": {
     "elapsed": 20884,
     "status": "ok",
     "timestamp": 1753547217238,
     "user": {
      "displayName": "Thanan Kangsawiwat",
      "userId": "06026257672126219511"
     },
     "user_tz": -420
    },
    "id": "gc4rvZmV2SrR",
    "outputId": "b3c3b916-1d72-4ac7-a9c2-700d16759198"
   },
   "outputs": [],
   "source": [
    "from google.colab import drive\n",
    "drive.mount('/content/drive')"
   ]
  },
  {
   "cell_type": "code",
   "execution_count": null,
   "metadata": {
    "executionInfo": {
     "elapsed": 2605,
     "status": "ok",
     "timestamp": 1753547222759,
     "user": {
      "displayName": "Thanan Kangsawiwat",
      "userId": "06026257672126219511"
     },
     "user_tz": -420
    },
    "id": "aAf-WaNY3Fg7"
   },
   "outputs": [],
   "source": [
    "import pandas as pd\n",
    "from prophet import Prophet\n",
    "from sklearn.metrics import mean_squared_error, mean_absolute_error\n",
    "import numpy as np\n",
    "import matplotlib.pyplot as plt\n",
    "from prophet.diagnostics import cross_validation, performance_metrics\n",
    "import itertools"
   ]
  },
  {
   "cell_type": "code",
   "execution_count": null,
   "metadata": {
    "colab": {
     "base_uri": "https://localhost:8080/"
    },
    "executionInfo": {
     "elapsed": 1840,
     "status": "ok",
     "timestamp": 1753547225341,
     "user": {
      "displayName": "Thanan Kangsawiwat",
      "userId": "06026257672126219511"
     },
     "user_tz": -420
    },
    "id": "mbAwZu4-2dcl",
    "outputId": "be2ad28f-d04e-46f0-906e-3b6dfa4ca2c6"
   },
   "outputs": [],
   "source": [
    "df = pd.read_csv('/content/drive/MyDrive/swuds/t5_thesis/98_progress/dataset/nd_sales_Prophet.csv')\n",
    "print(df.head())"
   ]
  },
  {
   "cell_type": "markdown",
   "metadata": {
    "id": "PcyO6ACP39P9"
   },
   "source": [
    "#Preprocess"
   ]
  },
  {
   "cell_type": "code",
   "execution_count": null,
   "metadata": {
    "colab": {
     "base_uri": "https://localhost:8080/"
    },
    "executionInfo": {
     "elapsed": 8,
     "status": "ok",
     "timestamp": 1753547227814,
     "user": {
      "displayName": "Thanan Kangsawiwat",
      "userId": "06026257672126219511"
     },
     "user_tz": -420
    },
    "id": "7yq0wzDuFKhg",
    "outputId": "40cbe67e-0a1d-490d-a3cf-54c6b5db6f29"
   },
   "outputs": [],
   "source": [
    "# กำหนดลิสต์ของ Regressor ที่จะใช้\n",
    "regressor_columns = ['ismarketday', 'isschoolday', 'holiday']\n",
    "\n",
    "# เลือกคอลัมน์ที่จำเป็นทั้งหมด\n",
    "df_prophet = df[['ds', 'y'] + regressor_columns].copy()\n",
    "print(\"Data prepared for Prophet with regressors.\")"
   ]
  },
  {
   "cell_type": "code",
   "execution_count": null,
   "metadata": {
    "executionInfo": {
     "elapsed": 13,
     "status": "ok",
     "timestamp": 1753547229501,
     "user": {
      "displayName": "Thanan Kangsawiwat",
      "userId": "06026257672126219511"
     },
     "user_tz": -420
    },
    "id": "_7JXBbhcLAlP"
   },
   "outputs": [],
   "source": [
    "df_prophet['ds'] = pd.to_datetime(df_prophet['ds'])"
   ]
  },
  {
   "cell_type": "code",
   "execution_count": null,
   "metadata": {
    "colab": {
     "base_uri": "https://localhost:8080/"
    },
    "executionInfo": {
     "elapsed": 4,
     "status": "ok",
     "timestamp": 1753547230849,
     "user": {
      "displayName": "Thanan Kangsawiwat",
      "userId": "06026257672126219511"
     },
     "user_tz": -420
    },
    "id": "8r5q43U1QueX",
    "outputId": "c72f307b-25fa-4e8f-c652-fa29975eda08"
   },
   "outputs": [],
   "source": [
    "# สร้าง \"ตาราง\" ของค่าที่เราต้องการจะลอง\n",
    "param_grid = {\n",
    "    'changepoint_prior_scale': [0.01, 0.05, 0.1, 0.5],\n",
    "    'seasonality_prior_scale': [1.0, 5.0, 10.0, 15.0],\n",
    "    'holidays_prior_scale': [1.0, 5.0, 10.0, 15.0],\n",
    "    'seasonality_mode': ['additive', 'multiplicative']\n",
    "}\n",
    "\n",
    "# สร้าง list ของทุกชุดค่าที่เป็นไปได้\n",
    "all_params = [dict(zip(param_grid.keys(), v)) for v in itertools.product(*param_grid.values())]\n",
    "rmses = []  # เก็บค่า RMSE ของแต่ละชุดพารามิเตอร์\n",
    "\n",
    "print(f\"Starting Grid Search... Total combinations to test: {len(all_params)}\")\n",
    "print(\"-\" * 50)"
   ]
  },
  {
   "cell_type": "code",
   "execution_count": null,
   "metadata": {
    "executionInfo": {
     "elapsed": 175,
     "status": "aborted",
     "timestamp": 1753546914764,
     "user": {
      "displayName": "Thanan Kangsawiwat",
      "userId": "06026257672126219511"
     },
     "user_tz": -420
    },
    "id": "oFiKu1hiRCh5"
   },
   "outputs": [],
   "source": [
    "# **คำเตือน:**ขั้นตอนนี้อาจใช้เวลานานมาก (อาจจะ 10-30 นาทีหรือมากกว่า)\n",
    "for params in all_params:\n",
    "    try:\n",
    "        # 4.1 สร้างโมเดลด้วยชุดพารามิเตอร์ปัจจุบัน\n",
    "        m = Prophet(**params)\n",
    "\n",
    "        # เพิ่ม Regressors เข้าไปในโมเดล\n",
    "        # for regressor in regressor_columns:\n",
    "        #     m.add_regressor(regressor)\n",
    "\n",
    "        # 4.2 เทรนโมเดล\n",
    "        # เราจะใช้ข้อมูลทั้งหมดในการทำ CV ไม่ใช่แค่ train_prophet\n",
    "        m.fit(df_prophet)\n",
    "\n",
    "        # 4.3 ทำ Cross-Validation\n",
    "        # initial: ขนาดข้อมูลเทรนเริ่มต้น\n",
    "        # period: ขนาดของข้อมูลที่จะเพิ่มเข้าไปในแต่ละรอบ\n",
    "        # horizon: ทำนายล่วงหน้ากี่วัน\n",
    "        df_cv = cross_validation(m, initial='365 days', period='90 days', horizon='7 days', parallel=\"processes\")\n",
    "\n",
    "        # 4.4 คำนวณค่า Performance\n",
    "        df_p = performance_metrics(df_cv, rolling_window=1)\n",
    "\n",
    "        # 4.5 เก็บค่า RMSE\n",
    "        current_rmse = df_p['rmse'].values[0]\n",
    "        rmses.append(current_rmse)\n",
    "        print(f\"Params: {params} -> RMSE: {current_rmse:.3f}\")\n",
    "\n",
    "    except Exception as e:\n",
    "        print(f\"Failed for params {params} with error: {e}\")\n",
    "        rmses.append(np.inf) # ใส่ค่า infinity หากเกิด error\n"
   ]
  },
  {
   "cell_type": "code",
   "execution_count": null,
   "metadata": {
    "executionInfo": {
     "elapsed": 96,
     "status": "aborted",
     "timestamp": 1753546914765,
     "user": {
      "displayName": "Thanan Kangsawiwat",
      "userId": "06026257672126219511"
     },
     "user_tz": -420
    },
    "id": "fsxM97tNRJma"
   },
   "outputs": [],
   "source": [
    "# --- 5. ค้นหาและแสดงผลชุดพารามิเตอร์ที่ดีที่สุด ---\n",
    "print(\"-\" * 50)\n",
    "best_params_index = np.argmin(rmses)\n",
    "best_params = all_params[best_params_index]\n",
    "best_rmse = rmses[best_params_index]\n",
    "\n",
    "print(f\"Grid Search Complete.\")\n",
    "print(f\"Best Parameters Found: {best_params}\")\n",
    "print(f\"Best Cross-Validation RMSE: {best_rmse:.3f}\")"
   ]
  },
  {
   "cell_type": "code",
   "execution_count": null,
   "metadata": {
    "executionInfo": {
     "elapsed": 3,
     "status": "ok",
     "timestamp": 1753547235903,
     "user": {
      "displayName": "Thanan Kangsawiwat",
      "userId": "06026257672126219511"
     },
     "user_tz": -420
    },
    "id": "-gXeKGk3FSnJ"
   },
   "outputs": [],
   "source": [
    "train_prophet = df_prophet.iloc[:-7]\n",
    "test_prophet = df_prophet.iloc[-7:]"
   ]
  },
  {
   "cell_type": "markdown",
   "metadata": {
    "id": "g4hYT6nD6UDy"
   },
   "source": [
    "#Train"
   ]
  },
  {
   "cell_type": "code",
   "execution_count": null,
   "metadata": {
    "colab": {
     "base_uri": "https://localhost:8080/"
    },
    "executionInfo": {
     "elapsed": 1000,
     "status": "ok",
     "timestamp": 1753547263435,
     "user": {
      "displayName": "Thanan Kangsawiwat",
      "userId": "06026257672126219511"
     },
     "user_tz": -420
    },
    "id": "wY0hv__ZFYyF",
    "outputId": "f0d7254c-52e5-4b01-cd67-417d41a0fff6"
   },
   "outputs": [],
   "source": [
    "model = Prophet(holidays_prior_scale=1.0, changepoint_prior_scale=0.5,  seasonality_prior_scale=5.0, seasonality_mode = 'multiplicative')\n",
    "\n",
    "# --- ส่วนที่แก้ไข 2: เพิ่ม Regressor ทุกตัวเข้าไปในโมเดล ---\n",
    "for regressor in regressor_columns:\n",
    "    model.add_regressor(regressor)\n",
    "\n",
    "# เทรนโมเดลด้วยข้อมูลทั้งหมด (y และ regressors)\n",
    "model.fit(train_prophet)\n",
    "print(\"\\nProphet model with regressors trained successfully.\")"
   ]
  },
  {
   "cell_type": "code",
   "execution_count": null,
   "metadata": {
    "colab": {
     "base_uri": "https://localhost:8080/"
    },
    "executionInfo": {
     "elapsed": 20,
     "status": "ok",
     "timestamp": 1753547271493,
     "user": {
      "displayName": "Thanan Kangsawiwat",
      "userId": "06026257672126219511"
     },
     "user_tz": -420
    },
    "id": "QkWUPIejTBZC",
    "outputId": "27087dd7-697b-4328-a773-01a175765ca0"
   },
   "outputs": [],
   "source": [
    "# 1. สร้าง DataFrame สำหรับอนาคตเผื่อไว้ (เช่น 9 วัน) เพื่อให้แน่ใจว่าหลังกรองแล้วจะเหลืออย่างน้อย 7 วัน\n",
    "# (9 วัน จะครอบคลุมวันเสาร์ได้อย่างน้อย 1 วันเสมอ)\n",
    "future = model.make_future_dataframe(periods=9, freq='D')\n",
    "\n",
    "# เพราะ df_prophet คือตัวที่เราเตรียมไว้สำหรับ Prophet และมีข้อมูลที่ถูกต้องครบถ้วน\n",
    "future_with_regressors = pd.merge(future, df_prophet[['ds'] + regressor_columns], on='ds', how='left')\n",
    "\n",
    "# 3. เติมค่าว่าง (NaN) สำหรับ Regressor ในอนาคต\n",
    "future_with_regressors.fillna(method='ffill', inplace=True)\n",
    "#print(\"\\nFuture dataframe created and future regressors have been filled.\")\n",
    "\n",
    "# 2. กรองวันเสาร์ออก\n",
    "future_no_saturday = future_with_regressors[future_with_regressors['ds'].dt.dayofweek != 5]\n",
    "\n",
    "# 3. **เลือกมาเฉพาะ 7 วันแรกจริงๆ ที่ไม่ใช่วันเสาร์ เพื่อทำนาย**\n",
    "# โดยเราจะเลือกข้อมูลทั้งหมดในอดีต บวกกับ 7 วันแรกในอนาคตที่กรองแล้ว\n",
    "future_to_predict = future_no_saturday.head(len(train_prophet) + 7)\n",
    "print(\"Dates to be predicted (7 days, excluding Saturdays):\")\n",
    "print(future_to_predict.tail(7))"
   ]
  },
  {
   "cell_type": "code",
   "execution_count": null,
   "metadata": {
    "executionInfo": {
     "elapsed": 147,
     "status": "ok",
     "timestamp": 1753547278580,
     "user": {
      "displayName": "Thanan Kangsawiwat",
      "userId": "06026257672126219511"
     },
     "user_tz": -420
    },
    "id": "EvMYVtcbFgt5"
   },
   "outputs": [],
   "source": [
    "# 5. ทำนายโดยใช้ DataFrame ที่สมบูรณ์แล้ว\n",
    "forecast = model.predict(future_no_saturday)"
   ]
  },
  {
   "cell_type": "markdown",
   "metadata": {
    "id": "yDQztM9cAvmo"
   },
   "source": [
    "#Evaluate"
   ]
  },
  {
   "cell_type": "code",
   "execution_count": null,
   "metadata": {
    "colab": {
     "base_uri": "https://localhost:8080/"
    },
    "executionInfo": {
     "elapsed": 14,
     "status": "ok",
     "timestamp": 1753547280358,
     "user": {
      "displayName": "Thanan Kangsawiwat",
      "userId": "06026257672126219511"
     },
     "user_tz": -420
    },
    "id": "Xh3NNYz6QCMG",
    "outputId": "4468b059-582f-4f84-a6a0-f0504d4de293"
   },
   "outputs": [],
   "source": [
    "# prompt: ประเมินผลด้วย rmse, mae\n",
    "\n",
    "# Filter forecast and test data to include only the 7 days being evaluated\n",
    "# Ensure that the dates in `test_prophet` match the dates in the last 7 predictions\n",
    "test_dates = test_prophet['ds'].values\n",
    "\n",
    "# Find the corresponding predictions in the forecast DataFrame\n",
    "forecast_eval = forecast[forecast['ds'].isin(test_dates)]\n",
    "\n",
    "# Make sure the test data and forecast data are aligned by date before calculating metrics\n",
    "# Sort both DataFrames by date\n",
    "test_prophet_sorted = test_prophet.sort_values(by='ds')\n",
    "forecast_eval_sorted = forecast_eval.sort_values(by='ds')\n",
    "\n",
    "# Ensure the lengths match and dates are identical\n",
    "if not np.array_equal(test_prophet_sorted['ds'].values, forecast_eval_sorted['ds'].values):\n",
    "    print(\"Warning: Dates in test data and forecast data do not match for evaluation.\")\n",
    "    print(\"Test Dates:\\n\", test_prophet_sorted['ds'].values)\n",
    "    print(\"Forecast Dates:\\n\", forecast_eval_sorted['ds'].values)\n",
    "    # You might want to handle this error appropriately, e.g., by raising an exception\n",
    "    # For now, we'll proceed with the available matching dates, but be aware of potential issues\n",
    "    common_dates = np.intersect1d(test_prophet_sorted['ds'].values, forecast_eval_sorted['ds'].values)\n",
    "    test_prophet_sorted = test_prophet_sorted[test_prophet_sorted['ds'].isin(common_dates)]\n",
    "    forecast_eval_sorted = forecast_eval_sorted[forecast_eval_sorted['ds'].isin(common_dates)]\n",
    "\n",
    "\n",
    "y_true = test_prophet_sorted['y'].values\n",
    "y_pred = forecast_eval_sorted['yhat'].values\n",
    "\n",
    "# Calculate RMSE\n",
    "rmse = np.sqrt(mean_squared_error(y_true, y_pred))\n",
    "print(f'RMSE: {rmse:.3f}')\n",
    "\n",
    "# Calculate MAE\n",
    "mae = mean_absolute_error(y_true, y_pred)\n",
    "print(f'MAE: {mae:.3f}')"
   ]
  },
  {
   "cell_type": "code",
   "execution_count": null,
   "metadata": {
    "colab": {
     "base_uri": "https://localhost:8080/",
     "height": 607
    },
    "executionInfo": {
     "elapsed": 1495,
     "status": "ok",
     "timestamp": 1753547287809,
     "user": {
      "displayName": "Thanan Kangsawiwat",
      "userId": "06026257672126219511"
     },
     "user_tz": -420
    },
    "id": "-gfezSXeSOZ-",
    "outputId": "96d03ec9-4a15-4cbf-e819-c730cc1cd0c5"
   },
   "outputs": [],
   "source": [
    "# prompt: plot line graph 7 วันสุดท้ายที่ forecast แกน x  = date, แกน y = sales_sum, Actual sales = เส้นทึบสีฟ้ามีจุดกลม, Prophet forecast = เส้นทึบสีแดงมีกากะบาท\n",
    "\n",
    "# Filter the forecast to the last 7 days corresponding to the test set\n",
    "forecast_last_7_days = forecast[forecast['ds'].isin(test_prophet['ds'])]\n",
    "\n",
    "# Plotting\n",
    "plt.figure(figsize=(10, 6))\n",
    "\n",
    "# Plot Actual Sales (last 7 days)\n",
    "plt.plot(test_prophet['ds'], test_prophet['y'], marker='o', linestyle='-', color='blue', label='Actual Sales')\n",
    "\n",
    "# Plot Prophet Forecast (last 7 days)\n",
    "plt.plot(forecast_last_7_days['ds'], forecast_last_7_days['yhat'], marker='x', linestyle='-', color='red', label='Prophet Forecast')\n",
    "\n",
    "# Set labels and title\n",
    "plt.xlabel('Date')\n",
    "plt.ylabel('Sales Sum')\n",
    "plt.title('Actual Sales vs. Prophet Forecast (Last 7 Days)')\n",
    "plt.xticks(rotation=45)\n",
    "plt.legend()\n",
    "plt.grid(True)\n",
    "plt.tight_layout()\n",
    "plt.show()\n"
   ]
  },
  {
   "cell_type": "code",
   "execution_count": null,
   "metadata": {
    "colab": {
     "base_uri": "https://localhost:8080/"
    },
    "executionInfo": {
     "elapsed": 43,
     "status": "ok",
     "timestamp": 1753547360801,
     "user": {
      "displayName": "Thanan Kangsawiwat",
      "userId": "06026257672126219511"
     },
     "user_tz": -420
    },
    "id": "yhD_9poGkDk3",
    "outputId": "d8387e0b-813f-46f6-9fcf-d549badb3495"
   },
   "outputs": [],
   "source": [
    "import pickle\n",
    "\n",
    "# Save the model\n",
    "with open('Prophet_model.pkl', 'wb') as f:\n",
    "    pickle.dump(model, f)\n",
    "\n",
    "print(\"Prophet model saved successfully as 'Prophet_model.pkl\")"
   ]
  },
  {
   "cell_type": "code",
   "execution_count": null,
   "metadata": {
    "colab": {
     "base_uri": "https://localhost:8080/"
    },
    "executionInfo": {
     "elapsed": 64,
     "status": "ok",
     "timestamp": 1753547455977,
     "user": {
      "displayName": "Thanan Kangsawiwat",
      "userId": "06026257672126219511"
     },
     "user_tz": -420
    },
    "id": "GqB2lkufkgG6",
    "outputId": "f5f4397e-e949-486c-fa57-c7de18372581"
   },
   "outputs": [],
   "source": [
    "import pickle\n",
    "import pandas as pd\n",
    "from prophet import Prophet\n",
    "\n",
    "# Load the model\n",
    "with open('Prophet_nodel.pkl', 'rb') as f:\n",
    "    loaded_model = pickle.load(f)\n",
    "\n",
    "print(\"Prophet model loaded successfully.\")\n",
    "\n",
    "# Create a future dataframe for the next 7 days\n",
    "# Find the last date in your original dataframe (df_prophet)\n",
    "last_date = df_prophet['ds'].max()\n",
    "\n",
    "# Generate future dates starting from the day after the last date\n",
    "future_dates = loaded_model.make_future_dataframe(periods=9, freq='D', include_history=False) # Generate a bit more to ensure 7 non-Saturdays\n",
    "\n",
    "# Filter out Saturdays\n",
    "future_no_saturday = future_dates[future_dates['ds'].dt.dayofweek != 5]\n",
    "\n",
    "# Take the first 7 future dates that are not Saturdays\n",
    "future_7_days = future_no_saturday.head(7)\n",
    "\n",
    "# Merge with the regressors from the original data for these future dates\n",
    "# If you have future regressor values, you should load or generate them here.\n",
    "# For demonstration, we will use the ffill method as in previous steps, assuming\n",
    "# the regressor values from the last known date are carried forward.\n",
    "future_with_regressors = pd.merge(future_7_days, df_prophet[['ds'] + regressor_columns], on='ds', how='left')\n",
    "\n",
    "# Fill any missing regressor values (e.g., for dates beyond the original data)\n",
    "future_with_regressors.fillna(method='ffill', inplace=True)\n",
    "\n",
    "\n",
    "print(\"\\nFuture dates for forecasting (next 7 non-Saturdays):\")\n",
    "print(future_with_regressors)\n",
    "\n",
    "# Make predictions\n",
    "future_forecast = loaded_model.predict(future_with_regressors)\n",
    "\n",
    "print(\"\\nForecast for the next 7 days:\")\n",
    "print(future_forecast[['ds', 'yhat', 'yhat_lower', 'yhat_upper']])"
   ]
  },
  {
   "cell_type": "code",
   "execution_count": null,
   "metadata": {
    "colab": {
     "base_uri": "https://localhost:8080/",
     "height": 607
    },
    "executionInfo": {
     "elapsed": 420,
     "status": "ok",
     "timestamp": 1753547852694,
     "user": {
      "displayName": "Thanan Kangsawiwat",
      "userId": "06026257672126219511"
     },
     "user_tz": -420
    },
    "id": "ScqRfi4lks8P",
    "outputId": "99d25acb-568b-4e0f-cb09-7ca108dde664"
   },
   "outputs": [],
   "source": [
    "# 1. Calculate the day of the week for each date in df_prophet\n",
    "df_prophet['dayofweek'] = df_prophet['ds'].dt.dayofweek  # Monday=0, Sunday=6\n",
    "\n",
    "# 2. Calculate the 3-month rolling average for each day of the week\n",
    "# We need to calculate this for each day of the week separately to get the average for each specific day\n",
    "# Create a temporary DataFrame for calculating rolling average\n",
    "df_temp = df_prophet.copy()\n",
    "df_temp['rolling_avg_3m'] = df_temp.groupby('dayofweek')['y'].transform(lambda x: x.rolling(window=12, min_periods=1).mean()) # Assuming roughly 4 weeks/month * 3 months = 12 data points\n",
    "\n",
    "# Change this line to use .last()\n",
    "# This creates a DataFrame with the last entry for each day of the week\n",
    "average_sales_last_3_months = df_temp.groupby('dayofweek').last()\n",
    "\n",
    "# The rest of your code from this point on will work correctly\n",
    "# For example, when you reset the index, 'dayofweek' will become a column\n",
    "average_sales_last_3_months_plot = average_sales_last_3_months.reset_index()\n",
    "\n",
    "# This line will now succeed\n",
    "average_sales_last_3_months_plot['day'] = average_sales_last_3_months_plot['dayofweek'].map(day_map)\n",
    "\n",
    "# Sort by day of the week\n",
    "average_sales_last_3_months = average_sales_last_3_months.sort_index()\n",
    "\n",
    "# 4. Prepare the forecast data for plotting (last 7 days forecast)\n",
    "# We already have 'future_forecast' from the previous step which contains the next 7 days forecast\n",
    "# Ensure the forecast data is also sorted by day of the week for consistent plotting\n",
    "future_forecast['dayofweek'] = future_forecast['ds'].dt.dayofweek\n",
    "forecast_for_plot = future_forecast.sort_values(by='dayofweek')\n",
    "\n",
    "# Ensure we only have one forecast point per day of the week if there are duplicates\n",
    "forecast_for_plot = forecast_for_plot.drop_duplicates(subset=['dayofweek'], keep='first')\n",
    "\n",
    "\n",
    "# 5. Plotting\n",
    "plt.figure(figsize=(10, 6))\n",
    "\n",
    "# Define the order of days of the week for plotting\n",
    "day_order = ['Mon', 'Tue', 'Wed', 'Thu', 'Fri', 'Sun']\n",
    "day_map = {0: 'Mon', 1: 'Tue', 2: 'Wed', 3: 'Thu', 4: 'Fri', 6: 'Sun'}\n",
    "\n",
    "# Plot Average Sales (last 3 months)\n",
    "# Map the dayofweek index to the string representation\n",
    "average_sales_last_3_months_plot = average_sales_last_3_months.reset_index()\n",
    "average_sales_last_3_months_plot['day'] = average_sales_last_3_months_plot['dayofweek'].map(day_map)\n",
    "average_sales_last_3_months_plot = average_sales_last_3_months_plot.set_index('day').loc[day_order]\n",
    "\n",
    "# Ensure that all days in day_order are present in average_sales_last_3_months_plot before plotting\n",
    "# If a day is missing, its value will be NaN, which matplotlib handles correctly for line plots\n",
    "plt.plot(average_sales_last_3_months_plot.index, average_sales_last_3_months_plot['rolling_avg_3m'], marker='o', linestyle='-', color='blue', label='Average Sales (Last 3 Months)')\n",
    "\n",
    "# Plot Prophet Forecast\n",
    "forecast_for_plot['day'] = forecast_for_plot['dayofweek'].map(day_map)\n",
    "forecast_for_plot = forecast_for_plot.set_index('day').loc[day_order]\n",
    "\n",
    "# Ensure that all days in day_order are present in forecast_for_plot before plotting\n",
    "plt.plot(forecast_for_plot.index, forecast_for_plot['yhat'], marker='x', linestyle='-', color='red', label='Prophet Forecast')\n",
    "\n",
    "# Set labels and title\n",
    "plt.xlabel('Day of the Week')\n",
    "plt.ylabel('Sales')\n",
    "plt.title('Average Sales (Last 3 Months) vs. Prophet Forecast by Day of the Week')\n",
    "plt.legend()\n",
    "plt.grid(True)\n",
    "plt.tight_layout()\n",
    "plt.show()"
   ]
  }
 ],
 "metadata": {
  "colab": {
   "authorship_tag": "ABX9TyPlcz4JwU0W+jATAhyVoIys",
   "mount_file_id": "1J5ccR6tq6A96y0AwC26A5ema6KmOWge5",
   "provenance": []
  },
  "kernelspec": {
   "display_name": "Python 3",
   "name": "python3"
  },
  "language_info": {
   "name": "python"
  }
 },
 "nbformat": 4,
 "nbformat_minor": 0
}
