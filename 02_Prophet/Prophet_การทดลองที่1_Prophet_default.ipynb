{
 "cells": [
  {
   "cell_type": "code",
   "execution_count": null,
   "metadata": {
    "id": "iMzBrRLh2DI8"
   },
   "outputs": [],
   "source": []
  },
  {
   "cell_type": "markdown",
   "metadata": {
    "id": "eobtXJFJ4bqn"
   },
   "source": [
    "ref : https://machinelearningmastery.com/time-series-forecasting-with-prophet-in-python/?utm_source=chatgpt.com"
   ]
  },
  {
   "cell_type": "markdown",
   "metadata": {
    "id": "ub4Sfqjb2RRZ"
   },
   "source": [
    "#Import"
   ]
  },
  {
   "cell_type": "code",
   "execution_count": null,
   "metadata": {
    "id": "gc4rvZmV2SrR"
   },
   "outputs": [],
   "source": [
    "from google.colab import drive\n",
    "drive.mount('/content/drive')"
   ]
  },
  {
   "cell_type": "code",
   "execution_count": null,
   "metadata": {
    "id": "aAf-WaNY3Fg7"
   },
   "outputs": [],
   "source": [
    "import pandas as pd\n",
    "from prophet import Prophet\n",
    "from sklearn.metrics import mean_squared_error, mean_absolute_error\n",
    "import numpy as np\n",
    "import matplotlib.pyplot as plt\n"
   ]
  },
  {
   "cell_type": "code",
   "execution_count": null,
   "metadata": {
    "colab": {
     "base_uri": "https://localhost:8080/"
    },
    "executionInfo": {
     "elapsed": 45,
     "status": "ok",
     "timestamp": 1750134771679,
     "user": {
      "displayName": "Thanan Kangsawiwat",
      "userId": "06026257672126219511"
     },
     "user_tz": -420
    },
    "id": "mbAwZu4-2dcl",
    "outputId": "225a1865-37a4-4328-ff4d-4e642a75902e"
   },
   "outputs": [],
   "source": [
    "df = pd.read_csv('/content/drive/MyDrive/swuds/t5_thesis/98_progress/dataset/nd_sales_Prophet.csv')\n",
    "print(df.head())"
   ]
  },
  {
   "cell_type": "markdown",
   "metadata": {
    "id": "PcyO6ACP39P9"
   },
   "source": [
    "#Preprocess"
   ]
  },
  {
   "cell_type": "code",
   "execution_count": null,
   "metadata": {
    "executionInfo": {
     "elapsed": 7,
     "status": "ok",
     "timestamp": 1750134774489,
     "user": {
      "displayName": "Thanan Kangsawiwat",
      "userId": "06026257672126219511"
     },
     "user_tz": -420
    },
    "id": "QS_t9xbx38ZL"
   },
   "outputs": [],
   "source": [
    "df_prophet = df[['ds', 'y']].copy()"
   ]
  },
  {
   "cell_type": "code",
   "execution_count": null,
   "metadata": {
    "executionInfo": {
     "elapsed": 2,
     "status": "ok",
     "timestamp": 1750134825626,
     "user": {
      "displayName": "Thanan Kangsawiwat",
      "userId": "06026257672126219511"
     },
     "user_tz": -420
    },
    "id": "kTo8dLYJ4I9L"
   },
   "outputs": [],
   "source": [
    "df_prophet['ds'] = pd.to_datetime(df_prophet['ds'])"
   ]
  },
  {
   "cell_type": "code",
   "execution_count": null,
   "metadata": {
    "colab": {
     "base_uri": "https://localhost:8080/"
    },
    "executionInfo": {
     "elapsed": 14,
     "status": "ok",
     "timestamp": 1750134776452,
     "user": {
      "displayName": "Thanan Kangsawiwat",
      "userId": "06026257672126219511"
     },
     "user_tz": -420
    },
    "id": "z1w4QXi34TWL",
    "outputId": "c0cae301-8106-48fc-b5f6-43a45a511684"
   },
   "outputs": [],
   "source": [
    "df_prophet.info()"
   ]
  },
  {
   "cell_type": "code",
   "execution_count": null,
   "metadata": {
    "executionInfo": {
     "elapsed": 13,
     "status": "ok",
     "timestamp": 1750134821205,
     "user": {
      "displayName": "Thanan Kangsawiwat",
      "userId": "06026257672126219511"
     },
     "user_tz": -420
    },
    "id": "qF_GxIs96i_S"
   },
   "outputs": [],
   "source": [
    "train_prophet = df_prophet.iloc[:-7]\n",
    "test_prophet = df_prophet.iloc[-7:]"
   ]
  },
  {
   "cell_type": "markdown",
   "metadata": {
    "id": "g4hYT6nD6UDy"
   },
   "source": [
    "#Train"
   ]
  },
  {
   "cell_type": "code",
   "execution_count": null,
   "metadata": {
    "colab": {
     "base_uri": "https://localhost:8080/"
    },
    "executionInfo": {
     "elapsed": 167,
     "status": "ok",
     "timestamp": 1750134827435,
     "user": {
      "displayName": "Thanan Kangsawiwat",
      "userId": "06026257672126219511"
     },
     "user_tz": -420
    },
    "id": "R_Fu4TIV6ViF",
    "outputId": "009e3df3-63ca-400b-d0d9-2e9eca86dc9c"
   },
   "outputs": [],
   "source": [
    "# --- เทรนด้วยโหมด Default ---\n",
    "model_add = Prophet(seasonality_mode='additive')\n",
    "model_add.fit(train_prophet)"
   ]
  },
  {
   "cell_type": "code",
   "execution_count": null,
   "metadata": {
    "colab": {
     "base_uri": "https://localhost:8080/"
    },
    "executionInfo": {
     "elapsed": 5,
     "status": "ok",
     "timestamp": 1750134829554,
     "user": {
      "displayName": "Thanan Kangsawiwat",
      "userId": "06026257672126219511"
     },
     "user_tz": -420
    },
    "id": "CrXPg8suCi9X",
    "outputId": "acffa83a-7d03-4c81-fdef-03ded8b34d85"
   },
   "outputs": [],
   "source": [
    "future = model_add.make_future_dataframe(periods=7, freq='D')\n",
    "# Filter out Saturdays (dayofweek == 5)\n",
    "future_no_saturday = future[future['ds'].dt.dayofweek != 5].copy()\n",
    "print(\"\\nFuture dataframe created and Saturdays have been filtered out.\")"
   ]
  },
  {
   "cell_type": "code",
   "execution_count": null,
   "metadata": {
    "colab": {
     "base_uri": "https://localhost:8080/"
    },
    "executionInfo": {
     "elapsed": 548,
     "status": "ok",
     "timestamp": 1750134843979,
     "user": {
      "displayName": "Thanan Kangsawiwat",
      "userId": "06026257672126219511"
     },
     "user_tz": -420
    },
    "id": "3g47p6Q4Cb1F",
    "outputId": "7975fc56-1687-47df-9fc2-ff4ccab5d661"
   },
   "outputs": [],
   "source": [
    "forecast = model_add.predict(future_no_saturday)\n",
    "print(\"\\nForecasting complete.\")"
   ]
  },
  {
   "cell_type": "markdown",
   "metadata": {
    "id": "yDQztM9cAvmo"
   },
   "source": [
    "#Evaluate"
   ]
  },
  {
   "cell_type": "code",
   "execution_count": null,
   "metadata": {
    "colab": {
     "base_uri": "https://localhost:8080/"
    },
    "executionInfo": {
     "elapsed": 17,
     "status": "ok",
     "timestamp": 1750134848754,
     "user": {
      "displayName": "Thanan Kangsawiwat",
      "userId": "06026257672126219511"
     },
     "user_tz": -420
    },
    "id": "o1E7AeYXCx5h",
    "outputId": "28416ff1-cdba-4259-a85c-76c432ba4736"
   },
   "outputs": [],
   "source": [
    "# **ส่วนที่แก้ไข 1: กรองวันเสาร์ออกจากข้อมูลจริง (test_prophet) ด้วย**\n",
    "actuals_no_saturday = test_prophet[test_prophet['ds'].dt.dayofweek != 5].copy()\n",
    "\n",
    "# **ส่วนที่แก้ไข 2: เลือกผลการทำนายให้มีจำนวนเท่ากับข้อมูลจริงที่กรองแล้ว**\n",
    "# forecast จะมีข้อมูลทั้งในอดีตและอนาคต เราจึงต้องเลือกมาเฉพาะส่วนท้าย\n",
    "predictions = forecast['yhat'].tail(len(actuals_no_saturday))\n",
    "\n",
    "print(\"-\" * 50)\n",
    "print(f\"Number of actual points (after filtering): {len(actuals_no_saturday)}\")\n",
    "print(f\"Number of predicted points: {len(predictions)}\")\n",
    "print(\"-\" * 50)"
   ]
  },
  {
   "cell_type": "code",
   "execution_count": null,
   "metadata": {
    "colab": {
     "base_uri": "https://localhost:8080/",
     "height": 742
    },
    "executionInfo": {
     "elapsed": 718,
     "status": "ok",
     "timestamp": 1750134851065,
     "user": {
      "displayName": "Thanan Kangsawiwat",
      "userId": "06026257672126219511"
     },
     "user_tz": -420
    },
    "id": "H1EkfEClC0Qz",
    "outputId": "99c118e5-5747-4ed8-f4d2-e7ec586fa40b"
   },
   "outputs": [],
   "source": [
    "# **ส่วนที่แก้ไข 3: คำนวณ error จากข้อมูลที่กรองแล้วทั้งสองชุด**\n",
    "if len(actuals_no_saturday) > 0:\n",
    "    try:\n",
    "        rmse = np.sqrt(mean_squared_error(actuals_no_saturday['y'], predictions))\n",
    "        mae = mean_absolute_error(actuals_no_saturday['y'], predictions)\n",
    "\n",
    "        print(f'RMSE (excluding Saturdays): {rmse:.3f}')\n",
    "        print(f'MAE (excluding Saturdays): {mae:.3f}')\n",
    "\n",
    "        # **ส่วนที่แก้ไข 4: พล็อตกราฟโดยใช้ข้อมูลที่กรองแล้วทั้งคู่**\n",
    "        plt.figure(figsize=(12, 7))\n",
    "\n",
    "        plt.plot(\n",
    "            actuals_no_saturday['ds'],\n",
    "            actuals_no_saturday['y'],\n",
    "            label='Actual Sales (No Sat)',\n",
    "            color='blue',\n",
    "             marker='o',\n",
    "            linestyle='-'\n",
    "         )\n",
    "\n",
    "        # forecast['ds'] ที่ไม่มีวันเสาร์ จะมี index ไม่ตรงกับ predictions (ซึ่งเป็นแค่ array ตัวเลข)\n",
    "        # ดังนั้นเราจึงใช้ 'ds' จาก actuals_no_saturday เป็นแกน X แทนเพื่อให้ตรงกัน\n",
    "        plt.plot(\n",
    "            actuals_no_saturday['ds'],\n",
    "            predictions.values,\n",
    "            label='Prophet Forecast (No Sat)',\n",
    "            color='red',\n",
    "            marker='x',\n",
    "            linestyle='-'\n",
    "        )\n",
    "\n",
    "        plt.title('Prophet Forecast vs Actual Sales (Excluding Saturdays)', fontsize=16)\n",
    "        plt.xlabel('Date')\n",
    "        plt.ylabel('Sales Sum')\n",
    "        plt.legend()\n",
    "        plt.grid(True)\n",
    "        plt.xticks(rotation=45)\n",
    "        plt.tight_layout()\n",
    "        plt.show()\n",
    "    except FileNotFoundError:\n",
    "        print(f\"\\n!!! ERROR: FILE NOT FOUND !!!\")\n",
    "        print(f\"Please make sure you have uploaded '{file_path}' to your Colab session first.\")\n",
    "    except Exception as e:\n",
    "        print(f\"An error occurred: {e}\")\n",
    "else:\n",
    "    print(\"No data left to plot after filtering Saturdays.\")"
   ]
  }
 ],
 "metadata": {
  "colab": {
   "authorship_tag": "ABX9TyMJM4WJYDsTf0AHBrJ3CsZN",
   "mount_file_id": "1J5ccR6tq6A96y0AwC26A5ema6KmOWge5",
   "provenance": []
  },
  "kernelspec": {
   "display_name": "Python 3",
   "name": "python3"
  },
  "language_info": {
   "name": "python"
  }
 },
 "nbformat": 4,
 "nbformat_minor": 0
}
