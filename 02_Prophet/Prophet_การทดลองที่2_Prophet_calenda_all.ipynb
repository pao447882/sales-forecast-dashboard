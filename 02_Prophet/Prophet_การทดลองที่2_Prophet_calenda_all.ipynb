{
 "cells": [
  {
   "cell_type": "code",
   "execution_count": null,
   "metadata": {
    "executionInfo": {
     "elapsed": 14,
     "status": "ok",
     "timestamp": 1750136824789,
     "user": {
      "displayName": "Thanan Kangsawiwat",
      "userId": "06026257672126219511"
     },
     "user_tz": -420
    },
    "id": "iMzBrRLh2DI8"
   },
   "outputs": [],
   "source": []
  },
  {
   "cell_type": "markdown",
   "metadata": {
    "id": "eobtXJFJ4bqn"
   },
   "source": [
    "ref : https://machinelearningmastery.com/time-series-forecasting-with-prophet-in-python/?utm_source=chatgpt.com"
   ]
  },
  {
   "cell_type": "markdown",
   "metadata": {
    "id": "ub4Sfqjb2RRZ"
   },
   "source": [
    "#Import"
   ]
  },
  {
   "cell_type": "code",
   "execution_count": null,
   "metadata": {
    "colab": {
     "base_uri": "https://localhost:8080/"
    },
    "executionInfo": {
     "elapsed": 3205,
     "status": "ok",
     "timestamp": 1750136828003,
     "user": {
      "displayName": "Thanan Kangsawiwat",
      "userId": "06026257672126219511"
     },
     "user_tz": -420
    },
    "id": "gc4rvZmV2SrR",
    "outputId": "0c34ce6b-7590-42d3-a710-27f6ef486545"
   },
   "outputs": [],
   "source": [
    "from google.colab import drive\n",
    "drive.mount('/content/drive')"
   ]
  },
  {
   "cell_type": "code",
   "execution_count": null,
   "metadata": {
    "executionInfo": {
     "elapsed": 1,
     "status": "ok",
     "timestamp": 1750136828014,
     "user": {
      "displayName": "Thanan Kangsawiwat",
      "userId": "06026257672126219511"
     },
     "user_tz": -420
    },
    "id": "aAf-WaNY3Fg7"
   },
   "outputs": [],
   "source": [
    "import pandas as pd\n",
    "from prophet import Prophet\n",
    "from sklearn.metrics import mean_squared_error, mean_absolute_error\n",
    "import numpy as np\n",
    "import matplotlib.pyplot as plt\n"
   ]
  },
  {
   "cell_type": "code",
   "execution_count": null,
   "metadata": {
    "colab": {
     "base_uri": "https://localhost:8080/"
    },
    "executionInfo": {
     "elapsed": 25,
     "status": "ok",
     "timestamp": 1750137169546,
     "user": {
      "displayName": "Thanan Kangsawiwat",
      "userId": "06026257672126219511"
     },
     "user_tz": -420
    },
    "id": "mbAwZu4-2dcl",
    "outputId": "2c374481-7f8b-4d82-852f-4986d3a2818c"
   },
   "outputs": [],
   "source": [
    "df = pd.read_csv('/content/drive/MyDrive/swuds/t5_thesis/98_progress/dataset/nd_sales_Prophet.csv')\n",
    "print(df.head())"
   ]
  },
  {
   "cell_type": "markdown",
   "metadata": {
    "id": "PcyO6ACP39P9"
   },
   "source": [
    "#Preprocess"
   ]
  },
  {
   "cell_type": "code",
   "execution_count": null,
   "metadata": {
    "colab": {
     "base_uri": "https://localhost:8080/"
    },
    "executionInfo": {
     "elapsed": 4,
     "status": "ok",
     "timestamp": 1750137170996,
     "user": {
      "displayName": "Thanan Kangsawiwat",
      "userId": "06026257672126219511"
     },
     "user_tz": -420
    },
    "id": "7yq0wzDuFKhg",
    "outputId": "8c6ac15c-8cb1-46fb-9378-09053f7d725d"
   },
   "outputs": [],
   "source": [
    "# กำหนดลิสต์ของ Regressor ที่จะใช้\n",
    "regressor_columns = ['ismarketday', 'isschoolday', 'holiday', 'isbuddaday', 'nd_lottery']\n",
    "\n",
    "# เลือกคอลัมน์ที่จำเป็นทั้งหมด\n",
    "df_prophet = df[['ds', 'y'] + regressor_columns].copy()\n",
    "print(\"Data prepared for Prophet with regressors.\")"
   ]
  },
  {
   "cell_type": "code",
   "execution_count": null,
   "metadata": {
    "executionInfo": {
     "elapsed": 1,
     "status": "ok",
     "timestamp": 1750137171860,
     "user": {
      "displayName": "Thanan Kangsawiwat",
      "userId": "06026257672126219511"
     },
     "user_tz": -420
    },
    "id": "_7JXBbhcLAlP"
   },
   "outputs": [],
   "source": [
    "df_prophet['ds'] = pd.to_datetime(df_prophet['ds'])"
   ]
  },
  {
   "cell_type": "code",
   "execution_count": null,
   "metadata": {
    "executionInfo": {
     "elapsed": 15,
     "status": "ok",
     "timestamp": 1750137173180,
     "user": {
      "displayName": "Thanan Kangsawiwat",
      "userId": "06026257672126219511"
     },
     "user_tz": -420
    },
    "id": "-gXeKGk3FSnJ"
   },
   "outputs": [],
   "source": [
    "train_prophet = df_prophet.iloc[:-7]\n",
    "test_prophet = df_prophet.iloc[-7:]"
   ]
  },
  {
   "cell_type": "markdown",
   "metadata": {
    "id": "g4hYT6nD6UDy"
   },
   "source": [
    "#Train"
   ]
  },
  {
   "cell_type": "code",
   "execution_count": null,
   "metadata": {
    "colab": {
     "base_uri": "https://localhost:8080/"
    },
    "executionInfo": {
     "elapsed": 208,
     "status": "ok",
     "timestamp": 1750137175106,
     "user": {
      "displayName": "Thanan Kangsawiwat",
      "userId": "06026257672126219511"
     },
     "user_tz": -420
    },
    "id": "wY0hv__ZFYyF",
    "outputId": "024a3a19-9202-4529-eff1-d92139c6cf70"
   },
   "outputs": [],
   "source": [
    "model = Prophet(seasonality_mode='additive')\n",
    "\n",
    "# --- ส่วนที่แก้ไข 2: เพิ่ม Regressor ทุกตัวเข้าไปในโมเดล ---\n",
    "for regressor in regressor_columns:\n",
    "    model.add_regressor(regressor)\n",
    "\n",
    "# เทรนโมเดลด้วยข้อมูลทั้งหมด (y และ regressors)\n",
    "model.fit(train_prophet)\n",
    "print(\"\\nProphet model with regressors trained successfully.\")"
   ]
  },
  {
   "cell_type": "code",
   "execution_count": null,
   "metadata": {
    "colab": {
     "base_uri": "https://localhost:8080/"
    },
    "executionInfo": {
     "elapsed": 31,
     "status": "ok",
     "timestamp": 1750137177417,
     "user": {
      "displayName": "Thanan Kangsawiwat",
      "userId": "06026257672126219511"
     },
     "user_tz": -420
    },
    "id": "QkWUPIejTBZC",
    "outputId": "3691a8ee-9ad7-40c9-e5d3-46470eb49ea0"
   },
   "outputs": [],
   "source": [
    "# 1. สร้าง DataFrame สำหรับอนาคตเผื่อไว้ (เช่น 9 วัน) เพื่อให้แน่ใจว่าหลังกรองแล้วจะเหลืออย่างน้อย 7 วัน\n",
    "# (9 วัน จะครอบคลุมวันเสาร์ได้อย่างน้อย 1 วันเสมอ)\n",
    "future = model.make_future_dataframe(periods=9, freq='D')\n",
    "\n",
    "# เพราะ df_prophet คือตัวที่เราเตรียมไว้สำหรับ Prophet และมีข้อมูลที่ถูกต้องครบถ้วน\n",
    "future_with_regressors = pd.merge(future, df_prophet[['ds'] + regressor_columns], on='ds', how='left')\n",
    "\n",
    "# 3. เติมค่าว่าง (NaN) สำหรับ Regressor ในอนาคต\n",
    "future_with_regressors.fillna(method='ffill', inplace=True)\n",
    "#print(\"\\nFuture dataframe created and future regressors have been filled.\")\n",
    "\n",
    "# 2. กรองวันเสาร์ออก\n",
    "future_no_saturday = future_with_regressors[future_with_regressors['ds'].dt.dayofweek != 5]\n",
    "\n",
    "# 3. **เลือกมาเฉพาะ 7 วันแรกจริงๆ ที่ไม่ใช่วันเสาร์ เพื่อทำนาย**\n",
    "# โดยเราจะเลือกข้อมูลทั้งหมดในอดีต บวกกับ 7 วันแรกในอนาคตที่กรองแล้ว\n",
    "future_to_predict = future_no_saturday.head(len(train_prophet) + 7)\n",
    "print(\"Dates to be predicted (7 days, excluding Saturdays):\")\n",
    "print(future_to_predict.tail(7))"
   ]
  },
  {
   "cell_type": "code",
   "execution_count": null,
   "metadata": {
    "executionInfo": {
     "elapsed": 160,
     "status": "ok",
     "timestamp": 1750137181590,
     "user": {
      "displayName": "Thanan Kangsawiwat",
      "userId": "06026257672126219511"
     },
     "user_tz": -420
    },
    "id": "EvMYVtcbFgt5"
   },
   "outputs": [],
   "source": [
    "# 5. ทำนายโดยใช้ DataFrame ที่สมบูรณ์แล้ว\n",
    "forecast = model.predict(future_no_saturday)"
   ]
  },
  {
   "cell_type": "markdown",
   "metadata": {
    "id": "yDQztM9cAvmo"
   },
   "source": [
    "#Evaluate"
   ]
  },
  {
   "cell_type": "code",
   "execution_count": null,
   "metadata": {
    "colab": {
     "base_uri": "https://localhost:8080/"
    },
    "executionInfo": {
     "elapsed": 47,
     "status": "ok",
     "timestamp": 1750137197926,
     "user": {
      "displayName": "Thanan Kangsawiwat",
      "userId": "06026257672126219511"
     },
     "user_tz": -420
    },
    "id": "Xh3NNYz6QCMG",
    "outputId": "adc447b9-ae07-4c91-c42c-8fe5dc07c04a"
   },
   "outputs": [],
   "source": [
    "# prompt: ประเมินผลด้วย rmse, mae\n",
    "\n",
    "# Filter forecast and test data to include only the 7 days being evaluated\n",
    "# Ensure that the dates in `test_prophet` match the dates in the last 7 predictions\n",
    "test_dates = test_prophet['ds'].values\n",
    "\n",
    "# Find the corresponding predictions in the forecast DataFrame\n",
    "forecast_eval = forecast[forecast['ds'].isin(test_dates)]\n",
    "\n",
    "# Make sure the test data and forecast data are aligned by date before calculating metrics\n",
    "# Sort both DataFrames by date\n",
    "test_prophet_sorted = test_prophet.sort_values(by='ds')\n",
    "forecast_eval_sorted = forecast_eval.sort_values(by='ds')\n",
    "\n",
    "# Ensure the lengths match and dates are identical\n",
    "if not np.array_equal(test_prophet_sorted['ds'].values, forecast_eval_sorted['ds'].values):\n",
    "    print(\"Warning: Dates in test data and forecast data do not match for evaluation.\")\n",
    "    print(\"Test Dates:\\n\", test_prophet_sorted['ds'].values)\n",
    "    print(\"Forecast Dates:\\n\", forecast_eval_sorted['ds'].values)\n",
    "    # You might want to handle this error appropriately, e.g., by raising an exception\n",
    "    # For now, we'll proceed with the available matching dates, but be aware of potential issues\n",
    "    common_dates = np.intersect1d(test_prophet_sorted['ds'].values, forecast_eval_sorted['ds'].values)\n",
    "    test_prophet_sorted = test_prophet_sorted[test_prophet_sorted['ds'].isin(common_dates)]\n",
    "    forecast_eval_sorted = forecast_eval_sorted[forecast_eval_sorted['ds'].isin(common_dates)]\n",
    "\n",
    "\n",
    "y_true = test_prophet_sorted['y'].values\n",
    "y_pred = forecast_eval_sorted['yhat'].values\n",
    "\n",
    "# Calculate RMSE\n",
    "rmse = np.sqrt(mean_squared_error(y_true, y_pred))\n",
    "print(f'RMSE: {rmse:.3f}')\n",
    "\n",
    "# Calculate MAE\n",
    "mae = mean_absolute_error(y_true, y_pred)\n",
    "print(f'MAE: {mae:.3f}')"
   ]
  },
  {
   "cell_type": "code",
   "execution_count": null,
   "metadata": {
    "colab": {
     "base_uri": "https://localhost:8080/",
     "height": 607
    },
    "executionInfo": {
     "elapsed": 299,
     "status": "ok",
     "timestamp": 1750137207490,
     "user": {
      "displayName": "Thanan Kangsawiwat",
      "userId": "06026257672126219511"
     },
     "user_tz": -420
    },
    "id": "-gfezSXeSOZ-",
    "outputId": "5a07d80d-4ea9-414a-df05-fe3149061163"
   },
   "outputs": [],
   "source": [
    "# prompt: plot line graph 7 วันสุดท้ายที่ forecast แกน x  = date, แกน y = sales_sum, Actual sales = เส้นทึบสีฟ้ามีจุดกลม, Prophet forecast = เส้นทึบสีแดงมีกากะบาท\n",
    "\n",
    "# Filter the forecast to the last 7 days corresponding to the test set\n",
    "forecast_last_7_days = forecast[forecast['ds'].isin(test_prophet['ds'])]\n",
    "\n",
    "# Plotting\n",
    "plt.figure(figsize=(10, 6))\n",
    "\n",
    "# Plot Actual Sales (last 7 days)\n",
    "plt.plot(test_prophet['ds'], test_prophet['y'], marker='o', linestyle='-', color='blue', label='Actual Sales')\n",
    "\n",
    "# Plot Prophet Forecast (last 7 days)\n",
    "plt.plot(forecast_last_7_days['ds'], forecast_last_7_days['yhat'], marker='x', linestyle='-', color='red', label='Prophet Forecast')\n",
    "\n",
    "# Set labels and title\n",
    "plt.xlabel('Date')\n",
    "plt.ylabel('Sales Sum')\n",
    "plt.title('Actual Sales vs. Prophet Forecast (Last 7 Days)')\n",
    "plt.xticks(rotation=45)\n",
    "plt.legend()\n",
    "plt.grid(True)\n",
    "plt.tight_layout()\n",
    "plt.show()\n"
   ]
  },
  {
   "cell_type": "code",
   "execution_count": null,
   "metadata": {
    "colab": {
     "base_uri": "https://localhost:8080/",
     "height": 607
    },
    "executionInfo": {
     "elapsed": 313,
     "status": "ok",
     "timestamp": 1750136828825,
     "user": {
      "displayName": "Thanan Kangsawiwat",
      "userId": "06026257672126219511"
     },
     "user_tz": -420
    },
    "id": "JpL-jw6MQWE0",
    "outputId": "9cab3735-0be2-4646-e520-5af927dedf83"
   },
   "outputs": [],
   "source": [
    "# prompt: plot line graph 7 วันสุดท้ายที่ forecast แกน x  = date, แกน y = sales_sum, Actual sales = เส้นทึบสีฟ้ามีจุดกลม, Prophet forecast = เส้นทึบสีแดงมีกากะบาท\n",
    "\n",
    "# กรองเฉพาะข้อมูล 7 วันสุดท้ายจากทั้ง Actual และ Forecast\n",
    "last_7_days_actual = actuals_filtered.tail(7)\n",
    "last_7_days_forecast = predictions_filtered.tail(7)\n",
    "\n",
    "# พล็อต\n",
    "plt.figure(figsize=(12, 6))\n",
    "\n",
    "# พล็อต Actual Sales (เส้นทึบสีฟ้ามีจุดกลม)\n",
    "plt.plot(last_7_days_actual['ds'], last_7_days_actual['y'], label='Actual sales', marker='o', linestyle='-', color='blue')\n",
    "\n",
    "# พล็อต Prophet Forecast (เส้นทึบสีแดงมีกากะบาท)\n",
    "plt.plot(last_7_days_forecast['ds'], last_7_days_forecast['yhat'], label='Prophet forecast', marker='X', linestyle='-', color='red')\n",
    "\n",
    "# ตั้งชื่อแกนและหัวข้อ\n",
    "plt.xlabel('Date')\n",
    "plt.ylabel('sales_sum')\n",
    "plt.title('Actual vs Prophet Forecast for Last 7 Days')\n",
    "plt.legend()\n",
    "plt.grid(True)\n",
    "plt.xticks(rotation=45) # หมุนชื่อแกน x เพื่อให้อ่านง่าย\n",
    "plt.tight_layout() # ปรับระยะห่างระหว่างองค์ประกอบในกราฟ\n",
    "plt.show()"
   ]
  },
  {
   "cell_type": "code",
   "execution_count": null,
   "metadata": {
    "colab": {
     "base_uri": "https://localhost:8080/",
     "height": 391
    },
    "executionInfo": {
     "elapsed": 29,
     "status": "ok",
     "timestamp": 1750136828853,
     "user": {
      "displayName": "Thanan Kangsawiwat",
      "userId": "06026257672126219511"
     },
     "user_tz": -420
    },
    "id": "rIycjQuNMmZH",
    "outputId": "87b76e5a-e316-4d07-f023-fea69c62450f"
   },
   "outputs": [],
   "source": [
    "forecast_last_7_days"
   ]
  }
 ],
 "metadata": {
  "colab": {
   "authorship_tag": "ABX9TyPF5QXEFd1WzE5UJFZdl4i+",
   "mount_file_id": "1J5ccR6tq6A96y0AwC26A5ema6KmOWge5",
   "provenance": []
  },
  "kernelspec": {
   "display_name": "Python 3",
   "name": "python3"
  },
  "language_info": {
   "name": "python"
  }
 },
 "nbformat": 4,
 "nbformat_minor": 0
}
