{
 "cells": [
  {
   "cell_type": "code",
   "execution_count": null,
   "metadata": {
    "id": "iMzBrRLh2DI8"
   },
   "outputs": [],
   "source": []
  },
  {
   "cell_type": "markdown",
   "metadata": {
    "id": "eobtXJFJ4bqn"
   },
   "source": [
    "ref : https://machinelearningmastery.com/time-series-forecasting-with-prophet-in-python/?utm_source=chatgpt.com"
   ]
  },
  {
   "cell_type": "markdown",
   "metadata": {
    "id": "ub4Sfqjb2RRZ"
   },
   "source": [
    "#Import"
   ]
  },
  {
   "cell_type": "code",
   "execution_count": null,
   "metadata": {
    "colab": {
     "base_uri": "https://localhost:8080/"
    },
    "id": "gc4rvZmV2SrR",
    "outputId": "9466d265-4751-4579-8591-41c419545e00"
   },
   "outputs": [],
   "source": [
    "from google.colab import drive\n",
    "drive.mount('/content/drive')"
   ]
  },
  {
   "cell_type": "code",
   "execution_count": null,
   "metadata": {
    "id": "aAf-WaNY3Fg7"
   },
   "outputs": [],
   "source": [
    "import pandas as pd\n",
    "from prophet import Prophet\n",
    "from sklearn.metrics import mean_squared_error, mean_absolute_error\n",
    "import numpy as np\n",
    "import matplotlib.pyplot as plt\n",
    "from prophet.diagnostics import cross_validation, performance_metrics\n",
    "import itertools"
   ]
  },
  {
   "cell_type": "code",
   "execution_count": null,
   "metadata": {
    "colab": {
     "base_uri": "https://localhost:8080/"
    },
    "id": "mbAwZu4-2dcl",
    "outputId": "fdf0631e-dba4-4dec-9d0c-8c7643fcb5b5"
   },
   "outputs": [],
   "source": [
    "df = pd.read_csv('/content/drive/MyDrive/swuds/t5_thesis/98_progress/dataset/nd_sales_Prophet.csv')\n",
    "print(df.head())"
   ]
  },
  {
   "cell_type": "markdown",
   "metadata": {
    "id": "PcyO6ACP39P9"
   },
   "source": [
    "#Preprocess"
   ]
  },
  {
   "cell_type": "code",
   "execution_count": null,
   "metadata": {
    "colab": {
     "base_uri": "https://localhost:8080/"
    },
    "id": "7yq0wzDuFKhg",
    "outputId": "977b5337-b06c-4d64-8ec8-8a73162fae5e"
   },
   "outputs": [],
   "source": [
    "# กำหนดลิสต์ของ Regressor ที่จะใช้\n",
    "regressor_columns = ['ismarketday', 'isschoolday', 'holiday']\n",
    "\n",
    "# เลือกคอลัมน์ที่จำเป็นทั้งหมด\n",
    "df_prophet = df[['ds', 'y'] + regressor_columns].copy()\n",
    "print(\"Data prepared for Prophet with regressors.\")"
   ]
  },
  {
   "cell_type": "code",
   "execution_count": null,
   "metadata": {
    "id": "_7JXBbhcLAlP"
   },
   "outputs": [],
   "source": [
    "df_prophet['ds'] = pd.to_datetime(df_prophet['ds'])"
   ]
  },
  {
   "cell_type": "code",
   "execution_count": null,
   "metadata": {
    "colab": {
     "base_uri": "https://localhost:8080/"
    },
    "id": "8r5q43U1QueX",
    "outputId": "e4572f8c-10e2-46dd-8f35-6e8fb1018bfb"
   },
   "outputs": [],
   "source": [
    "# สร้าง \"ตาราง\" ของค่าที่เราต้องการจะลอง\n",
    "param_grid = {\n",
    "    'changepoint_prior_scale': [0.01, 0.05, 0.1, 0.5],\n",
    "    'seasonality_prior_scale': [1.0, 5.0, 10.0, 15.0],\n",
    "    'holidays_prior_scale': [1.0, 5.0, 10.0, 15.0],\n",
    "    'seasonality_mode': ['additive', 'multiplicative']\n",
    "}\n",
    "\n",
    "# สร้าง list ของทุกชุดค่าที่เป็นไปได้\n",
    "all_params = [dict(zip(param_grid.keys(), v)) for v in itertools.product(*param_grid.values())]\n",
    "rmses = []  # เก็บค่า RMSE ของแต่ละชุดพารามิเตอร์\n",
    "\n",
    "print(f\"Starting Grid Search... Total combinations to test: {len(all_params)}\")\n",
    "print(\"-\" * 50)"
   ]
  },
  {
   "cell_type": "code",
   "execution_count": null,
   "metadata": {
    "colab": {
     "base_uri": "https://localhost:8080/"
    },
    "id": "oFiKu1hiRCh5",
    "outputId": "3920ba9e-3652-48ec-9ed0-a59852c42666"
   },
   "outputs": [],
   "source": [
    "# **คำเตือน:**ขั้นตอนนี้อาจใช้เวลานานมาก (อาจจะ 10-30 นาทีหรือมากกว่า)\n",
    "for params in all_params:\n",
    "    try:\n",
    "        # 4.1 สร้างโมเดลด้วยชุดพารามิเตอร์ปัจจุบัน\n",
    "        m = Prophet(**params)\n",
    "\n",
    "        # เพิ่ม Regressors เข้าไปในโมเดล\n",
    "        # for regressor in regressor_columns:\n",
    "        #     m.add_regressor(regressor)\n",
    "\n",
    "        # 4.2 เทรนโมเดล\n",
    "        # เราจะใช้ข้อมูลทั้งหมดในการทำ CV ไม่ใช่แค่ train_prophet\n",
    "        m.fit(df_prophet)\n",
    "\n",
    "        # 4.3 ทำ Cross-Validation\n",
    "        # initial: ขนาดข้อมูลเทรนเริ่มต้น\n",
    "        # period: ขนาดของข้อมูลที่จะเพิ่มเข้าไปในแต่ละรอบ\n",
    "        # horizon: ทำนายล่วงหน้ากี่วัน\n",
    "        df_cv = cross_validation(m, initial='365 days', period='90 days', horizon='7 days', parallel=\"processes\")\n",
    "\n",
    "        # 4.4 คำนวณค่า Performance\n",
    "        df_p = performance_metrics(df_cv, rolling_window=1)\n",
    "\n",
    "        # 4.5 เก็บค่า RMSE\n",
    "        current_rmse = df_p['rmse'].values[0]\n",
    "        rmses.append(current_rmse)\n",
    "        print(f\"Params: {params} -> RMSE: {current_rmse:.3f}\")\n",
    "\n",
    "    except Exception as e:\n",
    "        print(f\"Failed for params {params} with error: {e}\")\n",
    "        rmses.append(np.inf) # ใส่ค่า infinity หากเกิด error\n"
   ]
  },
  {
   "cell_type": "code",
   "execution_count": null,
   "metadata": {
    "colab": {
     "base_uri": "https://localhost:8080/"
    },
    "id": "fsxM97tNRJma",
    "outputId": "b10fef92-4a53-477f-9808-47b1cd2db22f"
   },
   "outputs": [],
   "source": [
    "# --- 5. ค้นหาและแสดงผลชุดพารามิเตอร์ที่ดีที่สุด ---\n",
    "print(\"-\" * 50)\n",
    "best_params_index = np.argmin(rmses)\n",
    "best_params = all_params[best_params_index]\n",
    "best_rmse = rmses[best_params_index]\n",
    "\n",
    "print(f\"Grid Search Complete.\")\n",
    "print(f\"Best Parameters Found: {best_params}\")\n",
    "print(f\"Best Cross-Validation RMSE: {best_rmse:.3f}\")"
   ]
  },
  {
   "cell_type": "code",
   "execution_count": null,
   "metadata": {
    "id": "-gXeKGk3FSnJ"
   },
   "outputs": [],
   "source": [
    "train_prophet = df_prophet.iloc[:-7]\n",
    "test_prophet = df_prophet.iloc[-7:]"
   ]
  },
  {
   "cell_type": "markdown",
   "metadata": {
    "id": "g4hYT6nD6UDy"
   },
   "source": [
    "#Train"
   ]
  },
  {
   "cell_type": "code",
   "execution_count": null,
   "metadata": {
    "colab": {
     "base_uri": "https://localhost:8080/"
    },
    "id": "wY0hv__ZFYyF",
    "outputId": "a1f42556-94ec-422e-c9b5-49e42e7b6496"
   },
   "outputs": [],
   "source": [
    "model = Prophet(seasonality_mode='multiplicative',\n",
    "    changepoint_prior_scale=0.5,\n",
    "    seasonality_prior_scale=5.0,\n",
    "    holidays_prior_scale=1.0)\n",
    "\n",
    "# --- ส่วนที่แก้ไข 2: เพิ่ม Regressor ทุกตัวเข้าไปในโมเดล ---\n",
    "for regressor in regressor_columns:\n",
    "    model.add_regressor(regressor)\n",
    "\n",
    "# เทรนโมเดลด้วยข้อมูลทั้งหมด (y และ regressors)\n",
    "model.fit(train_prophet)\n",
    "print(\"\\nProphet model with regressors trained successfully.\")"
   ]
  },
  {
   "cell_type": "code",
   "execution_count": null,
   "metadata": {
    "colab": {
     "base_uri": "https://localhost:8080/"
    },
    "id": "QkWUPIejTBZC",
    "outputId": "ad8529b8-61a0-4f4d-999c-dcbfbfa0b352"
   },
   "outputs": [],
   "source": [
    "# 1. สร้าง DataFrame สำหรับอนาคตเผื่อไว้ (เช่น 9 วัน) เพื่อให้แน่ใจว่าหลังกรองแล้วจะเหลืออย่างน้อย 7 วัน\n",
    "# (9 วัน จะครอบคลุมวันเสาร์ได้อย่างน้อย 1 วันเสมอ)\n",
    "future = model.make_future_dataframe(periods=9, freq='D')\n",
    "\n",
    "# เพราะ df_prophet คือตัวที่เราเตรียมไว้สำหรับ Prophet และมีข้อมูลที่ถูกต้องครบถ้วน\n",
    "future_with_regressors = pd.merge(future, df_prophet[['ds'] + regressor_columns], on='ds', how='left')\n",
    "\n",
    "# 3. เติมค่าว่าง (NaN) สำหรับ Regressor ในอนาคต\n",
    "future_with_regressors.fillna(method='ffill', inplace=True)\n",
    "#print(\"\\nFuture dataframe created and future regressors have been filled.\")\n",
    "\n",
    "# 2. กรองวันเสาร์ออก\n",
    "future_no_saturday = future_with_regressors[future_with_regressors['ds'].dt.dayofweek != 5]\n",
    "\n",
    "# 3. **เลือกมาเฉพาะ 7 วันแรกจริงๆ ที่ไม่ใช่วันเสาร์ เพื่อทำนาย**\n",
    "# โดยเราจะเลือกข้อมูลทั้งหมดในอดีต บวกกับ 7 วันแรกในอนาคตที่กรองแล้ว\n",
    "future_to_predict = future_no_saturday.head(len(train_prophet) + 7)\n",
    "print(\"Dates to be predicted (7 days, excluding Saturdays):\")\n",
    "print(future_to_predict.tail(7))"
   ]
  },
  {
   "cell_type": "code",
   "execution_count": null,
   "metadata": {
    "id": "EvMYVtcbFgt5"
   },
   "outputs": [],
   "source": [
    "# 5. ทำนายโดยใช้ DataFrame ที่สมบูรณ์แล้ว\n",
    "forecast = model.predict(future_no_saturday)"
   ]
  },
  {
   "cell_type": "markdown",
   "metadata": {
    "id": "yDQztM9cAvmo"
   },
   "source": [
    "#Evaluate"
   ]
  },
  {
   "cell_type": "code",
   "execution_count": null,
   "metadata": {
    "colab": {
     "base_uri": "https://localhost:8080/"
    },
    "id": "Xh3NNYz6QCMG",
    "outputId": "b84c4f88-7a20-4fd6-c8a7-a65322b1fde7"
   },
   "outputs": [],
   "source": [
    "# prompt: ประเมินผลด้วย rmse, mae\n",
    "\n",
    "# Filter forecast and test data to include only the 7 days being evaluated\n",
    "# Ensure that the dates in `test_prophet` match the dates in the last 7 predictions\n",
    "test_dates = test_prophet['ds'].values\n",
    "\n",
    "# Find the corresponding predictions in the forecast DataFrame\n",
    "forecast_eval = forecast[forecast['ds'].isin(test_dates)]\n",
    "\n",
    "# Make sure the test data and forecast data are aligned by date before calculating metrics\n",
    "# Sort both DataFrames by date\n",
    "test_prophet_sorted = test_prophet.sort_values(by='ds')\n",
    "forecast_eval_sorted = forecast_eval.sort_values(by='ds')\n",
    "\n",
    "# Ensure the lengths match and dates are identical\n",
    "if not np.array_equal(test_prophet_sorted['ds'].values, forecast_eval_sorted['ds'].values):\n",
    "    print(\"Warning: Dates in test data and forecast data do not match for evaluation.\")\n",
    "    print(\"Test Dates:\\n\", test_prophet_sorted['ds'].values)\n",
    "    print(\"Forecast Dates:\\n\", forecast_eval_sorted['ds'].values)\n",
    "    # You might want to handle this error appropriately, e.g., by raising an exception\n",
    "    # For now, we'll proceed with the available matching dates, but be aware of potential issues\n",
    "    common_dates = np.intersect1d(test_prophet_sorted['ds'].values, forecast_eval_sorted['ds'].values)\n",
    "    test_prophet_sorted = test_prophet_sorted[test_prophet_sorted['ds'].isin(common_dates)]\n",
    "    forecast_eval_sorted = forecast_eval_sorted[forecast_eval_sorted['ds'].isin(common_dates)]\n",
    "\n",
    "\n",
    "y_true = test_prophet_sorted['y'].values\n",
    "y_pred = forecast_eval_sorted['yhat'].values\n",
    "\n",
    "# Calculate RMSE\n",
    "rmse = np.sqrt(mean_squared_error(y_true, y_pred))\n",
    "print(f'RMSE: {rmse:.3f}')\n",
    "\n",
    "# Calculate MAE\n",
    "mae = mean_absolute_error(y_true, y_pred)\n",
    "print(f'MAE: {mae:.3f}')"
   ]
  },
  {
   "cell_type": "code",
   "execution_count": null,
   "metadata": {
    "colab": {
     "base_uri": "https://localhost:8080/",
     "height": 607
    },
    "id": "-gfezSXeSOZ-",
    "outputId": "4fdd6e67-d2f0-4bb6-b50c-dca861157d28"
   },
   "outputs": [],
   "source": [
    "# prompt: plot line graph 7 วันสุดท้ายที่ forecast แกน x  = date, แกน y = sales_sum, Actual sales = เส้นทึบสีฟ้ามีจุดกลม, Prophet forecast = เส้นทึบสีแดงมีกากะบาท\n",
    "\n",
    "# Filter the forecast to the last 7 days corresponding to the test set\n",
    "forecast_last_7_days = forecast[forecast['ds'].isin(test_prophet['ds'])]\n",
    "\n",
    "# Plotting\n",
    "plt.figure(figsize=(10, 6))\n",
    "\n",
    "# Plot Actual Sales (last 7 days)\n",
    "plt.plot(test_prophet['ds'], test_prophet['y'], marker='o', linestyle='-', color='blue', label='Actual Sales')\n",
    "\n",
    "# Plot Prophet Forecast (last 7 days)\n",
    "plt.plot(forecast_last_7_days['ds'], forecast_last_7_days['yhat'], marker='x', linestyle='-', color='red', label='Prophet Forecast')\n",
    "\n",
    "# Set labels and title\n",
    "plt.xlabel('Date')\n",
    "plt.ylabel('Sales Sum')\n",
    "plt.title('Actual Sales vs. Prophet Forecast (Last 7 Days)')\n",
    "plt.xticks(rotation=45)\n",
    "plt.legend()\n",
    "plt.grid(True)\n",
    "plt.tight_layout()\n",
    "plt.show()\n"
   ]
  }
 ],
 "metadata": {
  "colab": {
   "provenance": []
  },
  "kernelspec": {
   "display_name": "Python 3",
   "name": "python3"
  },
  "language_info": {
   "name": "python"
  }
 },
 "nbformat": 4,
 "nbformat_minor": 0
}
