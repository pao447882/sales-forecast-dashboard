{
 "cells": [
  {
   "cell_type": "markdown",
   "metadata": {
    "id": "SUo5r1oAEgaP"
   },
   "source": [
    "LinearRegression_Phase1_การทดลองที่3_Train Window: 90 วัน, Forecast Horizon: 7 วัน, Features: Lag 7"
   ]
  },
  {
   "cell_type": "markdown",
   "metadata": {
    "id": "WG7yKZBHyDmT"
   },
   "source": [
    "#Import"
   ]
  },
  {
   "cell_type": "code",
   "execution_count": null,
   "metadata": {
    "executionInfo": {
     "elapsed": 3344,
     "status": "ok",
     "timestamp": 1750664425028,
     "user": {
      "displayName": "Thanan Kangsawiwat",
      "userId": "06026257672126219511"
     },
     "user_tz": -420
    },
    "id": "w4fXZv6SybvV"
   },
   "outputs": [],
   "source": [
    "import pandas as pd\n",
    "import numpy as np\n",
    "import matplotlib.pyplot as plt\n",
    "import seaborn as sns\n",
    "from sklearn.linear_model import LinearRegression\n",
    "from sklearn.linear_model import Ridge\n",
    "from sklearn.metrics import mean_squared_error, mean_absolute_error"
   ]
  },
  {
   "cell_type": "code",
   "execution_count": null,
   "metadata": {
    "colab": {
     "base_uri": "https://localhost:8080/"
    },
    "executionInfo": {
     "elapsed": 20578,
     "status": "ok",
     "timestamp": 1750664445608,
     "user": {
      "displayName": "Thanan Kangsawiwat",
      "userId": "06026257672126219511"
     },
     "user_tz": -420
    },
    "id": "p7m06yUByK2o",
    "outputId": "1b6e491c-eab2-4298-a57e-e2fe54882fa1"
   },
   "outputs": [],
   "source": [
    "from google.colab import drive\n",
    "drive.mount('/content/drive')"
   ]
  },
  {
   "cell_type": "code",
   "execution_count": null,
   "metadata": {
    "colab": {
     "base_uri": "https://localhost:8080/",
     "height": 236
    },
    "executionInfo": {
     "elapsed": 2679,
     "status": "ok",
     "timestamp": 1750664448286,
     "user": {
      "displayName": "Thanan Kangsawiwat",
      "userId": "06026257672126219511"
     },
     "user_tz": -420
    },
    "id": "he9FJRO4E0Uc",
    "outputId": "90f670fc-6163-4571-b449-77f6537f3f85"
   },
   "outputs": [],
   "source": [
    "df = pd.read_csv(\"/content/drive/MyDrive/swuds/t5_thesis/98_progress/dataset/nd_sales_LinearRegression_base.csv\")\n",
    "df.head()"
   ]
  },
  {
   "cell_type": "markdown",
   "metadata": {
    "id": "JfNAVZ-kFA2Y"
   },
   "source": [
    "#Preprocess"
   ]
  },
  {
   "cell_type": "code",
   "execution_count": null,
   "metadata": {
    "colab": {
     "base_uri": "https://localhost:8080/",
     "height": 267
    },
    "executionInfo": {
     "elapsed": 36,
     "status": "ok",
     "timestamp": 1750664448323,
     "user": {
      "displayName": "Thanan Kangsawiwat",
      "userId": "06026257672126219511"
     },
     "user_tz": -420
    },
    "id": "e-teck1GFfX0",
    "outputId": "aadad2e0-786a-48e6-a408-f5580b6ff115"
   },
   "outputs": [],
   "source": [
    "df['date'] = pd.to_datetime(df['date'])\n",
    "df = df.set_index('date')\n",
    "df.head()"
   ]
  },
  {
   "cell_type": "markdown",
   "metadata": {
    "id": "ccbV29hUFxzn"
   },
   "source": [
    "ในการทดลอง Phase1 จะใช้แค่ 'sales_sum', 'time_index', 'lag_7' เท่านั้น"
   ]
  },
  {
   "cell_type": "code",
   "execution_count": null,
   "metadata": {
    "colab": {
     "base_uri": "https://localhost:8080/",
     "height": 238
    },
    "executionInfo": {
     "elapsed": 41,
     "status": "ok",
     "timestamp": 1750664448365,
     "user": {
      "displayName": "Thanan Kangsawiwat",
      "userId": "06026257672126219511"
     },
     "user_tz": -420
    },
    "id": "rPWRghUVDZiJ",
    "outputId": "631abd6e-48e2-493d-e9a2-f88a3d4b5507"
   },
   "outputs": [],
   "source": [
    "df['lag_1'] = df['sales_sum'].shift(1)\n",
    "df['lag_2'] = df['sales_sum'].shift(2)\n",
    "df['lag_3'] = df['sales_sum'].shift(3)\n",
    "df['lag_4'] = df['sales_sum'].shift(4)\n",
    "df['lag_5'] = df['sales_sum'].shift(5)\n",
    "df['lag_6'] = df['sales_sum'].shift(6)\n",
    "df['lag_7'] = df['sales_sum'].shift(7)\n",
    "df = df.reindex(columns=['sales_sum', 'time_index', 'lag_1', 'lag_2', 'lag_3', 'lag_4', 'lag_5', 'lag_6', 'lag_7'])\n",
    "\n",
    "df.head()"
   ]
  },
  {
   "cell_type": "code",
   "execution_count": null,
   "metadata": {
    "colab": {
     "base_uri": "https://localhost:8080/",
     "height": 238
    },
    "executionInfo": {
     "elapsed": 21,
     "status": "ok",
     "timestamp": 1750664448387,
     "user": {
      "displayName": "Thanan Kangsawiwat",
      "userId": "06026257672126219511"
     },
     "user_tz": -420
    },
    "id": "qUr4Y0OvMjPN",
    "outputId": "2f3cad3b-62f0-4a2c-89e0-3571b531291f"
   },
   "outputs": [],
   "source": [
    "# prompt: drop row that have missing value\n",
    "\n",
    "df.dropna(inplace=True)\n",
    "df.head()"
   ]
  },
  {
   "cell_type": "markdown",
   "metadata": {
    "id": "S8RjvOnOHR6v"
   },
   "source": [
    "การทดลองที่ 1: Train Window: 30 วัน, Forecast Horizon: 7 วัน, Features: Lag 7"
   ]
  },
  {
   "cell_type": "code",
   "execution_count": null,
   "metadata": {
    "colab": {
     "base_uri": "https://localhost:8080/",
     "height": 455
    },
    "executionInfo": {
     "elapsed": 62,
     "status": "ok",
     "timestamp": 1750664448450,
     "user": {
      "displayName": "Thanan Kangsawiwat",
      "userId": "06026257672126219511"
     },
     "user_tz": -420
    },
    "id": "gbtI0M8cHXgy",
    "outputId": "bb59796c-c2c9-4c89-d543-c61af720d3d9"
   },
   "outputs": [],
   "source": [
    "df_last_97 = df.tail(97)\n",
    "df_last_97"
   ]
  },
  {
   "cell_type": "code",
   "execution_count": null,
   "metadata": {
    "colab": {
     "base_uri": "https://localhost:8080/",
     "height": 859
    },
    "executionInfo": {
     "elapsed": 26,
     "status": "ok",
     "timestamp": 1750664448467,
     "user": {
      "displayName": "Thanan Kangsawiwat",
      "userId": "06026257672126219511"
     },
     "user_tz": -420
    },
    "id": "Mf6l6Tu-Huz2",
    "outputId": "b98a021a-404e-445e-e3e2-0f29ff095530"
   },
   "outputs": [],
   "source": [
    "# prompt: แบ่ง test_data = 7 row ท้ายสุด,  train_data = row ทั้งหมดที่เหลือ\n",
    "\n",
    "test_data = df_last_97.tail(7)\n",
    "train_data = df_last_97.head(90)\n",
    "\n",
    "print(\"Test Data:\")\n",
    "print(test_data)\n",
    "\n",
    "print(\"\\nTrain Data:\")\n",
    "train_data"
   ]
  },
  {
   "cell_type": "code",
   "execution_count": null,
   "metadata": {
    "executionInfo": {
     "elapsed": 2,
     "status": "ok",
     "timestamp": 1750664448469,
     "user": {
      "displayName": "Thanan Kangsawiwat",
      "userId": "06026257672126219511"
     },
     "user_tz": -420
    },
    "id": "C82TCcBSK9gh"
   },
   "outputs": [],
   "source": [
    "X = train_data[['lag_1', 'lag_2', 'lag_3', 'lag_4', 'lag_5', 'lag_6', 'lag_7']]\n",
    "y = train_data['sales_sum']"
   ]
  },
  {
   "cell_type": "markdown",
   "metadata": {
    "id": "FwxwghRm8RLV"
   },
   "source": [
    "#Train Model"
   ]
  },
  {
   "cell_type": "code",
   "execution_count": null,
   "metadata": {
    "colab": {
     "base_uri": "https://localhost:8080/",
     "height": 80
    },
    "executionInfo": {
     "elapsed": 38,
     "status": "ok",
     "timestamp": 1750664448508,
     "user": {
      "displayName": "Thanan Kangsawiwat",
      "userId": "06026257672126219511"
     },
     "user_tz": -420
    },
    "id": "UqoPtdX6M4yY",
    "outputId": "8f19d90f-70f2-44a1-a01b-c9bc4ce8d497"
   },
   "outputs": [],
   "source": [
    "# Initializing the linear regression model\n",
    "model = LinearRegression()\n",
    "\n",
    "# Training the model on the training data available\n",
    "model.fit(X, y)"
   ]
  },
  {
   "cell_type": "code",
   "execution_count": null,
   "metadata": {
    "colab": {
     "base_uri": "https://localhost:8080/"
    },
    "executionInfo": {
     "elapsed": 27,
     "status": "ok",
     "timestamp": 1750664448533,
     "user": {
      "displayName": "Thanan Kangsawiwat",
      "userId": "06026257672126219511"
     },
     "user_tz": -420
    },
    "id": "xYZmDwY4NmB9",
    "outputId": "1db7a682-e646-4eef-ddb1-9c81a25d80dc"
   },
   "outputs": [],
   "source": [
    "X_test = test_data[['lag_1', 'lag_2', 'lag_3', 'lag_4', 'lag_5', 'lag_6', 'lag_7']]\n",
    "predictions = model.predict(X_test)\n",
    "\n",
    "# Print the predictions\n",
    "print(\"\\nPredictions:\")\n",
    "predictions"
   ]
  },
  {
   "cell_type": "markdown",
   "metadata": {
    "id": "iW9e1g6O8p3-"
   },
   "source": [
    "#Evaluate"
   ]
  },
  {
   "cell_type": "code",
   "execution_count": null,
   "metadata": {
    "colab": {
     "base_uri": "https://localhost:8080/"
    },
    "executionInfo": {
     "elapsed": 5,
     "status": "ok",
     "timestamp": 1750664448553,
     "user": {
      "displayName": "Thanan Kangsawiwat",
      "userId": "06026257672126219511"
     },
     "user_tz": -420
    },
    "id": "_JRwKGKzOBeD",
    "outputId": "bcd1365d-9bf4-4e9d-d5b8-ea9cdfa3c037"
   },
   "outputs": [],
   "source": [
    "# Calculating MSE\n",
    "mse = mean_squared_error(test_data['sales_sum'], predictions)\n",
    "print(f\"\\nMean Squared Error (MSE): {mse}\")\n",
    "\n",
    "# Calculating RMSE\n",
    "rmse = np.sqrt(mse)\n",
    "print(f\"Root Mean Squared Error (RMSE): {rmse}\")"
   ]
  },
  {
   "cell_type": "code",
   "execution_count": null,
   "metadata": {
    "colab": {
     "base_uri": "https://localhost:8080/"
    },
    "executionInfo": {
     "elapsed": 11,
     "status": "ok",
     "timestamp": 1750664464202,
     "user": {
      "displayName": "Thanan Kangsawiwat",
      "userId": "06026257672126219511"
     },
     "user_tz": -420
    },
    "id": "MMrjp7Tiu5yG",
    "outputId": "66d0e89d-bc8b-4265-8124-526e013f30e1"
   },
   "outputs": [],
   "source": [
    "# prompt: MAE RMSE\n",
    "\n",
    "# Calculating MAE\n",
    "mae = mean_absolute_error(test_data['sales_sum'], predictions)\n",
    "print(f\"Mean Absolute Error (MAE): {mae}\")"
   ]
  }
 ],
 "metadata": {
  "colab": {
   "authorship_tag": "ABX9TyNEsqehxI/GyxFbJIGZduJt",
   "provenance": []
  },
  "kernelspec": {
   "display_name": "Python 3",
   "name": "python3"
  },
  "language_info": {
   "name": "python"
  }
 },
 "nbformat": 4,
 "nbformat_minor": 0
}
