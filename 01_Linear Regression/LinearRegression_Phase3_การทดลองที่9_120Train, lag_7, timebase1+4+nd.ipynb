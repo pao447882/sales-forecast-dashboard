{
 "cells": [
  {
   "cell_type": "markdown",
   "metadata": {
    "id": "SUo5r1oAEgaP"
   },
   "source": [
    "LinearRegression_Phase3_การทดลองที่7_120Train, lag_7, date_ชุด1+4"
   ]
  },
  {
   "cell_type": "markdown",
   "metadata": {
    "id": "WG7yKZBHyDmT"
   },
   "source": [
    "#Import"
   ]
  },
  {
   "cell_type": "code",
   "execution_count": null,
   "metadata": {
    "executionInfo": {
     "elapsed": 3384,
     "status": "ok",
     "timestamp": 1750673128540,
     "user": {
      "displayName": "Thanan Kangsawiwat",
      "userId": "06026257672126219511"
     },
     "user_tz": -420
    },
    "id": "w4fXZv6SybvV"
   },
   "outputs": [],
   "source": [
    "import pandas as pd\n",
    "import numpy as np\n",
    "import matplotlib.pyplot as plt\n",
    "import seaborn as sns\n",
    "from sklearn.linear_model import LinearRegression\n",
    "from sklearn.linear_model import Ridge\n",
    "from sklearn.metrics import mean_squared_error, mean_absolute_error"
   ]
  },
  {
   "cell_type": "code",
   "execution_count": null,
   "metadata": {
    "colab": {
     "base_uri": "https://localhost:8080/"
    },
    "executionInfo": {
     "elapsed": 18549,
     "status": "ok",
     "timestamp": 1750673147092,
     "user": {
      "displayName": "Thanan Kangsawiwat",
      "userId": "06026257672126219511"
     },
     "user_tz": -420
    },
    "id": "p7m06yUByK2o",
    "outputId": "48198a6d-3b67-4778-9af4-1f1bd644a56e"
   },
   "outputs": [],
   "source": [
    "from google.colab import drive\n",
    "drive.mount('/content/drive')"
   ]
  },
  {
   "cell_type": "code",
   "execution_count": null,
   "metadata": {
    "colab": {
     "base_uri": "https://localhost:8080/",
     "height": 236
    },
    "executionInfo": {
     "elapsed": 2275,
     "status": "ok",
     "timestamp": 1750673149366,
     "user": {
      "displayName": "Thanan Kangsawiwat",
      "userId": "06026257672126219511"
     },
     "user_tz": -420
    },
    "id": "he9FJRO4E0Uc",
    "outputId": "2d9528ca-e406-4ddf-ebf6-d97af30c6624"
   },
   "outputs": [],
   "source": [
    "df = pd.read_csv(\"/content/drive/MyDrive/swuds/t5_thesis/98_progress/dataset/nd_sales_LinearRegression_base.csv\")\n",
    "df.head()"
   ]
  },
  {
   "cell_type": "code",
   "execution_count": null,
   "metadata": {
    "colab": {
     "base_uri": "https://localhost:8080/"
    },
    "executionInfo": {
     "elapsed": 16,
     "status": "ok",
     "timestamp": 1750673149388,
     "user": {
      "displayName": "Thanan Kangsawiwat",
      "userId": "06026257672126219511"
     },
     "user_tz": -420
    },
    "id": "esTEowkbKzZD",
    "outputId": "a52a2e90-562d-4db5-862f-0a1e79bbc198"
   },
   "outputs": [],
   "source": [
    "df.columns"
   ]
  },
  {
   "cell_type": "markdown",
   "metadata": {
    "id": "JfNAVZ-kFA2Y"
   },
   "source": [
    "#Preprocess"
   ]
  },
  {
   "cell_type": "code",
   "execution_count": null,
   "metadata": {
    "colab": {
     "base_uri": "https://localhost:8080/",
     "height": 267
    },
    "executionInfo": {
     "elapsed": 141,
     "status": "ok",
     "timestamp": 1750673149531,
     "user": {
      "displayName": "Thanan Kangsawiwat",
      "userId": "06026257672126219511"
     },
     "user_tz": -420
    },
    "id": "e-teck1GFfX0",
    "outputId": "870fd7cc-f4fa-4aa3-c8d6-08afe0f184ce"
   },
   "outputs": [],
   "source": [
    "df['date'] = pd.to_datetime(df['date'])\n",
    "df = df.set_index('date')\n",
    "df.head()"
   ]
  },
  {
   "cell_type": "code",
   "execution_count": null,
   "metadata": {
    "colab": {
     "base_uri": "https://localhost:8080/",
     "height": 267
    },
    "executionInfo": {
     "elapsed": 82,
     "status": "ok",
     "timestamp": 1750673149614,
     "user": {
      "displayName": "Thanan Kangsawiwat",
      "userId": "06026257672126219511"
     },
     "user_tz": -420
    },
    "id": "VKcKZW0iop22",
    "outputId": "3e15aed7-01e1-4162-a8a4-4ca8fda3c7f6"
   },
   "outputs": [],
   "source": [
    "df['is_weekend'] = (df.index.dayofweek == 6).astype(int)\n",
    "df.head()"
   ]
  },
  {
   "cell_type": "markdown",
   "metadata": {
    "id": "SpcEwnRZqRJ5"
   },
   "source": [
    "ตัวแปรที่ไม่ได้มีความหมายเชิงลำดับเช่น dayofweek, month  \n",
    "เพราะตัวแปรเหล่านี้เป็นข้อมูลเชิงกลุ่ม (Categorical) ไม่ใช่เชิงลำดับ (Ordinal) หากเราใส่เป็นตัวเลข 1-12 เข้าไปตรงๆ โมเดลจะเข้าใจผิดว่า \"เดือนธันวาคม (12)\" มีค่ามากกว่า \"เดือนมกราคม (1)\" ถึง 12 เท่า ซึ่งไม่เป็นความจริง การทำ One-Hot Encoding จะสร้างคอลัมน์ใหม่เป็น is_Jan, is_Feb,... เพื่อแก้ปัญหานี้"
   ]
  },
  {
   "cell_type": "code",
   "execution_count": null,
   "metadata": {
    "colab": {
     "base_uri": "https://localhost:8080/",
     "height": 267
    },
    "executionInfo": {
     "elapsed": 78,
     "status": "ok",
     "timestamp": 1750673149693,
     "user": {
      "displayName": "Thanan Kangsawiwat",
      "userId": "06026257672126219511"
     },
     "user_tz": -420
    },
    "id": "nahEdVCYM5Fs",
    "outputId": "0865d634-5dc3-4c75-f5dd-4a746e9602a8"
   },
   "outputs": [],
   "source": [
    "# prompt: สร้าง 'is_Sun' จาก dayofweek ถ้าตรงกับวันอาทิตย์แสดงเป็น 1  ถ้าไม่ตรงแสดงเป็น 0\n",
    "\n",
    "df['is_Sun'] = (df.index.dayofweek == 6).astype(int)\n",
    "df.head(5)"
   ]
  },
  {
   "cell_type": "code",
   "execution_count": null,
   "metadata": {
    "colab": {
     "base_uri": "https://localhost:8080/",
     "height": 204
    },
    "executionInfo": {
     "elapsed": 98,
     "status": "ok",
     "timestamp": 1750673149793,
     "user": {
      "displayName": "Thanan Kangsawiwat",
      "userId": "06026257672126219511"
     },
     "user_tz": -420
    },
    "id": "AH4AthNCSeoj",
    "outputId": "68c16184-bc4c-4342-d7d8-dbec1e4dc731"
   },
   "outputs": [],
   "source": [
    "df['is_Sun'] = (df.index.dayofweek == 6).astype(int)\n",
    "df['is_Mon'] = (df.index.dayofweek == 0).astype(int)\n",
    "df['is_Tue'] = (df.index.dayofweek == 1).astype(int)\n",
    "df['is_Wed'] = (df.index.dayofweek == 2).astype(int)\n",
    "df['is_Thu'] = (df.index.dayofweek == 3).astype(int)\n",
    "df['is_Fri'] = (df.index.dayofweek == 4).astype(int)\n",
    "df.head(3)"
   ]
  },
  {
   "cell_type": "code",
   "execution_count": null,
   "metadata": {
    "colab": {
     "base_uri": "https://localhost:8080/",
     "height": 204
    },
    "executionInfo": {
     "elapsed": 48,
     "status": "ok",
     "timestamp": 1750673149793,
     "user": {
      "displayName": "Thanan Kangsawiwat",
      "userId": "06026257672126219511"
     },
     "user_tz": -420
    },
    "id": "ceXn0N_bTdc0",
    "outputId": "06d07197-6e3a-4103-aee4-a793810e1a08"
   },
   "outputs": [],
   "source": [
    "df['is_Jan'] = (df.index.month == 1).astype(int)\n",
    "df['is_Feb'] = (df.index.month == 2).astype(int)\n",
    "df['is_Mar'] = (df.index.month == 3).astype(int)\n",
    "df['is_Apr'] = (df.index.month == 4).astype(int)\n",
    "df['is_May'] = (df.index.month == 5).astype(int)\n",
    "df['is_Jun'] = (df.index.month == 6).astype(int)\n",
    "df['is_Jul'] = (df.index.month == 7).astype(int)\n",
    "df['is_Aug'] = (df.index.month == 8).astype(int)\n",
    "df['is_Sep'] = (df.index.month == 9).astype(int)\n",
    "df['is_Oct'] = (df.index.month == 10).astype(int)\n",
    "df['is_Nov'] = (df.index.month == 11).astype(int)\n",
    "df['is_Dec'] = (df.index.month == 12).astype(int)\n",
    "df.head(3)"
   ]
  },
  {
   "cell_type": "markdown",
   "metadata": {
    "id": "ccbV29hUFxzn"
   },
   "source": [
    "ในการทดลอง Phase3 จะใช้แค่ 'sales_sum', 'time_index', 'lag_7' และตัวแปรทางปฏิทิน"
   ]
  },
  {
   "cell_type": "code",
   "execution_count": null,
   "metadata": {
    "colab": {
     "base_uri": "https://localhost:8080/",
     "height": 238
    },
    "executionInfo": {
     "elapsed": 47,
     "status": "ok",
     "timestamp": 1750673149838,
     "user": {
      "displayName": "Thanan Kangsawiwat",
      "userId": "06026257672126219511"
     },
     "user_tz": -420
    },
    "id": "rPWRghUVDZiJ",
    "outputId": "8810598d-58e2-4236-8c1a-28136a581f52"
   },
   "outputs": [],
   "source": [
    "df['lag_1'] = df['sales_sum'].shift(1)\n",
    "df['lag_2'] = df['sales_sum'].shift(2)\n",
    "df['lag_3'] = df['sales_sum'].shift(3)\n",
    "df['lag_4'] = df['sales_sum'].shift(4)\n",
    "df['lag_5'] = df['sales_sum'].shift(5)\n",
    "df['lag_6'] = df['sales_sum'].shift(6)\n",
    "df['lag_7'] = df['sales_sum'].shift(7)\n",
    "df = df.reindex(columns=['sales_sum', 'lag_1', 'lag_2', 'lag_3', 'lag_4', 'lag_5', 'lag_6', 'lag_7'\n",
    "                         , 'year', 'time_index'\n",
    "                         #, 'isschoolday', 'ismarketday', 'holiday', 'isbuddaday'\n",
    "                         #, 'is_Sun', 'is_Mon', 'is_Tue', 'is_Wed', 'is_Thu', 'is_Fri'\n",
    "                         #, 'is_Jan', 'is_Feb', 'is_Mar', 'is_Apr', 'is_May', 'is_Jun', 'is_Jul', 'is_Aug', 'is_Sep', 'is_Oct', 'is_Nov', 'is_Dec'\n",
    "                         #, 'nd_lottery'\n",
    "                         , 'ismarketday', 'isschoolday', 'holiday'\n",
    "                         ])\n",
    "\n",
    "df.head()"
   ]
  },
  {
   "cell_type": "code",
   "execution_count": null,
   "metadata": {
    "colab": {
     "base_uri": "https://localhost:8080/",
     "height": 238
    },
    "executionInfo": {
     "elapsed": 51,
     "status": "ok",
     "timestamp": 1750673149890,
     "user": {
      "displayName": "Thanan Kangsawiwat",
      "userId": "06026257672126219511"
     },
     "user_tz": -420
    },
    "id": "qUr4Y0OvMjPN",
    "outputId": "330d1b7c-081c-4016-ec5f-c13ac3a5bcbf"
   },
   "outputs": [],
   "source": [
    "# prompt: drop row that have missing value\n",
    "\n",
    "df.dropna(inplace=True)\n",
    "df.head()"
   ]
  },
  {
   "cell_type": "code",
   "execution_count": null,
   "metadata": {
    "colab": {
     "base_uri": "https://localhost:8080/",
     "height": 455
    },
    "executionInfo": {
     "elapsed": 54,
     "status": "ok",
     "timestamp": 1750673149945,
     "user": {
      "displayName": "Thanan Kangsawiwat",
      "userId": "06026257672126219511"
     },
     "user_tz": -420
    },
    "id": "gbtI0M8cHXgy",
    "outputId": "bec24f11-0d40-41d2-91dc-0bea0b5726a3"
   },
   "outputs": [],
   "source": [
    "df_last_127 = df.tail(127)\n",
    "df_last_127"
   ]
  },
  {
   "cell_type": "code",
   "execution_count": null,
   "metadata": {
    "colab": {
     "base_uri": "https://localhost:8080/",
     "height": 1000
    },
    "executionInfo": {
     "elapsed": 47,
     "status": "ok",
     "timestamp": 1750673149993,
     "user": {
      "displayName": "Thanan Kangsawiwat",
      "userId": "06026257672126219511"
     },
     "user_tz": -420
    },
    "id": "Mf6l6Tu-Huz2",
    "outputId": "a47524be-e3dc-4882-d444-dd33a3d10ee0"
   },
   "outputs": [],
   "source": [
    "# prompt: แบ่ง test_data = 7 row ท้ายสุด,  train_data = row ทั้งหมดที่เหลือ\n",
    "\n",
    "test_data = df_last_127.tail(7)\n",
    "train_data = df_last_127.head(120)\n",
    "\n",
    "print(\"Test Data:\")\n",
    "print(test_data)\n",
    "\n",
    "print(\"\\nTrain Data:\")\n",
    "train_data"
   ]
  },
  {
   "cell_type": "code",
   "execution_count": null,
   "metadata": {
    "executionInfo": {
     "elapsed": 1,
     "status": "ok",
     "timestamp": 1750673149995,
     "user": {
      "displayName": "Thanan Kangsawiwat",
      "userId": "06026257672126219511"
     },
     "user_tz": -420
    },
    "id": "C82TCcBSK9gh"
   },
   "outputs": [],
   "source": [
    "X = train_data[['lag_1', 'lag_2', 'lag_3', 'lag_4', 'lag_5', 'lag_6', 'lag_7'\n",
    "                         , 'year', 'time_index'\n",
    "                         #, 'isschoolday', 'ismarketday', 'holiday', 'isbuddaday'\n",
    "                         #, 'is_Sun', 'is_Mon', 'is_Tue', 'is_Wed', 'is_Thu', 'is_Fri'\n",
    "                         #, 'is_Jan', 'is_Feb', 'is_Mar', 'is_Apr', 'is_May', 'is_Jun', 'is_Jul', 'is_Aug', 'is_Sep', 'is_Oct', 'is_Nov', 'is_Dec'\n",
    "                         #, 'nd_lottery'\n",
    "                         , 'ismarketday', 'isschoolday', 'holiday'\n",
    "                ]]\n",
    "y = train_data['sales_sum']"
   ]
  },
  {
   "cell_type": "markdown",
   "metadata": {
    "id": "FwxwghRm8RLV"
   },
   "source": [
    "#Train Model"
   ]
  },
  {
   "cell_type": "code",
   "execution_count": null,
   "metadata": {
    "colab": {
     "base_uri": "https://localhost:8080/",
     "height": 80
    },
    "executionInfo": {
     "elapsed": 32,
     "status": "ok",
     "timestamp": 1750673150029,
     "user": {
      "displayName": "Thanan Kangsawiwat",
      "userId": "06026257672126219511"
     },
     "user_tz": -420
    },
    "id": "UqoPtdX6M4yY",
    "outputId": "151bb3cd-0572-4857-9649-54ab2de06805"
   },
   "outputs": [],
   "source": [
    "# Initializing the linear regression model\n",
    "model = LinearRegression()\n",
    "\n",
    "# Training the model on the training data available\n",
    "model.fit(X, y)"
   ]
  },
  {
   "cell_type": "code",
   "execution_count": null,
   "metadata": {
    "colab": {
     "base_uri": "https://localhost:8080/"
    },
    "executionInfo": {
     "elapsed": 7,
     "status": "ok",
     "timestamp": 1750673150037,
     "user": {
      "displayName": "Thanan Kangsawiwat",
      "userId": "06026257672126219511"
     },
     "user_tz": -420
    },
    "id": "xYZmDwY4NmB9",
    "outputId": "43dba9c5-3630-4833-dba0-6f444160a2c9"
   },
   "outputs": [],
   "source": [
    "X_test = test_data[['lag_1', 'lag_2', 'lag_3', 'lag_4', 'lag_5', 'lag_6', 'lag_7'\n",
    "                          , 'year', 'time_index'\n",
    "                         #, 'isschoolday', 'ismarketday', 'holiday', 'isbuddaday'\n",
    "                         #, 'is_Sun', 'is_Mon', 'is_Tue', 'is_Wed', 'is_Thu', 'is_Fri'\n",
    "                         #, 'is_Jan', 'is_Feb', 'is_Mar', 'is_Apr', 'is_May', 'is_Jun', 'is_Jul', 'is_Aug', 'is_Sep', 'is_Oct', 'is_Nov', 'is_Dec'\n",
    "                         #, 'nd_lottery'\n",
    "                         , 'ismarketday', 'isschoolday', 'holiday'\n",
    "                    ]]\n",
    "predictions = model.predict(X_test)\n",
    "\n",
    "# Print the predictions\n",
    "print(\"\\nPredictions:\")\n",
    "predictions"
   ]
  },
  {
   "cell_type": "markdown",
   "metadata": {
    "id": "iW9e1g6O8p3-"
   },
   "source": [
    "#Evaluate"
   ]
  },
  {
   "cell_type": "code",
   "execution_count": null,
   "metadata": {
    "colab": {
     "base_uri": "https://localhost:8080/"
    },
    "executionInfo": {
     "elapsed": 5,
     "status": "ok",
     "timestamp": 1750673150041,
     "user": {
      "displayName": "Thanan Kangsawiwat",
      "userId": "06026257672126219511"
     },
     "user_tz": -420
    },
    "id": "_JRwKGKzOBeD",
    "outputId": "01b77c57-d510-40e0-f4a5-85dfc1bcc91a"
   },
   "outputs": [],
   "source": [
    "# Calculating MSE\n",
    "mse = mean_squared_error(test_data['sales_sum'], predictions)\n",
    "print(f\"\\nMean Squared Error (MSE): {mse}\")\n",
    "\n",
    "# Calculating RMSE\n",
    "rmse = np.sqrt(mse)\n",
    "print(f\"Root Mean Squared Error (RMSE): {rmse}\")"
   ]
  },
  {
   "cell_type": "code",
   "execution_count": null,
   "metadata": {
    "colab": {
     "base_uri": "https://localhost:8080/"
    },
    "executionInfo": {
     "elapsed": 5,
     "status": "ok",
     "timestamp": 1750673150047,
     "user": {
      "displayName": "Thanan Kangsawiwat",
      "userId": "06026257672126219511"
     },
     "user_tz": -420
    },
    "id": "5LkneR_rH3wA",
    "outputId": "793d9066-aecd-488e-a1b9-2257e7396686"
   },
   "outputs": [],
   "source": [
    "# prompt: mae\n",
    "\n",
    "# Calculating MAE\n",
    "mae = mean_absolute_error(test_data['sales_sum'], predictions)\n",
    "print(f\"Mean Absolute Error (MAE): {mae}\")"
   ]
  }
 ],
 "metadata": {
  "colab": {
   "authorship_tag": "ABX9TyME/GxckuXbAs5Wgfz2xBeK",
   "provenance": []
  },
  "kernelspec": {
   "display_name": "Python 3",
   "name": "python3"
  },
  "language_info": {
   "name": "python"
  }
 },
 "nbformat": 4,
 "nbformat_minor": 0
}
