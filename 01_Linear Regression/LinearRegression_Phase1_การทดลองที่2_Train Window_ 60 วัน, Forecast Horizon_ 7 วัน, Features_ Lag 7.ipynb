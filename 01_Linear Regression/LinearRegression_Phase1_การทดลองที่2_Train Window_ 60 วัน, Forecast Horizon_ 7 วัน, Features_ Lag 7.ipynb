{
 "cells": [
  {
   "cell_type": "markdown",
   "metadata": {
    "id": "SUo5r1oAEgaP"
   },
   "source": [
    "LinearRegression_Phase1_การทดลองที่2_Train Window: 60 วัน, Forecast Horizon: 7 วัน, Features: Lag 7"
   ]
  },
  {
   "cell_type": "markdown",
   "metadata": {
    "id": "WG7yKZBHyDmT"
   },
   "source": [
    "#Import"
   ]
  },
  {
   "cell_type": "code",
   "execution_count": null,
   "metadata": {
    "executionInfo": {
     "elapsed": 6065,
     "status": "ok",
     "timestamp": 1750664311355,
     "user": {
      "displayName": "Thanan Kangsawiwat",
      "userId": "06026257672126219511"
     },
     "user_tz": -420
    },
    "id": "w4fXZv6SybvV"
   },
   "outputs": [],
   "source": [
    "import pandas as pd\n",
    "import numpy as np\n",
    "import matplotlib.pyplot as plt\n",
    "import seaborn as sns\n",
    "from sklearn.linear_model import LinearRegression\n",
    "from sklearn.linear_model import Ridge\n",
    "from sklearn.metrics import mean_squared_error, mean_absolute_error"
   ]
  },
  {
   "cell_type": "code",
   "execution_count": null,
   "metadata": {
    "colab": {
     "base_uri": "https://localhost:8080/"
    },
    "executionInfo": {
     "elapsed": 21458,
     "status": "ok",
     "timestamp": 1750664332816,
     "user": {
      "displayName": "Thanan Kangsawiwat",
      "userId": "06026257672126219511"
     },
     "user_tz": -420
    },
    "id": "p7m06yUByK2o",
    "outputId": "d718510e-a6ab-4052-fb07-390466416f9b"
   },
   "outputs": [],
   "source": [
    "from google.colab import drive\n",
    "drive.mount('/content/drive')"
   ]
  },
  {
   "cell_type": "code",
   "execution_count": null,
   "metadata": {
    "colab": {
     "base_uri": "https://localhost:8080/",
     "height": 236
    },
    "executionInfo": {
     "elapsed": 3061,
     "status": "ok",
     "timestamp": 1750664335885,
     "user": {
      "displayName": "Thanan Kangsawiwat",
      "userId": "06026257672126219511"
     },
     "user_tz": -420
    },
    "id": "he9FJRO4E0Uc",
    "outputId": "e5622a05-00c1-4374-feac-a4dd55799c54"
   },
   "outputs": [],
   "source": [
    "df = pd.read_csv(\"/content/drive/MyDrive/swuds/t5_thesis/98_progress/dataset/nd_sales_LinearRegression_base.csv\")\n",
    "df.head()"
   ]
  },
  {
   "cell_type": "markdown",
   "metadata": {
    "id": "JfNAVZ-kFA2Y"
   },
   "source": [
    "#Preprocess"
   ]
  },
  {
   "cell_type": "code",
   "execution_count": null,
   "metadata": {
    "colab": {
     "base_uri": "https://localhost:8080/",
     "height": 267
    },
    "executionInfo": {
     "elapsed": 33,
     "status": "ok",
     "timestamp": 1750664335919,
     "user": {
      "displayName": "Thanan Kangsawiwat",
      "userId": "06026257672126219511"
     },
     "user_tz": -420
    },
    "id": "e-teck1GFfX0",
    "outputId": "dfef59d6-2184-4ce6-824d-40d0df442e8d"
   },
   "outputs": [],
   "source": [
    "df['date'] = pd.to_datetime(df['date'])\n",
    "df = df.set_index('date')\n",
    "df.head()"
   ]
  },
  {
   "cell_type": "markdown",
   "metadata": {
    "id": "ccbV29hUFxzn"
   },
   "source": [
    "ในการทดลอง Phase1 จะใช้แค่ 'sales_sum', 'time_index', 'lag_7' เท่านั้น"
   ]
  },
  {
   "cell_type": "code",
   "execution_count": null,
   "metadata": {
    "colab": {
     "base_uri": "https://localhost:8080/",
     "height": 238
    },
    "executionInfo": {
     "elapsed": 83,
     "status": "ok",
     "timestamp": 1750664336003,
     "user": {
      "displayName": "Thanan Kangsawiwat",
      "userId": "06026257672126219511"
     },
     "user_tz": -420
    },
    "id": "rPWRghUVDZiJ",
    "outputId": "a3466b04-db5b-4eb0-99ad-f9383bb10939"
   },
   "outputs": [],
   "source": [
    "df['lag_1'] = df['sales_sum'].shift(1)\n",
    "df['lag_2'] = df['sales_sum'].shift(2)\n",
    "df['lag_3'] = df['sales_sum'].shift(3)\n",
    "df['lag_4'] = df['sales_sum'].shift(4)\n",
    "df['lag_5'] = df['sales_sum'].shift(5)\n",
    "df['lag_6'] = df['sales_sum'].shift(6)\n",
    "df['lag_7'] = df['sales_sum'].shift(7)\n",
    "df = df.reindex(columns=['sales_sum', 'time_index', 'lag_1', 'lag_2', 'lag_3', 'lag_4', 'lag_5', 'lag_6', 'lag_7'])\n",
    "\n",
    "df.head()"
   ]
  },
  {
   "cell_type": "code",
   "execution_count": null,
   "metadata": {
    "colab": {
     "base_uri": "https://localhost:8080/",
     "height": 238
    },
    "executionInfo": {
     "elapsed": 77,
     "status": "ok",
     "timestamp": 1750664336081,
     "user": {
      "displayName": "Thanan Kangsawiwat",
      "userId": "06026257672126219511"
     },
     "user_tz": -420
    },
    "id": "qUr4Y0OvMjPN",
    "outputId": "28e43556-47c7-453c-8856-839c53fb3259"
   },
   "outputs": [],
   "source": [
    "# prompt: drop row that have missing value\n",
    "\n",
    "df.dropna(inplace=True)\n",
    "df.head()"
   ]
  },
  {
   "cell_type": "markdown",
   "metadata": {
    "id": "S8RjvOnOHR6v"
   },
   "source": [
    "การทดลองที่ 1: Train Window: 30 วัน, Forecast Horizon: 7 วัน, Features: Lag 7"
   ]
  },
  {
   "cell_type": "code",
   "execution_count": null,
   "metadata": {
    "colab": {
     "base_uri": "https://localhost:8080/",
     "height": 455
    },
    "executionInfo": {
     "elapsed": 132,
     "status": "ok",
     "timestamp": 1750664336215,
     "user": {
      "displayName": "Thanan Kangsawiwat",
      "userId": "06026257672126219511"
     },
     "user_tz": -420
    },
    "id": "gbtI0M8cHXgy",
    "outputId": "c5a29518-86ac-441d-81bc-81fba7728245"
   },
   "outputs": [],
   "source": [
    "df_last_67 = df.tail(67)\n",
    "df_last_67"
   ]
  },
  {
   "cell_type": "code",
   "execution_count": null,
   "metadata": {
    "colab": {
     "base_uri": "https://localhost:8080/",
     "height": 1000
    },
    "executionInfo": {
     "elapsed": 208,
     "status": "ok",
     "timestamp": 1750664336424,
     "user": {
      "displayName": "Thanan Kangsawiwat",
      "userId": "06026257672126219511"
     },
     "user_tz": -420
    },
    "id": "Mf6l6Tu-Huz2",
    "outputId": "510b8555-fa70-4376-b3ef-6f76d941cba6"
   },
   "outputs": [],
   "source": [
    "# prompt: แบ่ง test_data = 7 row ท้ายสุด,  train_data = row ทั้งหมดที่เหลือ\n",
    "\n",
    "test_data = df_last_67.tail(7)\n",
    "train_data = df_last_67=df_last_67.head(60)\n",
    "\n",
    "print(\"Test Data:\")\n",
    "print(test_data)\n",
    "\n",
    "print(\"\\nTrain Data:\")\n",
    "train_data"
   ]
  },
  {
   "cell_type": "code",
   "execution_count": null,
   "metadata": {
    "executionInfo": {
     "elapsed": 3,
     "status": "ok",
     "timestamp": 1750664336424,
     "user": {
      "displayName": "Thanan Kangsawiwat",
      "userId": "06026257672126219511"
     },
     "user_tz": -420
    },
    "id": "C82TCcBSK9gh"
   },
   "outputs": [],
   "source": [
    "X = train_data[['lag_1', 'lag_2', 'lag_3', 'lag_4', 'lag_5', 'lag_6', 'lag_7']]\n",
    "y = train_data['sales_sum']"
   ]
  },
  {
   "cell_type": "markdown",
   "metadata": {
    "id": "FwxwghRm8RLV"
   },
   "source": [
    "#Train Model"
   ]
  },
  {
   "cell_type": "code",
   "execution_count": null,
   "metadata": {
    "colab": {
     "base_uri": "https://localhost:8080/",
     "height": 80
    },
    "executionInfo": {
     "elapsed": 109,
     "status": "ok",
     "timestamp": 1750664336532,
     "user": {
      "displayName": "Thanan Kangsawiwat",
      "userId": "06026257672126219511"
     },
     "user_tz": -420
    },
    "id": "UqoPtdX6M4yY",
    "outputId": "4062f6df-1dd2-4bf9-fd5b-2d0299fa6d5e"
   },
   "outputs": [],
   "source": [
    "# Initializing the linear regression model\n",
    "model = LinearRegression()\n",
    "\n",
    "# Training the model on the training data available\n",
    "model.fit(X, y)"
   ]
  },
  {
   "cell_type": "code",
   "execution_count": null,
   "metadata": {
    "colab": {
     "base_uri": "https://localhost:8080/"
    },
    "executionInfo": {
     "elapsed": 12,
     "status": "ok",
     "timestamp": 1750664336533,
     "user": {
      "displayName": "Thanan Kangsawiwat",
      "userId": "06026257672126219511"
     },
     "user_tz": -420
    },
    "id": "xYZmDwY4NmB9",
    "outputId": "0e17fa48-9530-4e48-a051-fd34deaaf430"
   },
   "outputs": [],
   "source": [
    "X_test = test_data[['lag_1', 'lag_2', 'lag_3', 'lag_4', 'lag_5', 'lag_6', 'lag_7']]\n",
    "predictions = model.predict(X_test)\n",
    "\n",
    "# Print the predictions\n",
    "print(\"\\nPredictions:\")\n",
    "predictions"
   ]
  },
  {
   "cell_type": "markdown",
   "metadata": {
    "id": "KA3xtwhi8geP"
   },
   "source": [
    "#Evaluate"
   ]
  },
  {
   "cell_type": "code",
   "execution_count": null,
   "metadata": {
    "colab": {
     "base_uri": "https://localhost:8080/"
    },
    "executionInfo": {
     "elapsed": 5,
     "status": "ok",
     "timestamp": 1750664336533,
     "user": {
      "displayName": "Thanan Kangsawiwat",
      "userId": "06026257672126219511"
     },
     "user_tz": -420
    },
    "id": "_JRwKGKzOBeD",
    "outputId": "c474b731-094a-411c-a379-ec659271f75b"
   },
   "outputs": [],
   "source": [
    "# Calculating MSE\n",
    "mse = mean_squared_error(test_data['sales_sum'], predictions)\n",
    "print(f\"\\nMean Squared Error (MSE): {mse}\")\n",
    "\n",
    "# Calculating RMSE\n",
    "rmse = np.sqrt(mse)\n",
    "print(f\"Root Mean Squared Error (RMSE): {rmse}\")"
   ]
  },
  {
   "cell_type": "code",
   "execution_count": null,
   "metadata": {
    "colab": {
     "base_uri": "https://localhost:8080/"
    },
    "executionInfo": {
     "elapsed": 15,
     "status": "ok",
     "timestamp": 1750664348268,
     "user": {
      "displayName": "Thanan Kangsawiwat",
      "userId": "06026257672126219511"
     },
     "user_tz": -420
    },
    "id": "uYJkeo89uU5-",
    "outputId": "2fb2ebad-5608-43cd-9bfd-d09fe5efae3f"
   },
   "outputs": [],
   "source": [
    "# prompt: แสดงการวัดผลด้วย MAE และ RMSE\n",
    "\n",
    "# Calculating MAE\n",
    "mae = mean_absolute_error(test_data['sales_sum'], predictions)\n",
    "print(f\"Mean Absolute Error (MAE): {mae}\")"
   ]
  },
  {
   "cell_type": "code",
   "execution_count": null,
   "metadata": {
    "id": "eL-ll172ugFE"
   },
   "outputs": [],
   "source": []
  }
 ],
 "metadata": {
  "colab": {
   "authorship_tag": "ABX9TyOED9QQTW58vXz1OCpwluws",
   "provenance": []
  },
  "kernelspec": {
   "display_name": "Python 3",
   "name": "python3"
  },
  "language_info": {
   "name": "python"
  }
 },
 "nbformat": 4,
 "nbformat_minor": 0
}
