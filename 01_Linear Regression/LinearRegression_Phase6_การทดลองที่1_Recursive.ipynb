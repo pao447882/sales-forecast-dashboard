{
 "cells": [
  {
   "cell_type": "markdown",
   "metadata": {
    "id": "SUo5r1oAEgaP"
   },
   "source": [
    "LinearRegression_Phase6_การทดลองที่1_Recursive  \n",
    "ref : https://towardsdatascience.com/6-methods-for-multi-step-forecasting-823cbde4127a/"
   ]
  },
  {
   "cell_type": "markdown",
   "metadata": {
    "id": "WG7yKZBHyDmT"
   },
   "source": [
    "#Import"
   ]
  },
  {
   "cell_type": "code",
   "execution_count": null,
   "metadata": {
    "executionInfo": {
     "elapsed": 3837,
     "status": "ok",
     "timestamp": 1753543680604,
     "user": {
      "displayName": "Thanan Kangsawiwat",
      "userId": "06026257672126219511"
     },
     "user_tz": -420
    },
    "id": "w4fXZv6SybvV"
   },
   "outputs": [],
   "source": [
    "import pandas as pd\n",
    "import numpy as np\n",
    "import matplotlib.pyplot as plt\n",
    "import seaborn as sns\n",
    "from sklearn.linear_model import LinearRegression\n",
    "from sklearn.linear_model import Ridge\n",
    "from sklearn.metrics import mean_squared_error, mean_absolute_error"
   ]
  },
  {
   "cell_type": "code",
   "execution_count": null,
   "metadata": {
    "colab": {
     "base_uri": "https://localhost:8080/"
    },
    "executionInfo": {
     "elapsed": 22142,
     "status": "ok",
     "timestamp": 1753543702743,
     "user": {
      "displayName": "Thanan Kangsawiwat",
      "userId": "06026257672126219511"
     },
     "user_tz": -420
    },
    "id": "p7m06yUByK2o",
    "outputId": "d37c9b0d-7b26-4cfe-d1e6-49634008955c"
   },
   "outputs": [],
   "source": [
    "from google.colab import drive\n",
    "drive.mount('/content/drive')"
   ]
  },
  {
   "cell_type": "code",
   "execution_count": null,
   "metadata": {
    "colab": {
     "base_uri": "https://localhost:8080/",
     "height": 342
    },
    "executionInfo": {
     "elapsed": 3183,
     "status": "ok",
     "timestamp": 1753543705927,
     "user": {
      "displayName": "Thanan Kangsawiwat",
      "userId": "06026257672126219511"
     },
     "user_tz": -420
    },
    "id": "he9FJRO4E0Uc",
    "outputId": "81b78cb6-3a6b-4ec6-d605-49cf3e30e4e5"
   },
   "outputs": [],
   "source": [
    "df = pd.read_csv(\"/content/drive/MyDrive/swuds/t5_thesis/98_progress/dataset/nd_sales_LinearRegression_base.csv\")\n",
    "df.head()"
   ]
  },
  {
   "cell_type": "code",
   "execution_count": null,
   "metadata": {
    "colab": {
     "base_uri": "https://localhost:8080/"
    },
    "executionInfo": {
     "elapsed": 14,
     "status": "ok",
     "timestamp": 1753543705927,
     "user": {
      "displayName": "Thanan Kangsawiwat",
      "userId": "06026257672126219511"
     },
     "user_tz": -420
    },
    "id": "esTEowkbKzZD",
    "outputId": "2cff1eb0-0640-4c34-f3c8-3dec9034527b"
   },
   "outputs": [],
   "source": [
    "df.columns"
   ]
  },
  {
   "cell_type": "markdown",
   "metadata": {
    "id": "JfNAVZ-kFA2Y"
   },
   "source": [
    "#Preprocess"
   ]
  },
  {
   "cell_type": "code",
   "execution_count": null,
   "metadata": {
    "colab": {
     "base_uri": "https://localhost:8080/",
     "height": 373
    },
    "executionInfo": {
     "elapsed": 102,
     "status": "ok",
     "timestamp": 1753543706028,
     "user": {
      "displayName": "Thanan Kangsawiwat",
      "userId": "06026257672126219511"
     },
     "user_tz": -420
    },
    "id": "e-teck1GFfX0",
    "outputId": "bed7a902-03d1-4f7d-ed87-93e5f4be60ce"
   },
   "outputs": [],
   "source": [
    "df['date'] = pd.to_datetime(df['date'])\n",
    "df = df.set_index('date')\n",
    "df.head()"
   ]
  },
  {
   "cell_type": "code",
   "execution_count": null,
   "metadata": {
    "colab": {
     "base_uri": "https://localhost:8080/",
     "height": 373
    },
    "executionInfo": {
     "elapsed": 71,
     "status": "ok",
     "timestamp": 1753543706105,
     "user": {
      "displayName": "Thanan Kangsawiwat",
      "userId": "06026257672126219511"
     },
     "user_tz": -420
    },
    "id": "VKcKZW0iop22",
    "outputId": "3335d871-d9cc-491f-b7f9-e982c55a9bfc"
   },
   "outputs": [],
   "source": [
    "df['is_weekend'] = (df.index.dayofweek == 6).astype(int)\n",
    "df.head()"
   ]
  },
  {
   "cell_type": "markdown",
   "metadata": {
    "id": "SpcEwnRZqRJ5"
   },
   "source": [
    "ตัวแปรที่ไม่ได้มีความหมายเชิงลำดับเช่น dayofweek, month  \n",
    "เพราะตัวแปรเหล่านี้เป็นข้อมูลเชิงกลุ่ม (Categorical) ไม่ใช่เชิงลำดับ (Ordinal) หากเราใส่เป็นตัวเลข 1-12 เข้าไปตรงๆ โมเดลจะเข้าใจผิดว่า \"เดือนธันวาคม (12)\" มีค่ามากกว่า \"เดือนมกราคม (1)\" ถึง 12 เท่า ซึ่งไม่เป็นความจริง การทำ One-Hot Encoding จะสร้างคอลัมน์ใหม่เป็น is_Jan, is_Feb,... เพื่อแก้ปัญหานี้"
   ]
  },
  {
   "cell_type": "code",
   "execution_count": null,
   "metadata": {
    "colab": {
     "base_uri": "https://localhost:8080/",
     "height": 276
    },
    "executionInfo": {
     "elapsed": 46,
     "status": "ok",
     "timestamp": 1753543706152,
     "user": {
      "displayName": "Thanan Kangsawiwat",
      "userId": "06026257672126219511"
     },
     "user_tz": -420
    },
    "id": "AH4AthNCSeoj",
    "outputId": "eb6eb500-fba7-4251-c7aa-7593e9d1fc2f"
   },
   "outputs": [],
   "source": [
    "df['is_Sun'] = (df.index.dayofweek == 6).astype(int)\n",
    "df['is_Mon'] = (df.index.dayofweek == 0).astype(int)\n",
    "df['is_Tue'] = (df.index.dayofweek == 1).astype(int)\n",
    "df['is_Wed'] = (df.index.dayofweek == 2).astype(int)\n",
    "df['is_Thu'] = (df.index.dayofweek == 3).astype(int)\n",
    "df['is_Fri'] = (df.index.dayofweek == 4).astype(int)\n",
    "df.head(3)"
   ]
  },
  {
   "cell_type": "code",
   "execution_count": null,
   "metadata": {
    "colab": {
     "base_uri": "https://localhost:8080/",
     "height": 276
    },
    "executionInfo": {
     "elapsed": 45,
     "status": "ok",
     "timestamp": 1753543706199,
     "user": {
      "displayName": "Thanan Kangsawiwat",
      "userId": "06026257672126219511"
     },
     "user_tz": -420
    },
    "id": "ceXn0N_bTdc0",
    "outputId": "130f29ff-c150-49e4-915e-1924fe71455e"
   },
   "outputs": [],
   "source": [
    "df['is_Jan'] = (df.index.month == 1).astype(int)\n",
    "df['is_Feb'] = (df.index.month == 2).astype(int)\n",
    "df['is_Mar'] = (df.index.month == 3).astype(int)\n",
    "df['is_Apr'] = (df.index.month == 4).astype(int)\n",
    "df['is_May'] = (df.index.month == 5).astype(int)\n",
    "df['is_Jun'] = (df.index.month == 6).astype(int)\n",
    "df['is_Jul'] = (df.index.month == 7).astype(int)\n",
    "df['is_Aug'] = (df.index.month == 8).astype(int)\n",
    "df['is_Sep'] = (df.index.month == 9).astype(int)\n",
    "df['is_Oct'] = (df.index.month == 10).astype(int)\n",
    "df['is_Nov'] = (df.index.month == 11).astype(int)\n",
    "df['is_Dec'] = (df.index.month == 12).astype(int)\n",
    "df.head(3)"
   ]
  },
  {
   "cell_type": "code",
   "execution_count": null,
   "metadata": {
    "colab": {
     "base_uri": "https://localhost:8080/",
     "height": 237
    },
    "executionInfo": {
     "elapsed": 39,
     "status": "ok",
     "timestamp": 1753543706239,
     "user": {
      "displayName": "Thanan Kangsawiwat",
      "userId": "06026257672126219511"
     },
     "user_tz": -420
    },
    "id": "rPWRghUVDZiJ",
    "outputId": "36d1f5d9-65d7-4741-dbcb-18eceadfdb56"
   },
   "outputs": [],
   "source": [
    "df['lag_1'] = df['sales_sum'].shift(1)\n",
    "df['lag_2'] = df['sales_sum'].shift(2)\n",
    "df['lag_3'] = df['sales_sum'].shift(3)\n",
    "df['lag_4'] = df['sales_sum'].shift(4)\n",
    "df['lag_5'] = df['sales_sum'].shift(5)\n",
    "df['lag_6'] = df['sales_sum'].shift(6)\n",
    "df['lag_7'] = df['sales_sum'].shift(7)\n",
    "df = df.reindex(columns=['sales_sum', 'lag_1', 'lag_2', 'lag_3', 'lag_4', 'lag_5', 'lag_6', 'lag_7'\n",
    "                         , 'year', 'time_index'\n",
    "                         #, 'is_Jan', 'is_Feb', 'is_Mar', 'is_Apr', 'is_May', 'is_Jun', 'is_Jul', 'is_Aug', 'is_Sep', 'is_Oct', 'is_Nov', 'is_Dec'\n",
    "                         #, 'ismarketday', 'isschoolday', 'holiday'\n",
    "                         ])\n",
    "\n",
    "df.head()"
   ]
  },
  {
   "cell_type": "code",
   "execution_count": null,
   "metadata": {
    "colab": {
     "base_uri": "https://localhost:8080/",
     "height": 237
    },
    "executionInfo": {
     "elapsed": 37,
     "status": "ok",
     "timestamp": 1753543706277,
     "user": {
      "displayName": "Thanan Kangsawiwat",
      "userId": "06026257672126219511"
     },
     "user_tz": -420
    },
    "id": "qUr4Y0OvMjPN",
    "outputId": "8aabfea2-b463-4a9b-a895-882123335f3f"
   },
   "outputs": [],
   "source": [
    "# prompt: drop row that have missing value\n",
    "\n",
    "df.dropna(inplace=True)\n",
    "df.head()"
   ]
  },
  {
   "cell_type": "code",
   "execution_count": null,
   "metadata": {
    "colab": {
     "base_uri": "https://localhost:8080/"
    },
    "executionInfo": {
     "elapsed": 7,
     "status": "ok",
     "timestamp": 1753543706285,
     "user": {
      "displayName": "Thanan Kangsawiwat",
      "userId": "06026257672126219511"
     },
     "user_tz": -420
    },
    "id": "Mf6l6Tu-Huz2",
    "outputId": "0c549020-2761-4032-e57c-56d1d6c7f43e"
   },
   "outputs": [],
   "source": [
    "df_for_split = df.copy()\n",
    "train_data = df_for_split.head(120)\n",
    "test_data = df_for_split.tail(7)\n",
    "print(f\"Training data shape: {train_data.shape}\")\n",
    "print(f\"Test data shape: {test_data.shape}\")"
   ]
  },
  {
   "cell_type": "code",
   "execution_count": null,
   "metadata": {
    "executionInfo": {
     "elapsed": 5,
     "status": "ok",
     "timestamp": 1753543706291,
     "user": {
      "displayName": "Thanan Kangsawiwat",
      "userId": "06026257672126219511"
     },
     "user_tz": -420
    },
    "id": "C82TCcBSK9gh"
   },
   "outputs": [],
   "source": [
    "features_recursive = [\n",
    "        'lag_1', 'lag_2', 'lag_3', 'lag_4', 'lag_5', 'lag_6', 'lag_7',\n",
    "        'year', 'time_index'\n",
    "        #, 'is_Jan', 'is_Feb', 'is_Mar', 'is_Apr', 'is_May', 'is_Jun', 'is_Jul', 'is_Aug', 'is_Sep', 'is_Oct', 'is_Nov', 'is_Dec'\n",
    "        #, 'ismarketday', 'isschoolday', 'holiday'\n",
    "    ]\n",
    "\n",
    "target = 'sales_sum'\n",
    "\n",
    "X_train = train_data[features_recursive]\n",
    "y_train = train_data[target]"
   ]
  },
  {
   "cell_type": "markdown",
   "metadata": {
    "id": "FwxwghRm8RLV"
   },
   "source": [
    "#Train Model"
   ]
  },
  {
   "cell_type": "code",
   "execution_count": null,
   "metadata": {
    "colab": {
     "base_uri": "https://localhost:8080/"
    },
    "executionInfo": {
     "elapsed": 6,
     "status": "ok",
     "timestamp": 1753543706293,
     "user": {
      "displayName": "Thanan Kangsawiwat",
      "userId": "06026257672126219511"
     },
     "user_tz": -420
    },
    "id": "UqoPtdX6M4yY",
    "outputId": "155bb9e4-80fe-4810-fb8c-3d8417acfa42"
   },
   "outputs": [],
   "source": [
    "model_recursive = LinearRegression()\n",
    "model_recursive.fit(X_train, y_train)\n",
    "print(\"\\nRecursive model trained successfully.\")\n",
    "print(\"-\" * 50)"
   ]
  },
  {
   "cell_type": "code",
   "execution_count": null,
   "metadata": {
    "executionInfo": {
     "elapsed": 8,
     "status": "ok",
     "timestamp": 1753543706301,
     "user": {
      "displayName": "Thanan Kangsawiwat",
      "userId": "06026257672126219511"
     },
     "user_tz": -420
    },
    "id": "LfY3OT-Gx_4d"
   },
   "outputs": [],
   "source": [
    "#ทำนายแบบ Recursive 7 ขั้นตอน ---\n",
    "last_known_lags = train_data[['lag_1', 'lag_2', 'lag_3', 'lag_4', 'lag_5', 'lag_6', 'lag_7']].tail(1).values.flatten()\n",
    "\n",
    "future_dates = pd.date_range(start=test_data.index[0], periods=7, freq='D')\n",
    "future_df = pd.DataFrame(index=future_dates)\n",
    "future_df['year'] = future_df.index.year\n",
    "future_df['time_index'] = range(train_data['time_index'].max() + 1, train_data['time_index'].max() + 1 + 7)\n",
    "months = ['Jan', 'Feb', 'Mar', 'Apr', 'May', 'Jun', 'Jul', 'Aug', 'Sep', 'Oct', 'Nov', 'Dec']\n",
    "\n",
    "#for i, month_name in enumerate(months):\n",
    " #   future_df[f'is_{month_name}'] = (future_df.index.month == i + 1).astype(int)"
   ]
  },
  {
   "cell_type": "code",
   "execution_count": null,
   "metadata": {
    "colab": {
     "base_uri": "https://localhost:8080/",
     "height": 286
    },
    "executionInfo": {
     "elapsed": 32,
     "status": "ok",
     "timestamp": 1753543706334,
     "user": {
      "displayName": "Thanan Kangsawiwat",
      "userId": "06026257672126219511"
     },
     "user_tz": -420
    },
    "id": "ULy3jfSB0fTX",
    "outputId": "f4ae9b23-d95c-4219-d65e-c5a178072960"
   },
   "outputs": [],
   "source": [
    "print(future_df.shape)\n",
    "future_df"
   ]
  },
  {
   "cell_type": "code",
   "execution_count": null,
   "metadata": {
    "colab": {
     "base_uri": "https://localhost:8080/",
     "height": 286
    },
    "executionInfo": {
     "elapsed": 46,
     "status": "ok",
     "timestamp": 1753543706378,
     "user": {
      "displayName": "Thanan Kangsawiwat",
      "userId": "06026257672126219511"
     },
     "user_tz": -420
    },
    "id": "3Jd7Yy8eVoUG",
    "outputId": "ee50e679-2ea2-499e-916f-6b84a1648393"
   },
   "outputs": [],
   "source": [
    "# prompt: เพิ่ม columns ใน future_df ที่วันที่ตรงกันของ ismarketday, isschoolday, holiday\n",
    "\n",
    "# สร้าง DataFrame สำหรับ ismarketday, isschoolday, holiday จาก df ต้นฉบับ\n",
    "# โดยใช้เฉพาะวันที่ที่อยู่ใน future_df index\n",
    "#additional_features_df = df[['ismarketday', 'isschoolday', 'holiday']].reindex(future_df.index)\n",
    "\n",
    "# รวม columns เหล่านี้เข้ากับ future_df\n",
    "#future_df['ismarketday'] = additional_features_df['ismarketday']\n",
    "#future_df['isschoolday'] = additional_features_df['isschoolday']\n",
    "#future_df['holiday'] = additional_features_df['holiday']\n",
    "\n",
    "print(future_df.shape)\n",
    "future_df"
   ]
  },
  {
   "cell_type": "code",
   "execution_count": null,
   "metadata": {
    "colab": {
     "base_uri": "https://localhost:8080/",
     "height": 286
    },
    "executionInfo": {
     "elapsed": 12,
     "status": "ok",
     "timestamp": 1753543706379,
     "user": {
      "displayName": "Thanan Kangsawiwat",
      "userId": "06026257672126219511"
     },
     "user_tz": -420
    },
    "id": "Y0-TKeg7WOku",
    "outputId": "0b53e6bc-db98-4b80-b023-53098935fa1d"
   },
   "outputs": [],
   "source": [
    "future_df = future_df.fillna(0)\n",
    "print(future_df.shape)\n",
    "future_df"
   ]
  },
  {
   "cell_type": "code",
   "execution_count": null,
   "metadata": {
    "colab": {
     "base_uri": "https://localhost:8080/"
    },
    "executionInfo": {
     "elapsed": 14,
     "status": "ok",
     "timestamp": 1753543706391,
     "user": {
      "displayName": "Thanan Kangsawiwat",
      "userId": "06026257672126219511"
     },
     "user_tz": -420
    },
    "id": "bFM0IsGYyP3n",
    "outputId": "fed69c09-09b2-4395-e6e5-b4557565f4a3"
   },
   "outputs": [],
   "source": [
    "predictions_recursive = []\n",
    "current_lags = last_known_lags.copy()\n",
    "\n",
    "print(\"Starting 7-step recursive forecast...\")\n",
    "for i in range(7):\n",
    "    calendar_features = future_df.iloc[i][['year', 'time_index']]\n",
    "\n",
    "    input_vector = np.concatenate([current_lags, calendar_features.values]).reshape(1, -1)\n",
    "\n",
    "    prediction = model_recursive.predict(input_vector)[0]\n",
    "    predictions_recursive.append(prediction)\n",
    "\n",
    "    current_lags = np.roll(current_lags, -1)\n",
    "    current_lags[-1] = prediction\n",
    "    print(f\"Step {i+1}/7 predicted: {prediction:.2f}\")\n",
    "\n",
    "    print(\"\\nRecursive forecasting completed.\")"
   ]
  },
  {
   "cell_type": "markdown",
   "metadata": {
    "id": "iW9e1g6O8p3-"
   },
   "source": [
    "#Evaluate"
   ]
  },
  {
   "cell_type": "code",
   "execution_count": null,
   "metadata": {
    "colab": {
     "base_uri": "https://localhost:8080/",
     "height": 695
    },
    "executionInfo": {
     "elapsed": 228,
     "status": "ok",
     "timestamp": 1753543706618,
     "user": {
      "displayName": "Thanan Kangsawiwat",
      "userId": "06026257672126219511"
     },
     "user_tz": -420
    },
    "id": "_iJyaK6QyhsS",
    "outputId": "6a3d8b2f-5b39-43aa-cbf4-123fc466b65b"
   },
   "outputs": [],
   "source": [
    "# ประเมินผลและแสดงกราฟ ---\n",
    "actual_values = test_data[target].values\n",
    "rmse_recursive = np.sqrt(mean_squared_error(actual_values, predictions_recursive))\n",
    "mae_recursive = mean_absolute_error(actual_values, predictions_recursive)\n",
    "\n",
    "print(f\"\\nRMSE of Recursive Forecast: {rmse_recursive:.2f}\")\n",
    "print(f\"MAE of Recursive Forecast: {mae_recursive:.2f}\")\n",
    "\n",
    "plt.figure(figsize=(12, 7))\n",
    "plt.plot(test_data.index, actual_values, 'o-', label='Actual Sales', color='blue')\n",
    "plt.plot(test_data.index, predictions_recursive, 'x-', label='Recursive Forecast', color='red')\n",
    "plt.title('7-Day Recursive Forecast vs Actual Sales', fontsize=16)\n",
    "plt.xlabel('Date')\n",
    "plt.ylabel('Sales Sum')\n",
    "plt.legend()\n",
    "plt.grid(True)\n",
    "plt.show()"
   ]
  },
  {
   "cell_type": "code",
   "execution_count": null,
   "metadata": {
    "colab": {
     "base_uri": "https://localhost:8080/"
    },
    "executionInfo": {
     "elapsed": 5,
     "status": "ok",
     "timestamp": 1753543706623,
     "user": {
      "displayName": "Thanan Kangsawiwat",
      "userId": "06026257672126219511"
     },
     "user_tz": -420
    },
    "id": "lhq8fMayNbgH",
    "outputId": "bd8f9cc3-682a-46c2-c48d-c155aa65f0e4"
   },
   "outputs": [],
   "source": [
    "# prompt: mae\n",
    "\n",
    "mae_recursive"
   ]
  },
  {
   "cell_type": "code",
   "execution_count": null,
   "metadata": {
    "colab": {
     "base_uri": "https://localhost:8080/"
    },
    "executionInfo": {
     "elapsed": 47,
     "status": "ok",
     "timestamp": 1753543765359,
     "user": {
      "displayName": "Thanan Kangsawiwat",
      "userId": "06026257672126219511"
     },
     "user_tz": -420
    },
    "id": "WXTyWV57WZVp",
    "outputId": "a951569d-6342-482e-a6c2-c4d2bd858ab8"
   },
   "outputs": [],
   "source": [
    "import pickle\n",
    "\n",
    "# Save the trained model\n",
    "filename = 'Linear_Regression_model.pkl'\n",
    "pickle.dump(model_recursive, open(filename, 'wb'))\n",
    "print(f\"Model saved as {filename}\")"
   ]
  },
  {
   "cell_type": "code",
   "execution_count": null,
   "metadata": {
    "colab": {
     "base_uri": "https://localhost:8080/",
     "height": 768
    },
    "executionInfo": {
     "elapsed": 58,
     "status": "ok",
     "timestamp": 1753543963374,
     "user": {
      "displayName": "Thanan Kangsawiwat",
      "userId": "06026257672126219511"
     },
     "user_tz": -420
    },
    "id": "C5ffsQuSWwE2",
    "outputId": "f8eea183-8284-470b-e710-be3c8390e054"
   },
   "outputs": [],
   "source": [
    "# Load the saved model\n",
    "loaded_model = pickle.load(open('Linear_Regression_model.pkl', 'rb'))\n",
    "print(\"Model loaded successfully.\")\n",
    "\n",
    "# Get the last 7 lags from the original dataframe for prediction\n",
    "last_7_lags = df[['lag_1', 'lag_2', 'lag_3', 'lag_4', 'lag_5', 'lag_6', 'lag_7']].tail(1).values.flatten()\n",
    "\n",
    "# Prepare future dates and calendar features for the next 7 days\n",
    "last_date = df.index[-1]\n",
    "future_dates = pd.date_range(start=last_date + pd.Timedelta(days=1), periods=7, freq='D')\n",
    "future_df_predict = pd.DataFrame(index=future_dates)\n",
    "future_df_predict['year'] = future_df_predict.index.year\n",
    "future_df_predict['time_index'] = range(df['time_index'].max() + 1, df['time_index'].max() + 1 + 7)\n",
    "\n",
    "# Make recursive predictions\n",
    "predictions_recursive_loaded = []\n",
    "current_lags_loaded = last_7_lags.copy()\n",
    "\n",
    "print(\"Starting 7-step recursive forecast using loaded model...\")\n",
    "for i in range(7):\n",
    "    calendar_features_loaded = future_df_predict.iloc[i][['year', 'time_index']]\n",
    "    input_vector_loaded = np.concatenate([current_lags_loaded, calendar_features_loaded.values]).reshape(1, -1)\n",
    "\n",
    "    prediction_loaded = loaded_model.predict(input_vector_loaded)[0]\n",
    "    predictions_recursive_loaded.append(prediction_loaded)\n",
    "\n",
    "    current_lags_loaded = np.roll(current_lags_loaded, -1)\n",
    "    current_lags_loaded[-1] = prediction_loaded\n",
    "    print(f\"Step {i+1}/7 predicted: {prediction_loaded:.2f}\")\n",
    "\n",
    "print(\"\\nRecursive forecasting completed using loaded model.\")\n",
    "\n",
    "# Display the predictions with dates\n",
    "predictions_df = pd.DataFrame({'Date': future_dates, 'Predicted Sales': predictions_recursive_loaded})\n",
    "predictions_df = predictions_df.set_index('Date')\n",
    "print(\"\\n7-Day Sales Predictions:\")\n",
    "display(predictions_df)"
   ]
  },
  {
   "cell_type": "code",
   "execution_count": null,
   "metadata": {
    "colab": {
     "base_uri": "https://localhost:8080/",
     "height": 564
    },
    "executionInfo": {
     "elapsed": 258,
     "status": "ok",
     "timestamp": 1753544607979,
     "user": {
      "displayName": "Thanan Kangsawiwat",
      "userId": "06026257672126219511"
     },
     "user_tz": -420
    },
    "id": "zb1pKF6-ZZDv",
    "outputId": "17702e21-5b72-4917-b694-c24c2eea5278"
   },
   "outputs": [],
   "source": [
    "import matplotlib.pyplot as plt\n",
    "import pandas as pd\n",
    "\n",
    "# Ensure df_original is loaded (assuming it's available from previous cells)\n",
    "# If not, you might need to load it again\n",
    "# df_original = pd.read_csv(\"/content/drive/MyDrive/swuds/t5_thesis/98_progress/dataset/nd_sales_LinearRegression_base.csv\")\n",
    "# df_original['date'] = pd.to_datetime(df_original['date'])\n",
    "# df_original = df_original.set_index('date')\n",
    "\n",
    "# Calculate the average sales_sum for each day of the week for the last 3 months\n",
    "last_date_original = df_original.index.max()\n",
    "three_months_ago = last_date_original - pd.DateOffset(months=3)\n",
    "recent_df = df_original[df_original.index >= three_months_ago].copy() # Use copy to avoid SettingWithCopyWarning\n",
    "\n",
    "average_sales_last_3_months = recent_df.groupby('day')['sales_sum'].mean().reindex(['Sun', 'Mon', 'Tue', 'Wed', 'Thu', 'Fri', 'Sat'])\n",
    "\n",
    "# Ensure predictions_df is available (assuming it's available from previous cells)\n",
    "# If not, you might need to regenerate predictions or load from a file\n",
    "# predictions_df = ... # Load or generate your predictions_df here\n",
    "\n",
    "# Plot the linear graph\n",
    "plt.figure(figsize=(10, 6))\n",
    "plt.plot(average_sales_last_3_months.index, average_sales_last_3_months.values, marker='o', linestyle='-', color='blue', label='Average Sales Last 3 Months')\n",
    "\n",
    "# Add the predicted sales to the plot\n",
    "# Extract day of the week from predicted dates\n",
    "predicted_days_of_week = predictions_df.index.day_name()\n",
    "plt.plot(predicted_days_of_week, predictions_df['Predicted Sales'].values, marker='x', linestyle='-', color='red', label='Predicted Sales (Next 7 Days)')\n",
    "\n",
    "plt.xlabel('Day of the Week')\n",
    "plt.ylabel('Sales Sum')\n",
    "plt.ylim(0)\n",
    "plt.title('Sales Sum by Day of the Week (Average Last 3 Months vs Predicted)')\n",
    "plt.legend()\n",
    "plt.grid(True)\n",
    "plt.show()"
   ]
  },
  {
   "cell_type": "markdown",
   "metadata": {
    "id": "63290dc3"
   },
   "source": [
    "# Task\n",
    "Plot a line graph using `matplotlib` with 'Day of the Week' on the x-axis and 'Sales Sum' on the y-axis. The graph should display two lines: a blue line representing the average sales for each day of the week over the last 90 days from the dataframe loaded from \"/content/drive/MyDrive/swuds/t5_thesis/98_progress/dataset/nd_sales_LinearRegression_base.csv\", and a red line representing the predicted sales for the next 7 days from the `predictions_df`, aligning the predicted sales with the corresponding day of the week. Ensure the y-axis starts at 0 and include a title, axis labels, a legend, and a grid."
   ]
  },
  {
   "cell_type": "markdown",
   "metadata": {
    "id": "7192be60"
   },
   "source": [
    "## Calculate average sales (last 90 days)\n",
    "\n",
    "### Subtask:\n",
    "Calculate the average sales for each day of the week using the last 90 days of the original data (`df_original`).\n"
   ]
  },
  {
   "cell_type": "markdown",
   "metadata": {
    "id": "b149b37a"
   },
   "source": [
    "**Reasoning**:\n",
    "Calculate the average sales for each day of the week using the last 90 days of the original data.\n",
    "\n"
   ]
  },
  {
   "cell_type": "code",
   "execution_count": null,
   "metadata": {
    "colab": {
     "base_uri": "https://localhost:8080/",
     "height": 352
    },
    "executionInfo": {
     "elapsed": 50,
     "status": "ok",
     "timestamp": 1753544816479,
     "user": {
      "displayName": "Thanan Kangsawiwat",
      "userId": "06026257672126219511"
     },
     "user_tz": -420
    },
    "id": "1e4dd6f1",
    "outputId": "786fab78-52f7-4e36-bedf-bb41d9d3c3f4"
   },
   "outputs": [],
   "source": [
    "# Determine the last date in the df_original DataFrame's index.\n",
    "last_date_original = df_original.index.max()\n",
    "\n",
    "# Calculate the date 90 days prior to the last date.\n",
    "ninety_days_ago = last_date_original - pd.DateOffset(days=90)\n",
    "\n",
    "# Filter the df_original DataFrame to include only the data within the last 90 days.\n",
    "recent_df_90_days = df_original[df_original.index >= ninety_days_ago].copy()\n",
    "\n",
    "# Group the filtered DataFrame by the 'dayofweek' and calculate the mean of the 'sales_sum'.\n",
    "# Reindex to ensure the days are in order. dayofweek 0 is Monday, 6 is Sunday.\n",
    "average_sales_last_90_days = recent_df_90_days.groupby(recent_df_90_days.index.dayofweek)['sales_sum'].mean()\n",
    "\n",
    "# Map the dayofweek index to actual day names for plotting\n",
    "day_names = ['Mon', 'Tue', 'Wed', 'Thu', 'Fri', 'Sat', 'Sun']\n",
    "average_sales_last_90_days.index = average_sales_last_90_days.index.map(lambda x: day_names[x])\n",
    "\n",
    "# Reindex to ensure the days are in the desired order for plotting\n",
    "average_sales_last_90_days = average_sales_last_90_days.reindex(['Mon', 'Tue', 'Wed', 'Thu', 'Fri', 'Sat', 'Sun'])\n",
    "\n",
    "print(\"Average sales for each day of the week over the last 90 days:\")\n",
    "display(average_sales_last_90_days)"
   ]
  },
  {
   "cell_type": "markdown",
   "metadata": {
    "id": "0df06942"
   },
   "source": [
    "## Prepare predicted data\n",
    "\n",
    "### Subtask:\n",
    "Extract the day of the week and predicted sales from the `predictions_df`.\n"
   ]
  },
  {
   "cell_type": "markdown",
   "metadata": {
    "id": "19dda241"
   },
   "source": [
    "**Reasoning**:\n",
    "Extract the day of the week and predicted sales from the predictions_df for plotting.\n",
    "\n"
   ]
  },
  {
   "cell_type": "code",
   "execution_count": null,
   "metadata": {
    "colab": {
     "base_uri": "https://localhost:8080/",
     "height": 704
    },
    "executionInfo": {
     "elapsed": 17,
     "status": "ok",
     "timestamp": 1753544832913,
     "user": {
      "displayName": "Thanan Kangsawiwat",
      "userId": "06026257672126219511"
     },
     "user_tz": -420
    },
    "id": "7a8aa893",
    "outputId": "01610e2f-5622-420c-96ab-bc8b6eeefdbf"
   },
   "outputs": [],
   "source": [
    "predictions_df['day_of_week'] = predictions_df.index.day_name()\n",
    "predicted_sales = predictions_df['Predicted Sales']\n",
    "predicted_days_of_week = predictions_df['day_of_week']\n",
    "\n",
    "print(\"Predicted Sales:\")\n",
    "display(predicted_sales)\n",
    "print(\"\\nPredicted Days of the Week:\")\n",
    "display(predicted_days_of_week)"
   ]
  },
  {
   "cell_type": "markdown",
   "metadata": {
    "id": "f6aa1974"
   },
   "source": [
    "## Plot data\n",
    "\n",
    "### Subtask:\n",
    "Create a line plot using `matplotlib` showing the average sales by day of the week and the predicted sales by day of the week on the same graph.\n"
   ]
  },
  {
   "cell_type": "markdown",
   "metadata": {
    "id": "6c4cb720"
   },
   "source": [
    "**Reasoning**:\n",
    "Create a line plot using matplotlib showing the average sales by day of the week and the predicted sales by day of the week on the same graph, including labels, title, legend, and grid.\n",
    "\n"
   ]
  },
  {
   "cell_type": "code",
   "execution_count": null,
   "metadata": {
    "colab": {
     "base_uri": "https://localhost:8080/",
     "height": 564
    },
    "executionInfo": {
     "elapsed": 397,
     "status": "ok",
     "timestamp": 1753544851846,
     "user": {
      "displayName": "Thanan Kangsawiwat",
      "userId": "06026257672126219511"
     },
     "user_tz": -420
    },
    "id": "69e26238",
    "outputId": "8ec574cf-f23e-4814-b232-8dd2f311860c"
   },
   "outputs": [],
   "source": [
    "plt.figure(figsize=(10, 6))\n",
    "plt.plot(average_sales_last_90_days.index, average_sales_last_90_days.values, marker='o', linestyle='-', color='blue', label='Average Sales Last 90 Days')\n",
    "plt.plot(predicted_days_of_week, predicted_sales.values, marker='x', linestyle='-', color='red', label='Predicted Sales (Next 7 Days)')\n",
    "plt.xlabel('Day of the Week')\n",
    "plt.ylabel('Sales Sum')\n",
    "plt.ylim(bottom=0)\n",
    "plt.title('Sales Sum by Day of the Week (Average Last 90 Days vs Predicted)')\n",
    "plt.legend()\n",
    "plt.grid(True)\n",
    "plt.show()"
   ]
  },
  {
   "cell_type": "markdown",
   "metadata": {
    "id": "d71387db"
   },
   "source": [
    "## Summary:\n",
    "\n",
    "### Data Analysis Key Findings\n",
    "\n",
    "*   The average sales for the last 90 days were calculated for each day of the week.\n",
    "*   Predicted sales and their corresponding days of the week were extracted from the predictions data.\n",
    "*   A line plot was generated comparing the average sales over the last 90 days by day of the week with the predicted sales for the next 7 days by day of the week.\n",
    "\n",
    "### Insights or Next Steps\n",
    "\n",
    "*   Analyze the generated plot to identify any patterns or discrepancies between historical average sales and predicted sales for each day of the week.\n",
    "*   Investigate why there was no data for Saturdays in the last 90 days in the filtered dataset.\n"
   ]
  }
 ],
 "metadata": {
  "colab": {
   "authorship_tag": "ABX9TyNuMxUk1d1BvyMKRUX/ItqJ",
   "provenance": []
  },
  "kernelspec": {
   "display_name": "Python 3",
   "name": "python3"
  },
  "language_info": {
   "name": "python"
  }
 },
 "nbformat": 4,
 "nbformat_minor": 0
}
