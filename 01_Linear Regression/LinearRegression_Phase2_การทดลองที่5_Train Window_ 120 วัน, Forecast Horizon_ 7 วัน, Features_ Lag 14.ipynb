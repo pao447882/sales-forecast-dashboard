{
 "cells": [
  {
   "cell_type": "markdown",
   "metadata": {
    "id": "SUo5r1oAEgaP"
   },
   "source": [
    "LinearRegression_Phase2_การทดลองที่5_Train Window: 120 วัน, Forecast Horizon: 7 วัน, Features: Lag 14"
   ]
  },
  {
   "cell_type": "markdown",
   "metadata": {
    "id": "WG7yKZBHyDmT"
   },
   "source": [
    "#Import"
   ]
  },
  {
   "cell_type": "code",
   "execution_count": null,
   "metadata": {
    "executionInfo": {
     "elapsed": 7789,
     "status": "ok",
     "timestamp": 1750665736569,
     "user": {
      "displayName": "Thanan Kangsawiwat",
      "userId": "06026257672126219511"
     },
     "user_tz": -420
    },
    "id": "w4fXZv6SybvV"
   },
   "outputs": [],
   "source": [
    "import pandas as pd\n",
    "import numpy as np\n",
    "import matplotlib.pyplot as plt\n",
    "import seaborn as sns\n",
    "from sklearn.linear_model import LinearRegression\n",
    "from sklearn.linear_model import Ridge\n",
    "from sklearn.metrics import mean_squared_error, mean_absolute_error"
   ]
  },
  {
   "cell_type": "code",
   "execution_count": null,
   "metadata": {
    "colab": {
     "base_uri": "https://localhost:8080/"
    },
    "executionInfo": {
     "elapsed": 20085,
     "status": "ok",
     "timestamp": 1750665756665,
     "user": {
      "displayName": "Thanan Kangsawiwat",
      "userId": "06026257672126219511"
     },
     "user_tz": -420
    },
    "id": "p7m06yUByK2o",
    "outputId": "b9755dde-1224-4420-b072-338c21241506"
   },
   "outputs": [],
   "source": [
    "from google.colab import drive\n",
    "drive.mount('/content/drive')"
   ]
  },
  {
   "cell_type": "code",
   "execution_count": null,
   "metadata": {
    "colab": {
     "base_uri": "https://localhost:8080/",
     "height": 236
    },
    "executionInfo": {
     "elapsed": 1082,
     "status": "ok",
     "timestamp": 1750665757745,
     "user": {
      "displayName": "Thanan Kangsawiwat",
      "userId": "06026257672126219511"
     },
     "user_tz": -420
    },
    "id": "he9FJRO4E0Uc",
    "outputId": "8683f4c6-e67d-4273-a072-25d3d36ab54e"
   },
   "outputs": [],
   "source": [
    "df = pd.read_csv(\"/content/drive/MyDrive/swuds/t5_thesis/98_progress/dataset/nd_sales_LinearRegression_base.csv\")\n",
    "df.head()"
   ]
  },
  {
   "cell_type": "markdown",
   "metadata": {
    "id": "JfNAVZ-kFA2Y"
   },
   "source": [
    "#Preprocess"
   ]
  },
  {
   "cell_type": "code",
   "execution_count": null,
   "metadata": {
    "colab": {
     "base_uri": "https://localhost:8080/",
     "height": 267
    },
    "executionInfo": {
     "elapsed": 138,
     "status": "ok",
     "timestamp": 1750665757900,
     "user": {
      "displayName": "Thanan Kangsawiwat",
      "userId": "06026257672126219511"
     },
     "user_tz": -420
    },
    "id": "e-teck1GFfX0",
    "outputId": "f970d528-7fc2-4f37-a58a-ada02694f895"
   },
   "outputs": [],
   "source": [
    "df['date'] = pd.to_datetime(df['date'])\n",
    "df = df.set_index('date')\n",
    "df.head()"
   ]
  },
  {
   "cell_type": "markdown",
   "metadata": {
    "id": "ccbV29hUFxzn"
   },
   "source": [
    "ในการทดลอง Phase2 จะใช้แค่ 'sales_sum', 'time_index', 'lag_14' เท่านั้น"
   ]
  },
  {
   "cell_type": "code",
   "execution_count": null,
   "metadata": {
    "colab": {
     "base_uri": "https://localhost:8080/",
     "height": 455
    },
    "executionInfo": {
     "elapsed": 154,
     "status": "ok",
     "timestamp": 1750665758056,
     "user": {
      "displayName": "Thanan Kangsawiwat",
      "userId": "06026257672126219511"
     },
     "user_tz": -420
    },
    "id": "rPWRghUVDZiJ",
    "outputId": "2201b2f3-7f7f-4102-9976-951ed0da4cd2"
   },
   "outputs": [],
   "source": [
    "df['lag_1'] = df['sales_sum'].shift(1)\n",
    "df['lag_2'] = df['sales_sum'].shift(2)\n",
    "df['lag_3'] = df['sales_sum'].shift(3)\n",
    "df['lag_4'] = df['sales_sum'].shift(4)\n",
    "df['lag_5'] = df['sales_sum'].shift(5)\n",
    "df['lag_6'] = df['sales_sum'].shift(6)\n",
    "df['lag_7'] = df['sales_sum'].shift(7)\n",
    "df['lag_8'] = df['sales_sum'].shift(8)\n",
    "df['lag_9'] = df['sales_sum'].shift(9)\n",
    "df['lag_10'] = df['sales_sum'].shift(10)\n",
    "df['lag_11'] = df['sales_sum'].shift(11)\n",
    "df['lag_12'] = df['sales_sum'].shift(12)\n",
    "df['lag_13'] = df['sales_sum'].shift(13)\n",
    "df['lag_14'] = df['sales_sum'].shift(14)\n",
    "\n",
    "df = df.reindex(columns=['sales_sum', 'time_index', 'lag_1', 'lag_2', 'lag_3', 'lag_4', 'lag_5', 'lag_6', 'lag_7', 'lag_8', 'lag_9', 'lag_10', 'lag_11', 'lag_12', 'lag_13', 'lag_14'])\n",
    "\n",
    "df"
   ]
  },
  {
   "cell_type": "code",
   "execution_count": null,
   "metadata": {
    "colab": {
     "base_uri": "https://localhost:8080/",
     "height": 238
    },
    "executionInfo": {
     "elapsed": 85,
     "status": "ok",
     "timestamp": 1750665758142,
     "user": {
      "displayName": "Thanan Kangsawiwat",
      "userId": "06026257672126219511"
     },
     "user_tz": -420
    },
    "id": "qUr4Y0OvMjPN",
    "outputId": "a6c0537f-5e53-4047-8565-2fa7a132f985"
   },
   "outputs": [],
   "source": [
    "# prompt: drop row that have missing value\n",
    "\n",
    "df.dropna(inplace=True)\n",
    "df.head()"
   ]
  },
  {
   "cell_type": "code",
   "execution_count": null,
   "metadata": {
    "colab": {
     "base_uri": "https://localhost:8080/",
     "height": 455
    },
    "executionInfo": {
     "elapsed": 81,
     "status": "ok",
     "timestamp": 1750665758225,
     "user": {
      "displayName": "Thanan Kangsawiwat",
      "userId": "06026257672126219511"
     },
     "user_tz": -420
    },
    "id": "gbtI0M8cHXgy",
    "outputId": "9fe3c65b-6763-454c-fa13-f7451a63abec"
   },
   "outputs": [],
   "source": [
    "df_last_127 = df.tail(127)\n",
    "df_last_127"
   ]
  },
  {
   "cell_type": "code",
   "execution_count": null,
   "metadata": {
    "colab": {
     "base_uri": "https://localhost:8080/",
     "height": 1000
    },
    "executionInfo": {
     "elapsed": 80,
     "status": "ok",
     "timestamp": 1750665758306,
     "user": {
      "displayName": "Thanan Kangsawiwat",
      "userId": "06026257672126219511"
     },
     "user_tz": -420
    },
    "id": "Mf6l6Tu-Huz2",
    "outputId": "385a9aef-ac2d-44e6-9253-baab8ecf9b74"
   },
   "outputs": [],
   "source": [
    "# prompt: แบ่ง test_data = 7 row ท้ายสุด,  train_data = row ทั้งหมดที่เหลือ\n",
    "\n",
    "test_data = df_last_127.tail(7)\n",
    "train_data = df_last_127.head(120)\n",
    "\n",
    "print(\"Test Data:\")\n",
    "print(test_data)\n",
    "\n",
    "print(\"\\nTrain Data:\")\n",
    "train_data"
   ]
  },
  {
   "cell_type": "code",
   "execution_count": null,
   "metadata": {
    "executionInfo": {
     "elapsed": 2,
     "status": "ok",
     "timestamp": 1750665758309,
     "user": {
      "displayName": "Thanan Kangsawiwat",
      "userId": "06026257672126219511"
     },
     "user_tz": -420
    },
    "id": "C82TCcBSK9gh"
   },
   "outputs": [],
   "source": [
    "X = train_data[['lag_1', 'lag_2', 'lag_3', 'lag_4', 'lag_5', 'lag_6', 'lag_7', 'lag_8', 'lag_9', 'lag_10', 'lag_11', 'lag_12', 'lag_13', 'lag_14']]\n",
    "y = train_data['sales_sum']"
   ]
  },
  {
   "cell_type": "markdown",
   "metadata": {
    "id": "FwxwghRm8RLV"
   },
   "source": [
    "#Train Model"
   ]
  },
  {
   "cell_type": "code",
   "execution_count": null,
   "metadata": {
    "colab": {
     "base_uri": "https://localhost:8080/",
     "height": 80
    },
    "executionInfo": {
     "elapsed": 51,
     "status": "ok",
     "timestamp": 1750665758361,
     "user": {
      "displayName": "Thanan Kangsawiwat",
      "userId": "06026257672126219511"
     },
     "user_tz": -420
    },
    "id": "UqoPtdX6M4yY",
    "outputId": "82fbb804-c0bc-46ec-aaa5-51f86f677bb8"
   },
   "outputs": [],
   "source": [
    "# Initializing the linear regression model\n",
    "model = LinearRegression()\n",
    "\n",
    "# Training the model on the training data available\n",
    "model.fit(X, y)"
   ]
  },
  {
   "cell_type": "code",
   "execution_count": null,
   "metadata": {
    "colab": {
     "base_uri": "https://localhost:8080/"
    },
    "executionInfo": {
     "elapsed": 14,
     "status": "ok",
     "timestamp": 1750665758376,
     "user": {
      "displayName": "Thanan Kangsawiwat",
      "userId": "06026257672126219511"
     },
     "user_tz": -420
    },
    "id": "xYZmDwY4NmB9",
    "outputId": "623878e9-290d-4390-e91a-dc430ae061ad"
   },
   "outputs": [],
   "source": [
    "X_test = test_data[['lag_1', 'lag_2', 'lag_3', 'lag_4', 'lag_5', 'lag_6', 'lag_7', 'lag_8', 'lag_9', 'lag_10', 'lag_11', 'lag_12', 'lag_13', 'lag_14']]\n",
    "predictions = model.predict(X_test)\n",
    "\n",
    "# Print the predictions\n",
    "print(\"\\nPredictions:\")\n",
    "predictions"
   ]
  },
  {
   "cell_type": "markdown",
   "metadata": {
    "id": "iW9e1g6O8p3-"
   },
   "source": [
    "#Evaluate"
   ]
  },
  {
   "cell_type": "code",
   "execution_count": null,
   "metadata": {
    "colab": {
     "base_uri": "https://localhost:8080/"
    },
    "executionInfo": {
     "elapsed": 4,
     "status": "ok",
     "timestamp": 1750665758379,
     "user": {
      "displayName": "Thanan Kangsawiwat",
      "userId": "06026257672126219511"
     },
     "user_tz": -420
    },
    "id": "_JRwKGKzOBeD",
    "outputId": "6dcf0bf7-283d-4f72-be04-1c35372ac14b"
   },
   "outputs": [],
   "source": [
    "# Calculating MSE\n",
    "mse = mean_squared_error(test_data['sales_sum'], predictions)\n",
    "print(f\"\\nMean Squared Error (MSE): {mse}\")\n",
    "\n",
    "# Calculating RMSE\n",
    "rmse = np.sqrt(mse)\n",
    "print(f\"Root Mean Squared Error (RMSE): {rmse}\")"
   ]
  },
  {
   "cell_type": "code",
   "execution_count": null,
   "metadata": {
    "colab": {
     "base_uri": "https://localhost:8080/"
    },
    "executionInfo": {
     "elapsed": 13,
     "status": "ok",
     "timestamp": 1750665768276,
     "user": {
      "displayName": "Thanan Kangsawiwat",
      "userId": "06026257672126219511"
     },
     "user_tz": -420
    },
    "id": "frjSGNO0z5Ai",
    "outputId": "a3525cf1-5276-45f6-f9dd-52d68f439d94"
   },
   "outputs": [],
   "source": [
    "# prompt: mae\n",
    "\n",
    "# Calculating MAE\n",
    "mae = mean_absolute_error(test_data['sales_sum'], predictions)\n",
    "print(f\"Mean Absolute Error (MAE): {mae}\")"
   ]
  }
 ],
 "metadata": {
  "colab": {
   "authorship_tag": "ABX9TyP3c+EXJ+sc9YOKTRuNPk/a",
   "provenance": []
  },
  "kernelspec": {
   "display_name": "Python 3",
   "name": "python3"
  },
  "language_info": {
   "name": "python"
  }
 },
 "nbformat": 4,
 "nbformat_minor": 0
}
