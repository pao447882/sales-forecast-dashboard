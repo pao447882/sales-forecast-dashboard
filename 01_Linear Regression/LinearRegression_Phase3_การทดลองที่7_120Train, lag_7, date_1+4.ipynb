{
 "cells": [
  {
   "cell_type": "markdown",
   "metadata": {
    "id": "SUo5r1oAEgaP"
   },
   "source": [
    "LinearRegression_Phase3_การทดลองที่7_120Train, lag_7, date_ชุด1+4"
   ]
  },
  {
   "cell_type": "markdown",
   "metadata": {
    "id": "WG7yKZBHyDmT"
   },
   "source": [
    "#Import"
   ]
  },
  {
   "cell_type": "code",
   "execution_count": null,
   "metadata": {
    "executionInfo": {
     "elapsed": 4799,
     "status": "ok",
     "timestamp": 1750670874391,
     "user": {
      "displayName": "Thanan Kangsawiwat",
      "userId": "06026257672126219511"
     },
     "user_tz": -420
    },
    "id": "w4fXZv6SybvV"
   },
   "outputs": [],
   "source": [
    "import pandas as pd\n",
    "import numpy as np\n",
    "import matplotlib.pyplot as plt\n",
    "import seaborn as sns\n",
    "from sklearn.linear_model import LinearRegression\n",
    "from sklearn.linear_model import Ridge\n",
    "from sklearn.metrics import mean_squared_error, mean_absolute_error"
   ]
  },
  {
   "cell_type": "code",
   "execution_count": null,
   "metadata": {
    "colab": {
     "base_uri": "https://localhost:8080/"
    },
    "executionInfo": {
     "elapsed": 23809,
     "status": "ok",
     "timestamp": 1750670898209,
     "user": {
      "displayName": "Thanan Kangsawiwat",
      "userId": "06026257672126219511"
     },
     "user_tz": -420
    },
    "id": "p7m06yUByK2o",
    "outputId": "788d31c3-3159-427b-8c73-bba90bf43350"
   },
   "outputs": [],
   "source": [
    "from google.colab import drive\n",
    "drive.mount('/content/drive')"
   ]
  },
  {
   "cell_type": "code",
   "execution_count": null,
   "metadata": {
    "colab": {
     "base_uri": "https://localhost:8080/",
     "height": 236
    },
    "executionInfo": {
     "elapsed": 2285,
     "status": "ok",
     "timestamp": 1750670900492,
     "user": {
      "displayName": "Thanan Kangsawiwat",
      "userId": "06026257672126219511"
     },
     "user_tz": -420
    },
    "id": "he9FJRO4E0Uc",
    "outputId": "630c8af3-eed0-4769-ef50-b9c06180b9c1"
   },
   "outputs": [],
   "source": [
    "df = pd.read_csv(\"/content/drive/MyDrive/swuds/t5_thesis/98_progress/dataset/nd_sales_LinearRegression_base.csv\")\n",
    "df.head()"
   ]
  },
  {
   "cell_type": "code",
   "execution_count": null,
   "metadata": {
    "colab": {
     "base_uri": "https://localhost:8080/"
    },
    "executionInfo": {
     "elapsed": 26,
     "status": "ok",
     "timestamp": 1750670900528,
     "user": {
      "displayName": "Thanan Kangsawiwat",
      "userId": "06026257672126219511"
     },
     "user_tz": -420
    },
    "id": "esTEowkbKzZD",
    "outputId": "c263044e-f708-4f0f-af08-88ec632cd244"
   },
   "outputs": [],
   "source": [
    "df.columns"
   ]
  },
  {
   "cell_type": "markdown",
   "metadata": {
    "id": "JfNAVZ-kFA2Y"
   },
   "source": [
    "#Preprocess"
   ]
  },
  {
   "cell_type": "code",
   "execution_count": null,
   "metadata": {
    "colab": {
     "base_uri": "https://localhost:8080/",
     "height": 267
    },
    "executionInfo": {
     "elapsed": 191,
     "status": "ok",
     "timestamp": 1750670900725,
     "user": {
      "displayName": "Thanan Kangsawiwat",
      "userId": "06026257672126219511"
     },
     "user_tz": -420
    },
    "id": "e-teck1GFfX0",
    "outputId": "98541a4c-7645-43b6-f7b2-0ea0809238ff"
   },
   "outputs": [],
   "source": [
    "df['date'] = pd.to_datetime(df['date'])\n",
    "df = df.set_index('date')\n",
    "df.head()"
   ]
  },
  {
   "cell_type": "code",
   "execution_count": null,
   "metadata": {
    "colab": {
     "base_uri": "https://localhost:8080/",
     "height": 267
    },
    "executionInfo": {
     "elapsed": 120,
     "status": "ok",
     "timestamp": 1750670900856,
     "user": {
      "displayName": "Thanan Kangsawiwat",
      "userId": "06026257672126219511"
     },
     "user_tz": -420
    },
    "id": "VKcKZW0iop22",
    "outputId": "3ac7bb0f-24f8-48f0-e879-ecb41d3e2f96"
   },
   "outputs": [],
   "source": [
    "df['is_weekend'] = (df.index.dayofweek == 6).astype(int)\n",
    "df.head()"
   ]
  },
  {
   "cell_type": "markdown",
   "metadata": {
    "id": "SpcEwnRZqRJ5"
   },
   "source": [
    "ตัวแปรที่ไม่ได้มีความหมายเชิงลำดับเช่น dayofweek, month  \n",
    "เพราะตัวแปรเหล่านี้เป็นข้อมูลเชิงกลุ่ม (Categorical) ไม่ใช่เชิงลำดับ (Ordinal) หากเราใส่เป็นตัวเลข 1-12 เข้าไปตรงๆ โมเดลจะเข้าใจผิดว่า \"เดือนธันวาคม (12)\" มีค่ามากกว่า \"เดือนมกราคม (1)\" ถึง 12 เท่า ซึ่งไม่เป็นความจริง การทำ One-Hot Encoding จะสร้างคอลัมน์ใหม่เป็น is_Jan, is_Feb,... เพื่อแก้ปัญหานี้"
   ]
  },
  {
   "cell_type": "code",
   "execution_count": null,
   "metadata": {
    "colab": {
     "base_uri": "https://localhost:8080/",
     "height": 267
    },
    "executionInfo": {
     "elapsed": 108,
     "status": "ok",
     "timestamp": 1750670900965,
     "user": {
      "displayName": "Thanan Kangsawiwat",
      "userId": "06026257672126219511"
     },
     "user_tz": -420
    },
    "id": "nahEdVCYM5Fs",
    "outputId": "c2d591ae-16be-4d45-8677-d735d254e038"
   },
   "outputs": [],
   "source": [
    "# prompt: สร้าง 'is_Sun' จาก dayofweek ถ้าตรงกับวันอาทิตย์แสดงเป็น 1  ถ้าไม่ตรงแสดงเป็น 0\n",
    "\n",
    "df['is_Sun'] = (df.index.dayofweek == 6).astype(int)\n",
    "df.head(5)"
   ]
  },
  {
   "cell_type": "code",
   "execution_count": null,
   "metadata": {
    "colab": {
     "base_uri": "https://localhost:8080/",
     "height": 204
    },
    "executionInfo": {
     "elapsed": 68,
     "status": "ok",
     "timestamp": 1750670901035,
     "user": {
      "displayName": "Thanan Kangsawiwat",
      "userId": "06026257672126219511"
     },
     "user_tz": -420
    },
    "id": "AH4AthNCSeoj",
    "outputId": "a748ba76-9c6a-464c-93b9-66d9e24faa93"
   },
   "outputs": [],
   "source": [
    "df['is_Sun'] = (df.index.dayofweek == 6).astype(int)\n",
    "df['is_Mon'] = (df.index.dayofweek == 0).astype(int)\n",
    "df['is_Tue'] = (df.index.dayofweek == 1).astype(int)\n",
    "df['is_Wed'] = (df.index.dayofweek == 2).astype(int)\n",
    "df['is_Thu'] = (df.index.dayofweek == 3).astype(int)\n",
    "df['is_Fri'] = (df.index.dayofweek == 4).astype(int)\n",
    "df.head(3)"
   ]
  },
  {
   "cell_type": "code",
   "execution_count": null,
   "metadata": {
    "colab": {
     "base_uri": "https://localhost:8080/",
     "height": 204
    },
    "executionInfo": {
     "elapsed": 64,
     "status": "ok",
     "timestamp": 1750670901100,
     "user": {
      "displayName": "Thanan Kangsawiwat",
      "userId": "06026257672126219511"
     },
     "user_tz": -420
    },
    "id": "ceXn0N_bTdc0",
    "outputId": "bbdc545b-b353-4343-a936-e5860d28ae02"
   },
   "outputs": [],
   "source": [
    "df['is_Jan'] = (df.index.month == 1).astype(int)\n",
    "df['is_Feb'] = (df.index.month == 2).astype(int)\n",
    "df['is_Mar'] = (df.index.month == 3).astype(int)\n",
    "df['is_Apr'] = (df.index.month == 4).astype(int)\n",
    "df['is_May'] = (df.index.month == 5).astype(int)\n",
    "df['is_Jun'] = (df.index.month == 6).astype(int)\n",
    "df['is_Jul'] = (df.index.month == 7).astype(int)\n",
    "df['is_Aug'] = (df.index.month == 8).astype(int)\n",
    "df['is_Sep'] = (df.index.month == 9).astype(int)\n",
    "df['is_Oct'] = (df.index.month == 10).astype(int)\n",
    "df['is_Nov'] = (df.index.month == 11).astype(int)\n",
    "df['is_Dec'] = (df.index.month == 12).astype(int)\n",
    "df.head(3)"
   ]
  },
  {
   "cell_type": "markdown",
   "metadata": {
    "id": "ccbV29hUFxzn"
   },
   "source": [
    "ในการทดลอง Phase3 จะใช้แค่ 'sales_sum', 'time_index', 'lag_7' และตัวแปรทางปฏิทิน"
   ]
  },
  {
   "cell_type": "code",
   "execution_count": null,
   "metadata": {
    "colab": {
     "base_uri": "https://localhost:8080/",
     "height": 267
    },
    "executionInfo": {
     "elapsed": 66,
     "status": "ok",
     "timestamp": 1750670901167,
     "user": {
      "displayName": "Thanan Kangsawiwat",
      "userId": "06026257672126219511"
     },
     "user_tz": -420
    },
    "id": "rPWRghUVDZiJ",
    "outputId": "bb8e8f01-6e29-4410-c325-4c6258ec107c"
   },
   "outputs": [],
   "source": [
    "df['lag_1'] = df['sales_sum'].shift(1)\n",
    "df['lag_2'] = df['sales_sum'].shift(2)\n",
    "df['lag_3'] = df['sales_sum'].shift(3)\n",
    "df['lag_4'] = df['sales_sum'].shift(4)\n",
    "df['lag_5'] = df['sales_sum'].shift(5)\n",
    "df['lag_6'] = df['sales_sum'].shift(6)\n",
    "df['lag_7'] = df['sales_sum'].shift(7)\n",
    "df = df.reindex(columns=['sales_sum', 'lag_1', 'lag_2', 'lag_3', 'lag_4', 'lag_5', 'lag_6', 'lag_7'\n",
    "                         , 'year', 'time_index'\n",
    "                         #, 'isschoolday', 'ismarketday', 'holiday', 'isbuddaday'\n",
    "                         #, 'is_Sun', 'is_Mon', 'is_Tue', 'is_Wed', 'is_Thu', 'is_Fri'\n",
    "                         , 'is_Jan', 'is_Feb', 'is_Mar', 'is_Apr', 'is_May', 'is_Jun', 'is_Jul', 'is_Aug', 'is_Sep', 'is_Oct', 'is_Nov', 'is_Dec'\n",
    "                         ])\n",
    "\n",
    "df.head()"
   ]
  },
  {
   "cell_type": "code",
   "execution_count": null,
   "metadata": {
    "colab": {
     "base_uri": "https://localhost:8080/",
     "height": 267
    },
    "executionInfo": {
     "elapsed": 58,
     "status": "ok",
     "timestamp": 1750670901224,
     "user": {
      "displayName": "Thanan Kangsawiwat",
      "userId": "06026257672126219511"
     },
     "user_tz": -420
    },
    "id": "qUr4Y0OvMjPN",
    "outputId": "7d462fd8-0b4a-46e7-92b8-983b69cc5c46"
   },
   "outputs": [],
   "source": [
    "# prompt: drop row that have missing value\n",
    "\n",
    "df.dropna(inplace=True)\n",
    "df.head()"
   ]
  },
  {
   "cell_type": "code",
   "execution_count": null,
   "metadata": {
    "colab": {
     "base_uri": "https://localhost:8080/",
     "height": 455
    },
    "executionInfo": {
     "elapsed": 80,
     "status": "ok",
     "timestamp": 1750670901305,
     "user": {
      "displayName": "Thanan Kangsawiwat",
      "userId": "06026257672126219511"
     },
     "user_tz": -420
    },
    "id": "gbtI0M8cHXgy",
    "outputId": "b628ee4a-20b3-4f5f-e9b0-0d8ca4dc485e"
   },
   "outputs": [],
   "source": [
    "df_last_127 = df.tail(127)\n",
    "df_last_127"
   ]
  },
  {
   "cell_type": "code",
   "execution_count": null,
   "metadata": {
    "colab": {
     "base_uri": "https://localhost:8080/",
     "height": 1000
    },
    "executionInfo": {
     "elapsed": 62,
     "status": "ok",
     "timestamp": 1750670901368,
     "user": {
      "displayName": "Thanan Kangsawiwat",
      "userId": "06026257672126219511"
     },
     "user_tz": -420
    },
    "id": "Mf6l6Tu-Huz2",
    "outputId": "4d45a810-adba-4d18-95e5-cfd3ec6acd63"
   },
   "outputs": [],
   "source": [
    "# prompt: แบ่ง test_data = 7 row ท้ายสุด,  train_data = row ทั้งหมดที่เหลือ\n",
    "\n",
    "test_data = df_last_127.tail(7)\n",
    "train_data = df_last_127.head(120)\n",
    "\n",
    "print(\"Test Data:\")\n",
    "print(test_data)\n",
    "\n",
    "print(\"\\nTrain Data:\")\n",
    "train_data"
   ]
  },
  {
   "cell_type": "code",
   "execution_count": null,
   "metadata": {
    "executionInfo": {
     "elapsed": 2,
     "status": "ok",
     "timestamp": 1750670901371,
     "user": {
      "displayName": "Thanan Kangsawiwat",
      "userId": "06026257672126219511"
     },
     "user_tz": -420
    },
    "id": "C82TCcBSK9gh"
   },
   "outputs": [],
   "source": [
    "X = train_data[['lag_1', 'lag_2', 'lag_3', 'lag_4', 'lag_5', 'lag_6', 'lag_7'\n",
    "                         , 'year', 'time_index'\n",
    "                         #, 'isschoolday', 'ismarketday', 'holiday', 'isbuddaday'\n",
    "                         #, 'is_Sun', 'is_Mon', 'is_Tue', 'is_Wed', 'is_Thu', 'is_Fri'\n",
    "                         , 'is_Jan', 'is_Feb', 'is_Mar', 'is_Apr', 'is_May', 'is_Jun', 'is_Jul', 'is_Aug', 'is_Sep', 'is_Oct', 'is_Nov', 'is_Dec'\n",
    "                ]]\n",
    "y = train_data['sales_sum']"
   ]
  },
  {
   "cell_type": "markdown",
   "metadata": {
    "id": "FwxwghRm8RLV"
   },
   "source": [
    "#Train Model"
   ]
  },
  {
   "cell_type": "code",
   "execution_count": null,
   "metadata": {
    "colab": {
     "base_uri": "https://localhost:8080/",
     "height": 80
    },
    "executionInfo": {
     "elapsed": 55,
     "status": "ok",
     "timestamp": 1750670901427,
     "user": {
      "displayName": "Thanan Kangsawiwat",
      "userId": "06026257672126219511"
     },
     "user_tz": -420
    },
    "id": "UqoPtdX6M4yY",
    "outputId": "a4943611-b33b-4c24-f27f-662bfe33bc0c"
   },
   "outputs": [],
   "source": [
    "# Initializing the linear regression model\n",
    "model = LinearRegression()\n",
    "\n",
    "# Training the model on the training data available\n",
    "model.fit(X, y)"
   ]
  },
  {
   "cell_type": "code",
   "execution_count": null,
   "metadata": {
    "colab": {
     "base_uri": "https://localhost:8080/"
    },
    "executionInfo": {
     "elapsed": 11,
     "status": "ok",
     "timestamp": 1750670901439,
     "user": {
      "displayName": "Thanan Kangsawiwat",
      "userId": "06026257672126219511"
     },
     "user_tz": -420
    },
    "id": "xYZmDwY4NmB9",
    "outputId": "ea6ac776-15ee-4eb4-e3da-88338e148768"
   },
   "outputs": [],
   "source": [
    "X_test = test_data[['lag_1', 'lag_2', 'lag_3', 'lag_4', 'lag_5', 'lag_6', 'lag_7'\n",
    "                          , 'year', 'time_index'\n",
    "                         #, 'isschoolday', 'ismarketday', 'holiday', 'isbuddaday'\n",
    "                         #, 'is_Sun', 'is_Mon', 'is_Tue', 'is_Wed', 'is_Thu', 'is_Fri'\n",
    "                         , 'is_Jan', 'is_Feb', 'is_Mar', 'is_Apr', 'is_May', 'is_Jun', 'is_Jul', 'is_Aug', 'is_Sep', 'is_Oct', 'is_Nov', 'is_Dec'\n",
    "                    ]]\n",
    "predictions = model.predict(X_test)\n",
    "\n",
    "# Print the predictions\n",
    "print(\"\\nPredictions:\")\n",
    "predictions"
   ]
  },
  {
   "cell_type": "markdown",
   "metadata": {
    "id": "iW9e1g6O8p3-"
   },
   "source": [
    "#Evaluate"
   ]
  },
  {
   "cell_type": "code",
   "execution_count": null,
   "metadata": {
    "colab": {
     "base_uri": "https://localhost:8080/"
    },
    "executionInfo": {
     "elapsed": 4,
     "status": "ok",
     "timestamp": 1750670901444,
     "user": {
      "displayName": "Thanan Kangsawiwat",
      "userId": "06026257672126219511"
     },
     "user_tz": -420
    },
    "id": "_JRwKGKzOBeD",
    "outputId": "6520f48a-841f-4a81-f650-939baf139bc2"
   },
   "outputs": [],
   "source": [
    "# Calculating MSE\n",
    "mse = mean_squared_error(test_data['sales_sum'], predictions)\n",
    "print(f\"\\nMean Squared Error (MSE): {mse}\")\n",
    "\n",
    "# Calculating RMSE\n",
    "rmse = np.sqrt(mse)\n",
    "print(f\"Root Mean Squared Error (RMSE): {rmse}\")"
   ]
  },
  {
   "cell_type": "code",
   "execution_count": null,
   "metadata": {
    "colab": {
     "base_uri": "https://localhost:8080/",
     "height": 1000
    },
    "executionInfo": {
     "elapsed": 191,
     "status": "ok",
     "timestamp": 1750670901636,
     "user": {
      "displayName": "Thanan Kangsawiwat",
      "userId": "06026257672126219511"
     },
     "user_tz": -420
    },
    "id": "I-kYSK-DCDH0",
    "outputId": "87531964-6557-48ef-a932-92210cf45821"
   },
   "outputs": [],
   "source": [
    "# prompt: Plot กราฟ ผลลัพท์ เน้นโทนสีพาสเทล มินิมอล\n",
    "\n",
    "# Create a dataframe for plotting\n",
    "plot_df = pd.DataFrame({\n",
    "    'Actual Sales': test_data['sales_sum'],\n",
    "    'Predicted Sales': predictions\n",
    "}, index=test_data.index)\n",
    "\n",
    "# Set the style for the plot\n",
    "plt.style.use('seaborn-v0_8-whitegrid') # Using a simple white grid style\n",
    "\n",
    "# Define pastel colors\n",
    "pastel_colors = ['#AEC6CF', '#FFB347'] # Example pastel colors (Light blue, Pastel orange)\n",
    "\n",
    "# Plot the results\n",
    "plt.figure(figsize=(12, 6))\n",
    "plt.plot(plot_df.index, plot_df['Actual Sales'], label='ยอดขายจริง', marker='o', linestyle='-', color=pastel_colors[0], linewidth=2)\n",
    "plt.plot(plot_df.index, plot_df['Predicted Sales'], label='ยอดขายที่คาดการณ์', marker='x', linestyle='--', color=pastel_colors[1], linewidth=2)\n",
    "\n",
    "# Add titles and labels with a minimal look\n",
    "plt.title('เปรียบเทียบยอดขายจริงและยอดขายที่คาดการณ์ (Linear Regression)', fontsize=14, fontweight='bold')\n",
    "plt.xlabel('วันที่', fontsize=12)\n",
    "plt.ylabel('ยอดขายรวม', fontsize=12)\n",
    "plt.xticks(rotation=45, ha='right') # Rotate x-axis labels for better readability\n",
    "plt.legend(fontsize=10)\n",
    "plt.grid(True, linestyle='--', alpha=0.6) # Make grid lines less prominent\n",
    "plt.tight_layout() # Adjust layout to prevent labels overlapping\n",
    "\n",
    "# Show the plot\n",
    "plt.show()\n"
   ]
  },
  {
   "cell_type": "code",
   "execution_count": null,
   "metadata": {
    "colab": {
     "base_uri": "https://localhost:8080/",
     "height": 745
    },
    "executionInfo": {
     "elapsed": 21,
     "status": "ok",
     "timestamp": 1750670901659,
     "user": {
      "displayName": "Thanan Kangsawiwat",
      "userId": "06026257672126219511"
     },
     "user_tz": -420
    },
    "id": "cE_wxeboDnop",
    "outputId": "0d27e93c-6fb0-4d5f-f084-85165385fb29"
   },
   "outputs": [],
   "source": [
    "# prompt: แสดง ค่าสัมประสิทธิ์ / Coefficients ของโมเดล ปัจจัยแต่ละตัว\n",
    "\n",
    "# Display coefficients\n",
    "coefficients = pd.DataFrame({'Feature': X.columns, 'Coefficient': model.coef_})\n",
    "print(\"\\nCoefficients:\")\n",
    "coefficients"
   ]
  },
  {
   "cell_type": "code",
   "execution_count": null,
   "metadata": {
    "colab": {
     "base_uri": "https://localhost:8080/",
     "height": 559
    },
    "executionInfo": {
     "elapsed": 75,
     "status": "ok",
     "timestamp": 1750670901734,
     "user": {
      "displayName": "Thanan Kangsawiwat",
      "userId": "06026257672126219511"
     },
     "user_tz": -420
    },
    "id": "8GWL-80QeECq",
    "outputId": "479372e3-6ec1-4a3c-84b2-81a22ff4dfdb"
   },
   "outputs": [],
   "source": [
    "# prompt: Residual Plot\n",
    "\n",
    "# Calculate residuals\n",
    "residuals = test_data['sales_sum'] - predictions\n",
    "\n",
    "# Create a residual plot\n",
    "plt.figure(figsize=(10, 6))\n",
    "sns.residplot(x=predictions, y=residuals, lowess=True, color=\"#5F9EA0\", scatter_kws={'alpha': 0.6}) # Using CadetBlue\n",
    "\n",
    "plt.title('Residual Plot', fontsize=14, fontweight='bold')\n",
    "plt.xlabel('Predicted Values', fontsize=12)\n",
    "plt.ylabel('Residuals', fontsize=12)\n",
    "plt.grid(True, linestyle='--', alpha=0.6)\n",
    "plt.axhline(y=0, color='#FF6347', linestyle='-', linewidth=1.5) # Using Tomato for the zero line\n",
    "plt.show()"
   ]
  },
  {
   "cell_type": "code",
   "execution_count": null,
   "metadata": {
    "colab": {
     "base_uri": "https://localhost:8080/",
     "height": 559
    },
    "executionInfo": {
     "elapsed": 156,
     "status": "ok",
     "timestamp": 1750670901891,
     "user": {
      "displayName": "Thanan Kangsawiwat",
      "userId": "06026257672126219511"
     },
     "user_tz": -420
    },
    "id": "9nk_P3N5ekX0",
    "outputId": "ca389e3e-18de-4f6f-8d35-bab9e5925a3c"
   },
   "outputs": [],
   "source": [
    "# prompt: กราฟ Histogram ของ Residuals\n",
    "\n",
    "# Plotting a histogram of residuals\n",
    "plt.figure(figsize=(10, 6))\n",
    "sns.histplot(residuals, kde=True, color=\"#5F9EA0\") # Using CadetBlue\n",
    "\n",
    "plt.title('Histogram of Residuals', fontsize=14, fontweight='bold')\n",
    "plt.xlabel('Residuals', fontsize=12)\n",
    "plt.ylabel('Frequency', fontsize=12)\n",
    "plt.grid(axis='y', alpha=0.6, linestyle='--')\n",
    "plt.show()"
   ]
  },
  {
   "cell_type": "code",
   "execution_count": null,
   "metadata": {
    "colab": {
     "base_uri": "https://localhost:8080/"
    },
    "executionInfo": {
     "elapsed": 6,
     "status": "ok",
     "timestamp": 1750670905174,
     "user": {
      "displayName": "Thanan Kangsawiwat",
      "userId": "06026257672126219511"
     },
     "user_tz": -420
    },
    "id": "ri0sNIj4HYBU",
    "outputId": "1caba309-b137-4ec5-90f5-34b7625f2eb6"
   },
   "outputs": [],
   "source": [
    "# prompt: mae\n",
    "\n",
    "# Calculating MAE\n",
    "mae = mean_absolute_error(test_data['sales_sum'], predictions)\n",
    "print(f\"Mean Absolute Error (MAE): {mae}\")"
   ]
  }
 ],
 "metadata": {
  "colab": {
   "authorship_tag": "ABX9TyOmr3pvfOzzdoGljA7I8uG4",
   "provenance": []
  },
  "kernelspec": {
   "display_name": "Python 3",
   "name": "python3"
  },
  "language_info": {
   "name": "python"
  }
 },
 "nbformat": 4,
 "nbformat_minor": 0
}
